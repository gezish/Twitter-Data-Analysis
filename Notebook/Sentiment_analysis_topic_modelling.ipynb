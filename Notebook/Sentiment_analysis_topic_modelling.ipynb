{
 "cells": [
  {
   "cell_type": "markdown",
   "id": "c34d4f41",
   "metadata": {},
   "source": [
    "# Topic modelling and sentiment analysis\n",
    "## Objective:\n",
    "- write a code using scikit-learn, Gensim, or other packages and APIs to model the topics discussed in the tweets data and their sentiments. \n",
    "- word clouds, k-mean clustering, and the like model can for topic modelling."
   ]
  },
  {
   "cell_type": "code",
   "execution_count": 34,
   "id": "b460d153",
   "metadata": {},
   "outputs": [],
   "source": [
    "import re\n",
    "import warnings\n",
    "import gensim\n",
    "import string\n",
    "import pandas as pd\n",
    "import numpy as np\n",
    "import matplotlib.pyplot as plt\n",
    "import seaborn as sns\n",
    "import matplotlib.pyplot as plt\n",
    "from pprint import pprint\n",
    "from gensim import corpora\n",
    "from wordcloud import WordCloud, STOPWORDS\n",
    "from gensim.models import CoherenceModel\n",
    "from nltk.stem import WordNetLemmatizer\n",
    "\n",
    "warnings.filterwarnings('ignore')"
   ]
  },
  {
   "cell_type": "code",
   "execution_count": null,
   "id": "0a594ede",
   "metadata": {},
   "outputs": [],
   "source": []
  },
  {
   "cell_type": "code",
   "execution_count": 35,
   "id": "e372c11f",
   "metadata": {},
   "outputs": [
    {
     "data": {
      "text/plain": [
       "(16472, 16)"
      ]
     },
     "execution_count": 35,
     "metadata": {},
     "output_type": "execute_result"
    }
   ],
   "source": [
    "tweets = pd.read_csv(\"./my_clean_data.csv\")\n",
    "tweets[:5]\n",
    "tweets.shape"
   ]
  },
  {
   "cell_type": "code",
   "execution_count": 36,
   "id": "b858bedc",
   "metadata": {},
   "outputs": [
    {
     "name": "stdout",
     "output_type": "stream",
     "text": [
      "<class 'pandas.core.frame.DataFrame'>\n",
      "RangeIndex: 16472 entries, 0 to 16471\n",
      "Data columns (total 16 columns):\n",
      " #   Column              Non-Null Count  Dtype  \n",
      "---  ------              --------------  -----  \n",
      " 0   created_at          16472 non-null  object \n",
      " 1   original_text       16472 non-null  object \n",
      " 2   polarity            16472 non-null  float64\n",
      " 3   subjectivity        16472 non-null  float64\n",
      " 4   lang                16472 non-null  object \n",
      " 5   favorite_count      16472 non-null  int64  \n",
      " 6   retweet_count       16472 non-null  int64  \n",
      " 7   original_author     16472 non-null  object \n",
      " 8   followers_count     16472 non-null  int64  \n",
      " 9   friends_count       16472 non-null  int64  \n",
      " 10  possibly_sensitive  16472 non-null  bool   \n",
      " 11  hashtags            16472 non-null  object \n",
      " 12  place               16472 non-null  object \n",
      " 13  hashtags_in_tweets  16472 non-null  object \n",
      " 14  screen_name         16472 non-null  object \n",
      " 15  device              16472 non-null  object \n",
      "dtypes: bool(1), float64(2), int64(4), object(9)\n",
      "memory usage: 1.9+ MB\n"
     ]
    }
   ],
   "source": [
    "tweets.info()"
   ]
  },
  {
   "cell_type": "markdown",
   "id": "63701517",
   "metadata": {},
   "source": [
    "## 1. Feature Extraction"
   ]
  },
  {
   "cell_type": "markdown",
   "id": "c1c1e9e4",
   "metadata": {},
   "source": [
    "- **I have created a dataset containg only the columns important for topic modeling**"
   ]
  },
  {
   "cell_type": "code",
   "execution_count": 37,
   "id": "eeee7810",
   "metadata": {},
   "outputs": [
    {
     "data": {
      "text/html": [
       "<div>\n",
       "<style scoped>\n",
       "    .dataframe tbody tr th:only-of-type {\n",
       "        vertical-align: middle;\n",
       "    }\n",
       "\n",
       "    .dataframe tbody tr th {\n",
       "        vertical-align: top;\n",
       "    }\n",
       "\n",
       "    .dataframe thead th {\n",
       "        text-align: right;\n",
       "    }\n",
       "</style>\n",
       "<table border=\"1\" class=\"dataframe\">\n",
       "  <thead>\n",
       "    <tr style=\"text-align: right;\">\n",
       "      <th></th>\n",
       "      <th>clean_text</th>\n",
       "    </tr>\n",
       "  </thead>\n",
       "  <tbody>\n",
       "    <tr>\n",
       "      <th>0</th>\n",
       "      <td>rt  northstarcharts  the    year yield is tell...</td>\n",
       "    </tr>\n",
       "    <tr>\n",
       "      <th>1</th>\n",
       "      <td>rt  michaelaarouet  german   y mortgage rate w...</td>\n",
       "    </tr>\n",
       "    <tr>\n",
       "      <th>2</th>\n",
       "      <td>rt  goldseek  when</td>\n",
       "    </tr>\n",
       "    <tr>\n",
       "      <th>3</th>\n",
       "      <td>rt  charliebilello  the    year mortgage rate ...</td>\n",
       "    </tr>\n",
       "    <tr>\n",
       "      <th>4</th>\n",
       "      <td>rt  biancoresearch  rates rise until something...</td>\n",
       "    </tr>\n",
       "  </tbody>\n",
       "</table>\n",
       "</div>"
      ],
      "text/plain": [
       "                                          clean_text\n",
       "0  rt  northstarcharts  the    year yield is tell...\n",
       "1  rt  michaelaarouet  german   y mortgage rate w...\n",
       "2                               rt  goldseek  when  \n",
       "3  rt  charliebilello  the    year mortgage rate ...\n",
       "4  rt  biancoresearch  rates rise until something..."
      ]
     },
     "execution_count": 37,
     "metadata": {},
     "output_type": "execute_result"
    }
   ],
   "source": [
    "df = pd.DataFrame(columns=['clean_text'])\n",
    "df['clean_text'] = tweets['original_text'].astype(str)\n",
    "df[:5]"
   ]
  },
  {
   "cell_type": "markdown",
   "id": "bb93f59e",
   "metadata": {},
   "source": [
    "## 2. Data Pre-processing"
   ]
  },
  {
   "cell_type": "markdown",
   "id": "734bcd9b",
   "metadata": {},
   "source": [
    "- **Get stop words from my data frame**"
   ]
  },
  {
   "cell_type": "code",
   "execution_count": 38,
   "id": "97383355",
   "metadata": {},
   "outputs": [
    {
     "name": "stdout",
     "output_type": "stream",
     "text": [
      "FREQ X: \n",
      " the    10229\n",
      "rt      8286\n",
      "to      6412\n",
      "of      4737\n",
      "a       4593\n",
      "in      4204\n",
      "and     3902\n",
      "is      3876\n",
      "s       3080\n",
      "for     2773\n",
      "dtype: int64\n"
     ]
    }
   ],
   "source": [
    "freqX = pd.Series(\n",
    "    ' '.join(df['clean_text']).split()).value_counts()[:10]\n",
    "\n",
    "print('FREQ X: \\n', freqX)"
   ]
  },
  {
   "cell_type": "markdown",
   "id": "19fe8ead",
   "metadata": {},
   "source": [
    "- **Remove stopwords**"
   ]
  },
  {
   "cell_type": "code",
   "execution_count": 40,
   "id": "bae08e7d",
   "metadata": {},
   "outputs": [],
   "source": [
    "custom_stopwords = ['t', 'rt', 'ti', 'vk', 'to', 'co',\n",
    "                    'dqlw','y', 'mla','z', 'nd', 'm', 's', 'kur', 'u', 'o', 'd']\n",
    "STOP_WORDS = STOPWORDS.union(custom_stopwords)"
   ]
  },
  {
   "cell_type": "markdown",
   "id": "5520ecc5",
   "metadata": {},
   "source": [
    "- **Tokeniziation**"
   ]
  },
  {
   "cell_type": "code",
   "execution_count": 41,
   "id": "a3696d96",
   "metadata": {},
   "outputs": [
    {
     "data": {
      "text/plain": [
       "0        rt  northstarcharts  the    year yield is tell...\n",
       "1        rt  michaelaarouet  german   y mortgage rate w...\n",
       "2                                     rt  goldseek  when  \n",
       "3        rt  charliebilello  the    year mortgage rate ...\n",
       "4        rt  biancoresearch  rates rise until something...\n",
       "                               ...                        \n",
       "16467    rt  charanjitchanni  best wishes  amp  heartfe...\n",
       "16468    rt  pbhushan   thank you  bajpayeemanoj for th...\n",
       "16469                        rt  s shreyatweets  agree    \n",
       "16470    rt  tejjinc     peace yatra by late sunil dutt...\n",
       "16471    rt  parthtiwari    gujarat congress mla arrest...\n",
       "Name: clean_text, Length: 16472, dtype: object"
      ]
     },
     "execution_count": 41,
     "metadata": {},
     "output_type": "execute_result"
    }
   ],
   "source": [
    "df['clean_text'] "
   ]
  },
  {
   "cell_type": "code",
   "execution_count": 42,
   "id": "e16e0a5e",
   "metadata": {},
   "outputs": [
    {
     "data": {
      "text/plain": [
       "0        [northstarcharts, year, yield, telling, us, hi...\n",
       "1        [michaelaarouet, german, mortgage, rate, went,...\n",
       "2                                               [goldseek]\n",
       "3        [charliebilello, year, mortgage, rate, us, ris...\n",
       "4        [biancoresearch, rates, rise, something, break...\n",
       "                               ...                        \n",
       "16467    [charanjitchanni, best, wishes, amp, heartfelt...\n",
       "16468    [pbhushan, thank, bajpayeemanoj, beautiful, me...\n",
       "16469                                [shreyatweets, agree]\n",
       "16470    [tejjinc, peace, yatra, late, sunil, dutt, mum...\n",
       "16471    [parthtiwari, gujarat, congress, arrested, twe...\n",
       "Name: clean_text, Length: 16472, dtype: object"
      ]
     },
     "execution_count": 42,
     "metadata": {},
     "output_type": "execute_result"
    }
   ],
   "source": [
    "df['clean_text'] = df['clean_text'].apply(\n",
    "    lambda x: [item for item in x.split() if item not in STOP_WORDS])\n",
    "\n",
    "df['clean_text']"
   ]
  },
  {
   "cell_type": "code",
   "execution_count": 43,
   "id": "7042eb9a",
   "metadata": {},
   "outputs": [
    {
     "name": "stdout",
     "output_type": "stream",
     "text": [
      "[['northstarcharts', 'year', 'yield', 'telling', 'us', 'high', 'risk', 'something', 'breaking', 'system', '#gold', '#silver', '#crypto', '#'], ['michaelaarouet', 'german', 'mortgage', 'rate', 'went', 'hear', 'sound', 'german', 'real', 'estate', 'bubble', 'bursting'], ['goldseek'], ['charliebilello', 'year', 'mortgage', 'rate', 'us', 'rises', 'highest', 'level', 'last', 'year', 'hit', 'time', 'low'], ['biancoresearch', 'rates', 'rise', 'something', 'breaks', 'anything', 'broken', 'yet']]\n"
     ]
    }
   ],
   "source": [
    "sentence_list = [sent for sent in df['clean_text']]\n",
    "print(sentence_list[:5])"
   ]
  },
  {
   "cell_type": "code",
   "execution_count": 44,
   "id": "6941ab9b",
   "metadata": {},
   "outputs": [
    {
     "name": "stdout",
     "output_type": "stream",
     "text": [
      "[['northstarcharts', 'year', 'yield', 'telling', 'us', 'high', 'risk', 'something', 'breaking', 'system', '#gold', '#silver', '#crypto', '#'], ['michaelaarouet', 'german', 'mortgage', 'rate', 'went', 'hear', 'sound', 'german', 'real', 'estate', 'bubble', 'bursting'], ['goldseek'], ['charliebilello', 'year', 'mortgage', 'rate', 'us', 'rises', 'highest', 'level', 'last', 'year', 'hit', 'time', 'low'], ['biancoresearch', 'rates', 'rise', 'something', 'breaks', 'anything', 'broken', 'yet']]\n"
     ]
    }
   ],
   "source": [
    "word_list = [sent for sent in sentence_list]\n",
    "print(word_list[:5])"
   ]
  },
  {
   "cell_type": "markdown",
   "id": "60982f19",
   "metadata": {},
   "source": [
    "- **Lemmatization**"
   ]
  },
  {
   "cell_type": "code",
   "execution_count": 45,
   "id": "5c8502fe",
   "metadata": {},
   "outputs": [
    {
     "name": "stdout",
     "output_type": "stream",
     "text": [
      "[['northstarcharts', 'year', 'yield', 'telling', 'u', 'high', 'risk', 'something', 'breaking', 'system', '#gold', '#silver', '#crypto', '#'], ['michaelaarouet', 'german', 'mortgage', 'rate', 'went', 'hear', 'sound', 'german', 'real', 'estate', 'bubble', 'bursting'], ['goldseek'], ['charliebilello', 'year', 'mortgage', 'rate', 'u', 'rise', 'highest', 'level', 'last', 'year', 'hit', 'time', 'low'], ['biancoresearch', 'rate', 'rise', 'something', 'break', 'anything', 'broken', 'yet']]\n"
     ]
    }
   ],
   "source": [
    "lemmatizer = WordNetLemmatizer()\n",
    "word_list_lematized = []\n",
    "\n",
    "for w in word_list:\n",
    "    word_list_lematized.append([lemmatizer.lemmatize(x) for x in w])\n",
    "print(word_list_lematized[:5])"
   ]
  },
  {
   "cell_type": "markdown",
   "id": "00243f7a",
   "metadata": {},
   "source": [
    "- **Modeling**"
   ]
  },
  {
   "cell_type": "code",
   "execution_count": 46,
   "id": "245f125d",
   "metadata": {},
   "outputs": [],
   "source": [
    "id2word = corpora.Dictionary(word_list_lematized) #dictionery with ID and WORD\n",
    "corpus = [id2word.doc2bow(tweet) for tweet in word_list]"
   ]
  },
  {
   "cell_type": "code",
   "execution_count": 47,
   "id": "2bad666c",
   "metadata": {},
   "outputs": [
    {
     "name": "stdout",
     "output_type": "stream",
     "text": [
      "(16472,)\n",
      "(29722,)\n",
      "(16472,)\n"
     ]
    }
   ],
   "source": [
    "print(np.array(word_list).shape)\n",
    "print(np.array(id2word).shape)\n",
    "print(np.array(corpus).shape)"
   ]
  },
  {
   "cell_type": "markdown",
   "id": "9d354f63",
   "metadata": {},
   "source": [
    "- **Build my Latent Dirichlet Allocation (LDA)Model**"
   ]
  },
  {
   "cell_type": "code",
   "execution_count": 48,
   "id": "86ed9a44",
   "metadata": {},
   "outputs": [],
   "source": [
    "lda_model = gensim.models.ldamodel.LdaModel(corpus,\n",
    "                                            id2word=id2word,\n",
    "                                            num_topics=7,\n",
    "                                            random_state=100,\n",
    "                                            update_every=1,\n",
    "                                            chunksize=100,\n",
    "                                            passes=10,\n",
    "                                            alpha='auto',\n",
    "                                            per_word_topics=True)"
   ]
  },
  {
   "cell_type": "markdown",
   "id": "d2b50769",
   "metadata": {},
   "source": [
    "- **see my pretty-print**"
   ]
  },
  {
   "cell_type": "code",
   "execution_count": 49,
   "id": "f6b216d8",
   "metadata": {},
   "outputs": [
    {
     "name": "stdout",
     "output_type": "stream",
     "text": [
      "[(0,\n",
      "  '0.036*\"will\" + 0.033*\"follow\" + 0.023*\"people\" + 0.020*\"today\" + '\n",
      "  '0.013*\"know\" + 0.012*\"profile\" + 0.011*\"need\" + 0.010*\"even\" + 0.009*\"good\" '\n",
      "  '+ 0.009*\"never\"'),\n",
      " (1,\n",
      "  '0.022*\"sri\" + 0.021*\"man\" + 0.017*\"aitcofficial\" + 0.017*\"lanka\" + '\n",
      "  '0.013*\"th\" + 0.012*\"still\" + 0.012*\"going\" + 0.012*\"may\" + 0.009*\"april\" + '\n",
      "  '0.009*\"next\"'),\n",
      " (2,\n",
      "  '0.034*\"one\" + 0.026*\"#srilanka\" + 0.019*\"day\" + 0.016*\"#\" + 0.015*\"online\" '\n",
      "  '+ 0.015*\"cartoon\" + 0.014*\"#lka\" + 0.012*\"make\" + 0.011*\"two\" + '\n",
      "  '0.011*\"don\"'),\n",
      " (3,\n",
      "  '0.041*\"amp\" + 0.014*\"pm\" + 0.012*\"minister\" + 0.011*\"government\" + '\n",
      "  '0.010*\"last\" + 0.009*\"#covid\" + 0.009*\"take\" + 0.007*\"p\" + '\n",
      "  '0.007*\"mamataofficial\" + 0.007*\"narendramodi\"'),\n",
      " (4,\n",
      "  '0.020*\"go\" + 0.018*\"new\" + 0.017*\"world\" + 0.014*\"power\" + 0.014*\"country\" '\n",
      "  '+ 0.010*\"president\" + 0.009*\"covid\" + 0.009*\"first\" + 0.008*\"crisis\" + '\n",
      "  '0.008*\"news\"'),\n",
      " (5,\n",
      "  '0.055*\"india\" + 0.022*\"read\" + 0.021*\"please\" + 0.018*\"full\" + '\n",
      "  '0.013*\"police\" + 0.012*\"bjp\" + 0.012*\"chart\" + 0.010*\"many\" + 0.010*\"h\" + '\n",
      "  '0.009*\"protest\"'),\n",
      " (6,\n",
      "  '0.022*\"back\" + 0.022*\"now\" + 0.019*\"us\" + 0.014*\"sec\" + 0.013*\"time\" + '\n",
      "  '0.010*\"year\" + 0.008*\"#ukraine\" + 0.008*\"best\" + 0.008*\"ve\" + '\n",
      "  '0.008*\"tamil\"')]\n"
     ]
    }
   ],
   "source": [
    "pprint(lda_model.show_topics(formatted=True)) "
   ]
  },
  {
   "cell_type": "markdown",
   "id": "071eab46",
   "metadata": {},
   "source": [
    "- **Check the model using Perplexity**\n",
    "- Perplexity is a metric used to judge how good a language model is. for more use the follwing link \n",
    "- https://towardsdatascience.com/perplexity-in-language-models-87a196019a94"
   ]
  },
  {
   "cell_type": "code",
   "execution_count": 50,
   "id": "56a24446",
   "metadata": {},
   "outputs": [
    {
     "name": "stdout",
     "output_type": "stream",
     "text": [
      "\n",
      "Perplexity:  -10.972058569345505\n"
     ]
    }
   ],
   "source": [
    "print('\\nPerplexity: ', lda_model.log_perplexity(corpus)) "
   ]
  },
  {
   "cell_type": "markdown",
   "id": "8adcd65b",
   "metadata": {},
   "source": [
    "- The lower the score the better the model will be.\n",
    "- https://www.tutorialspoint.com/gensim/gensim_using_lda_topic_model.htm"
   ]
  },
  {
   "cell_type": "markdown",
   "id": "24264e03",
   "metadata": {},
   "source": [
    "- **Ceck the Coherence Score**"
   ]
  },
  {
   "cell_type": "code",
   "execution_count": 51,
   "id": "dc2a60d1",
   "metadata": {},
   "outputs": [
    {
     "name": "stdout",
     "output_type": "stream",
     "text": [
      "\n",
      " Ldamodel Coherence Score/Accuracy on Tweets:  0.48474655206387596\n"
     ]
    }
   ],
   "source": [
    "doc_lda = lda_model[corpus]\n",
    "coherence_model_lda = CoherenceModel(\n",
    "    model=lda_model, texts=word_list, dictionary=id2word, coherence='c_v')\n",
    "coherence_lda = coherence_model_lda.get_coherence()\n",
    "print('\\n Ldamodel Coherence Score/Accuracy on Tweets: ', coherence_lda) "
   ]
  },
  {
   "cell_type": "markdown",
   "id": "2749e5ed",
   "metadata": {},
   "source": [
    "The LDA model (lda_model) we have created above can be used to compute the model’s perplexity, \n",
    "i.e. how good the model is. The lower the score the better the model will be\n",
    "The LDA model (lda_model) we have created above can be used to compute the model’s coherence score i.e. the average /median of the pairwise word-similarity scores of the words in the topic."
   ]
  },
  {
   "cell_type": "markdown",
   "id": "21a53e85",
   "metadata": {},
   "source": [
    "## 3. Data Visualization"
   ]
  },
  {
   "cell_type": "code",
   "execution_count": 52,
   "id": "5db9adff",
   "metadata": {},
   "outputs": [],
   "source": [
    "import pyLDAvis.gensim_models as gensimvis\n",
    "import pyLDAvis"
   ]
  },
  {
   "cell_type": "code",
   "execution_count": 53,
   "id": "cfc4a539",
   "metadata": {},
   "outputs": [
    {
     "data": {
      "text/html": [
       "\n",
       "<link rel=\"stylesheet\" type=\"text/css\" href=\"https://cdn.jsdelivr.net/gh/bmabey/pyLDAvis@3.3.1/pyLDAvis/js/ldavis.v1.0.0.css\">\n",
       "\n",
       "\n",
       "<div id=\"ldavis_el599625208499184326509671208\"></div>\n",
       "<script type=\"text/javascript\">\n",
       "\n",
       "var ldavis_el599625208499184326509671208_data = {\"mdsDat\": {\"x\": [0.30456644287452844, -0.08567924483366421, -0.019737379902881318, -0.094216771561547, -0.027543511235929276, -0.05028129877131742, -0.027108236569189145], \"y\": [-0.024928348669380623, 0.17117202128063727, 0.0952288371195907, -0.26599222441021536, -0.003024344003993263, 0.01120970113682148, 0.0163343575465398], \"topics\": [1, 2, 3, 4, 5, 6, 7], \"cluster\": [1, 1, 1, 1, 1, 1, 1], \"Freq\": [16.654701326316225, 16.141297290182365, 15.911929182242638, 15.55594776344801, 13.304697482318705, 11.219268694174984, 11.212158261317073]}, \"tinfo\": {\"Term\": [\"india\", \"amp\", \"will\", \"one\", \"follow\", \"people\", \"back\", \"now\", \"today\", \"#srilanka\", \"day\", \"us\", \"read\", \"sri\", \"go\", \"please\", \"man\", \"new\", \"#\", \"world\", \"full\", \"online\", \"cartoon\", \"sec\", \"aitcofficial\", \"lanka\", \"pm\", \"time\", \"know\", \"power\", \"will\", \"follow\", \"people\", \"today\", \"know\", \"need\", \"even\", \"profile\", \"good\", \"never\", \"tomorrow\", \"big\", \"part\", \"want\", \"wordle\", \"govt\", \"delhi\", \"said\", \"life\", \"min\", \"live\", \"better\", \"great\", \"much\", \"happy\", \"face\", \"way\", \"business\", \"court\", \"thanks\", \"back\", \"now\", \"us\", \"time\", \"sec\", \"year\", \"#ukraine\", \"best\", \"ve\", \"price\", \"tamil\", \"national\", \"think\", \"right\", \"love\", \"russian\", \"re\", \"see\", \"hate\", \"always\", \"working\", \"war\", \"bank\", \"south\", \"check\", \"top\", \"give\", \"lost\", \"abhishekaitc\", \"ukraine\", \"one\", \"day\", \"#\", \"online\", \"make\", \"two\", \"don\", \"army\", \"state\", \"cartoon\", \"let\", \"high\", \"twitter\", \"#earthday\", \"everyone\", \"support\", \"delivery\", \"join\", \"russia\", \"across\", \"political\", \"c\", \"earth\", \"central\", \"gujarat\", \"china\", \"continue\", \"billion\", \"already\", \"hour\", \"#srilankacrisis\", \"marvin\", \"#srilanka\", \"#lka\", \"#economiccrisislk\", \"#srilankaprotests\", \"sl\", \"#gohomegota\", \"amp\", \"pm\", \"minister\", \"government\", \"last\", \"#covid\", \"take\", \"p\", \"mamataofficial\", \"narendramodi\", \"mr\", \"public\", \"well\", \"#fuelpricehike\", \"story\", \"indian\", \"say\", \"watch\", \"food\", \"ani\", \"modi\", \"long\", \"ji\", \"old\", \"per\", \"peace\", \"supply\", \"gas\", \"believe\", \"youth\", \"go\", \"new\", \"world\", \"power\", \"country\", \"president\", \"covid\", \"first\", \"crisis\", \"news\", \"change\", \"thank\", \"coal\", \"johnson\", \"catch\", \"several\", \"come\", \"really\", \"hospital\", \"making\", \"visit\", \"dr\", \"facebook\", \"global\", \"energy\", \"important\", \"help\", \"former\", \"past\", \"killed\", \"india\", \"read\", \"please\", \"full\", \"police\", \"bjp\", \"many\", \"h\", \"protest\", \"must\", \"uk\", \"chart\", \"person\", \"stop\", \"leader\", \"every\", \"towards\", \"boris\", \"justice\", \"poor\", \"three\", \"ll\", \"nation\", \"official\", \"understand\", \"social\", \"daily\", \"british\", \"home\", \"million\", \"sri\", \"man\", \"aitcofficial\", \"lanka\", \"th\", \"still\", \"going\", \"may\", \"april\", \"next\", \"week\", \"fuel\", \"made\", \"another\", \"free\", \"st\", \"trading\", \"bear\", \"work\", \"target\", \"zoo\", \"buy\", \"upside\", \"congress\", \"speech\", \"anyone\", \"won\", \"report\", \"money\", \"auto\", \"#nifty\"], \"Freq\": [948.0, 978.0, 915.0, 848.0, 844.0, 592.0, 556.0, 549.0, 516.0, 725.0, 474.0, 471.0, 389.0, 379.0, 407.0, 358.0, 356.0, 373.0, 399.0, 346.0, 310.0, 366.0, 366.0, 359.0, 294.0, 290.0, 340.0, 333.0, 334.0, 294.0, 914.438548606086, 843.8983855822812, 591.8404819184456, 515.646613630739, 333.37274393970426, 283.4160913088681, 263.52406798903303, 304.6900106100318, 243.94408956163034, 225.415920929819, 204.8096492770369, 198.22611061092314, 192.67747851008667, 187.05409364017854, 185.55292865742734, 182.0750201375379, 178.9469162421504, 177.04716566123386, 170.78896925512774, 173.31078506674672, 139.2501530440597, 136.53321333778706, 135.7471472403233, 128.03050514225276, 127.05915041029684, 126.29565389887969, 121.48125212118438, 118.00088778115718, 114.51157467214014, 112.33220800422022, 555.5777089954196, 548.7626354600723, 470.7649998392932, 332.9241861355872, 358.45674818752406, 240.61706025469059, 202.31871642065227, 201.76009736446045, 199.79210126143974, 195.40648770672468, 196.7713972184242, 193.1988313269049, 191.73639510630545, 163.18719262422388, 160.81233599025313, 159.9764624330458, 145.40592568210616, 140.54204811313932, 137.41706015353577, 137.2686918424605, 137.15365676724855, 125.78140394177974, 118.04718761634058, 116.8491881007298, 114.76031693028563, 111.65269801312425, 110.48410744437581, 110.51699948798456, 110.56449731728333, 108.00567512348886, 847.6416683055037, 473.22120897244145, 398.78090328195816, 365.9799562944454, 287.6408643382473, 281.50922965892244, 275.78021913635746, 258.98386279087083, 250.53557692131997, 364.7116982123895, 197.100605436117, 189.328498785317, 188.08012125816165, 148.0363687953995, 144.1351675630272, 137.53380470081584, 137.9923278962253, 134.12031227985557, 133.52441067312114, 130.36234947268795, 120.72498438049514, 100.35311538654545, 98.86965058382445, 91.52684145374276, 90.58870702469451, 89.18731675230852, 86.51980295370363, 83.27069994554519, 82.28508452512965, 81.69849942483681, 234.83623348666174, 100.17519758232599, 634.9896390038332, 334.42719226331474, 210.9500615204771, 116.62909792137643, 116.27277016333431, 119.40523371553904, 978.0946687896383, 339.7184086101735, 293.53998465922245, 267.06969534912577, 251.93352479840865, 220.55069195173144, 218.9015928001546, 176.92627817056484, 173.76792354707626, 166.2735532790496, 161.21933102011988, 158.13570962886712, 149.0559631853952, 148.98231531377127, 147.1430095122802, 146.7565204308821, 143.94282934273718, 143.9755132432254, 140.46408074232974, 128.40828669031433, 114.00229528857369, 111.591452015998, 110.95310332621592, 110.14916441276893, 108.34619021856483, 107.80704572656731, 106.03398049025607, 104.76352673153153, 101.72566951453308, 98.80676558274187, 406.4486344930349, 372.4759468572064, 346.0886519127879, 293.43056691230305, 291.579752685465, 212.07350183426442, 180.8675516924341, 177.27479128622744, 164.95138001554713, 158.91339503049582, 147.43284982986037, 141.94057358873087, 130.14580779468702, 125.50547953086756, 116.4857388300754, 113.97723756963191, 112.57559016838998, 112.28455762693467, 108.84143336614235, 107.0009929933353, 106.33368813380628, 100.37619621725587, 102.99472349227014, 95.8650913399502, 88.49722420400629, 87.03799425691133, 83.93529318393422, 78.84408985379484, 78.43346610671341, 77.22209853914207, 947.6467944272948, 388.3631991183067, 357.50025595506304, 309.9366653437762, 232.65745131644084, 203.36014139683041, 169.5847240048942, 165.79730670027325, 151.36329604902312, 144.53772324413137, 134.57705879962137, 199.6080058771934, 125.2383851093742, 118.96841164862113, 117.84780340835583, 109.2762260935509, 107.69453366599319, 103.56336105602892, 97.95744695546765, 97.53413009519372, 95.52115577493318, 94.4854352511011, 91.79171293127393, 90.9366219118553, 90.19330765451637, 89.51065514871549, 86.09715052146092, 85.96210004760313, 80.92765079650496, 80.08266334405793, 378.34117309865405, 355.63823294005743, 294.0846007788833, 289.5819755016934, 230.31731872207237, 214.8380120145667, 213.7928910595475, 202.20204077971763, 153.82486844173644, 147.26859944027768, 145.76154131370518, 140.18076154934266, 134.81341743645467, 130.26604043321026, 127.0810385568235, 126.18486689510047, 128.18650054884753, 119.87775266472252, 110.44516304741686, 110.54922351259637, 113.76533949226628, 96.91572186795203, 97.99317471515945, 89.0356598728929, 83.21433857288409, 81.29257090275887, 80.56398634995858, 79.89812195818294, 75.36260831572896, 75.26063664079061, 77.44178528286834], \"Total\": [948.0, 978.0, 915.0, 848.0, 844.0, 592.0, 556.0, 549.0, 516.0, 725.0, 474.0, 471.0, 389.0, 379.0, 407.0, 358.0, 356.0, 373.0, 399.0, 346.0, 310.0, 366.0, 366.0, 359.0, 294.0, 290.0, 340.0, 333.0, 334.0, 294.0, 915.3259186179286, 844.7962348067149, 592.7282936655602, 516.534634741795, 334.2610832391722, 284.30510418554417, 264.41259254486283, 305.7675967090697, 244.83089226021536, 226.30395745072784, 205.70208915573144, 199.11401460843123, 193.56694612687707, 187.9424754726186, 186.45029468229032, 182.96499480831997, 179.83532966044973, 177.93546601480082, 171.67703353082499, 174.22523799098434, 140.13758820966066, 137.42205779361532, 136.6343448800462, 128.9176175300146, 127.94610013095128, 127.18522289726194, 122.36892960262317, 118.88827621240011, 115.4006476629146, 113.22109131611421, 556.4586133606475, 549.6421620172877, 471.6452995831131, 333.8028505258391, 359.44378991323083, 241.49638163636212, 203.20000886742838, 202.63939243431395, 200.67241064765506, 196.2855043103669, 197.66672480767778, 194.0786758367128, 192.6163920355155, 164.06665257187197, 161.69246332909452, 160.85582412664155, 146.2843238561909, 141.42066450571363, 138.29655405827444, 138.14740568519437, 138.03364098667885, 126.66076987847866, 118.92799371145588, 117.73040707605735, 115.640983136417, 112.53176447145613, 111.36329226731392, 111.39719141800069, 111.45780652570427, 108.88361830267552, 848.5234979754667, 474.10201844556497, 399.66222129170404, 366.88246077356536, 288.5228185509835, 282.39106794508257, 276.66131386544805, 259.8708716903046, 251.4171653427863, 366.1603669681843, 197.98133971800488, 190.2096131664714, 188.96426701268416, 148.9198621754853, 145.01659939147922, 138.415618960413, 138.88179015417865, 135.00151131088484, 134.40571303232207, 131.24664644487393, 121.60633378581618, 101.23531577572628, 99.75094070548035, 92.40880473211317, 91.47906445952475, 90.07112394514391, 87.40199603665141, 84.15175455640077, 83.17234079829672, 82.58431886229924, 241.77932748789152, 101.48888571184696, 725.3972275715894, 482.0242121325382, 285.78746950989984, 148.3477904228252, 153.10762480447707, 204.0011978547165, 978.9792671258837, 340.6026876430388, 294.4241215417506, 267.95473049660023, 252.8172987652042, 221.4361255386073, 219.78583485611628, 177.81022020048815, 174.65088271854205, 167.15635525152734, 162.10222030994555, 159.02155156024563, 149.93989432521616, 149.86973947636127, 148.02808114509878, 147.64175892947486, 144.8270318571272, 144.86018886807835, 141.3494437067045, 129.29657581644076, 114.88620214717449, 112.47437524735928, 111.83915670395017, 111.0337200796066, 109.23025519207519, 108.6919197552099, 106.91909739097038, 105.64912330844436, 102.61170181181829, 99.69363283907221, 407.34747978610994, 373.3715633672546, 346.9854374891151, 294.327948806417, 292.4771493714697, 212.9708774894159, 181.7632602073376, 178.17105365871268, 165.8482498375994, 159.80894768835128, 148.3304541563893, 142.8375656761093, 131.05798150363182, 126.40225375278179, 117.38644810126594, 114.87737189022965, 113.47137973473752, 113.18139782720714, 109.74136969430056, 107.89701733392455, 107.23266725612459, 101.27320477268867, 103.91933217484075, 96.76143127434862, 89.39335126801953, 87.93682987725057, 84.83078016649041, 79.74013191918968, 79.33103889849372, 78.12151220735056, 948.549048406282, 389.2666083518318, 358.4053508627289, 310.84235325839614, 233.56067669836023, 204.26078327046193, 170.48713934839716, 166.7004466851695, 152.26629766969504, 145.4397153610644, 135.4779896494151, 201.03932546820215, 126.14110959703774, 119.87036531688875, 118.75118054215312, 110.17769441816661, 108.59797015174026, 104.46551223301181, 98.86017977255084, 98.43846736713297, 96.42430707135858, 95.38785462050788, 92.69556164172877, 91.8389279089331, 91.10148646003854, 90.41420702090024, 87.00048475901268, 86.864388903992, 81.82907252849743, 80.98450079372986, 379.23653842306896, 356.53545418927246, 294.97807655688024, 290.4789001539568, 231.2110354011939, 215.73228799215377, 214.68719754356061, 203.09561952158143, 154.718972692595, 148.1619986741437, 146.65462646913537, 141.07449398337783, 135.7076894594505, 131.15995714692065, 127.97641730440581, 127.08248863423456, 129.09865623537098, 120.78629375515189, 111.33839485967087, 111.45571104294558, 114.71274638543362, 97.80952460435279, 98.96553814637667, 89.93139346587328, 84.11026520547786, 82.18785118262844, 81.45789171446431, 80.79268126415698, 76.255620281518, 76.15931328742495, 108.35394185814032], \"Category\": [\"Default\", \"Default\", \"Default\", \"Default\", \"Default\", \"Default\", \"Default\", \"Default\", \"Default\", \"Default\", \"Default\", \"Default\", \"Default\", \"Default\", \"Default\", \"Default\", \"Default\", \"Default\", \"Default\", \"Default\", \"Default\", \"Default\", \"Default\", \"Default\", \"Default\", \"Default\", \"Default\", \"Default\", \"Default\", \"Default\", \"Topic1\", \"Topic1\", \"Topic1\", \"Topic1\", \"Topic1\", \"Topic1\", \"Topic1\", \"Topic1\", \"Topic1\", \"Topic1\", \"Topic1\", \"Topic1\", \"Topic1\", \"Topic1\", \"Topic1\", \"Topic1\", \"Topic1\", \"Topic1\", \"Topic1\", \"Topic1\", \"Topic1\", \"Topic1\", \"Topic1\", \"Topic1\", \"Topic1\", \"Topic1\", \"Topic1\", \"Topic1\", \"Topic1\", \"Topic1\", \"Topic2\", \"Topic2\", \"Topic2\", \"Topic2\", \"Topic2\", \"Topic2\", \"Topic2\", \"Topic2\", \"Topic2\", \"Topic2\", \"Topic2\", \"Topic2\", \"Topic2\", \"Topic2\", \"Topic2\", \"Topic2\", \"Topic2\", \"Topic2\", \"Topic2\", \"Topic2\", \"Topic2\", \"Topic2\", \"Topic2\", \"Topic2\", \"Topic2\", \"Topic2\", \"Topic2\", \"Topic2\", \"Topic2\", \"Topic2\", \"Topic3\", \"Topic3\", \"Topic3\", \"Topic3\", \"Topic3\", \"Topic3\", \"Topic3\", \"Topic3\", \"Topic3\", \"Topic3\", \"Topic3\", \"Topic3\", \"Topic3\", \"Topic3\", \"Topic3\", \"Topic3\", \"Topic3\", \"Topic3\", \"Topic3\", \"Topic3\", \"Topic3\", \"Topic3\", \"Topic3\", \"Topic3\", \"Topic3\", \"Topic3\", \"Topic3\", \"Topic3\", \"Topic3\", \"Topic3\", \"Topic3\", \"Topic3\", \"Topic3\", \"Topic3\", \"Topic3\", \"Topic3\", \"Topic3\", \"Topic3\", \"Topic4\", \"Topic4\", \"Topic4\", \"Topic4\", \"Topic4\", \"Topic4\", \"Topic4\", \"Topic4\", \"Topic4\", \"Topic4\", \"Topic4\", \"Topic4\", \"Topic4\", \"Topic4\", \"Topic4\", \"Topic4\", \"Topic4\", \"Topic4\", \"Topic4\", \"Topic4\", \"Topic4\", \"Topic4\", \"Topic4\", \"Topic4\", \"Topic4\", \"Topic4\", \"Topic4\", \"Topic4\", \"Topic4\", \"Topic4\", \"Topic5\", \"Topic5\", \"Topic5\", \"Topic5\", \"Topic5\", \"Topic5\", \"Topic5\", \"Topic5\", \"Topic5\", \"Topic5\", \"Topic5\", \"Topic5\", \"Topic5\", \"Topic5\", \"Topic5\", \"Topic5\", \"Topic5\", \"Topic5\", \"Topic5\", \"Topic5\", \"Topic5\", \"Topic5\", \"Topic5\", \"Topic5\", \"Topic5\", \"Topic5\", \"Topic5\", \"Topic5\", \"Topic5\", \"Topic5\", \"Topic6\", \"Topic6\", \"Topic6\", \"Topic6\", \"Topic6\", \"Topic6\", \"Topic6\", \"Topic6\", \"Topic6\", \"Topic6\", \"Topic6\", \"Topic6\", \"Topic6\", \"Topic6\", \"Topic6\", \"Topic6\", \"Topic6\", \"Topic6\", \"Topic6\", \"Topic6\", \"Topic6\", \"Topic6\", \"Topic6\", \"Topic6\", \"Topic6\", \"Topic6\", \"Topic6\", \"Topic6\", \"Topic6\", \"Topic6\", \"Topic7\", \"Topic7\", \"Topic7\", \"Topic7\", \"Topic7\", \"Topic7\", \"Topic7\", \"Topic7\", \"Topic7\", \"Topic7\", \"Topic7\", \"Topic7\", \"Topic7\", \"Topic7\", \"Topic7\", \"Topic7\", \"Topic7\", \"Topic7\", \"Topic7\", \"Topic7\", \"Topic7\", \"Topic7\", \"Topic7\", \"Topic7\", \"Topic7\", \"Topic7\", \"Topic7\", \"Topic7\", \"Topic7\", \"Topic7\", \"Topic7\"], \"logprob\": [30.0, 29.0, 28.0, 27.0, 26.0, 25.0, 24.0, 23.0, 22.0, 21.0, 20.0, 19.0, 18.0, 17.0, 16.0, 15.0, 14.0, 13.0, 12.0, 11.0, 10.0, 9.0, 8.0, 7.0, 6.0, 5.0, 4.0, 3.0, 2.0, 1.0, -3.3369, -3.4172, -3.772, -3.9098, -4.346, -4.5083, -4.5811, -4.436, -4.6583, -4.7373, -4.8332, -4.8658, -4.8942, -4.9239, -4.9319, -4.9508, -4.9682, -4.9788, -5.0148, -5.0002, -5.219, -5.2387, -5.2445, -5.303, -5.3106, -5.3166, -5.3555, -5.3846, -5.4146, -5.4338, -3.8039, -3.8163, -3.9696, -4.316, -4.2421, -4.6407, -4.8141, -4.8169, -4.8267, -4.8489, -4.8419, -4.8602, -4.8678, -5.029, -5.0437, -5.0489, -5.1444, -5.1784, -5.2009, -5.202, -5.2028, -5.2894, -5.3529, -5.3631, -5.3811, -5.4086, -5.4191, -5.4188, -5.4183, -5.4418, -3.3672, -3.9501, -4.1212, -4.2071, -4.4479, -4.4695, -4.49, -4.5529, -4.586, -4.2105, -4.8259, -4.8662, -4.8728, -5.1122, -5.1389, -5.1858, -5.1824, -5.2109, -5.2154, -5.2393, -5.3161, -5.5009, -5.5158, -5.593, -5.6033, -5.6189, -5.6493, -5.6875, -5.6994, -5.7066, -4.6507, -5.5027, -3.656, -4.2972, -4.758, -5.3506, -5.3537, -5.3271, -3.2014, -4.2589, -4.405, -4.4995, -4.5578, -4.6909, -4.6984, -4.9113, -4.9293, -4.9734, -5.0042, -5.0236, -5.0827, -5.0832, -5.0956, -5.0982, -5.1176, -5.1174, -5.1421, -5.2318, -5.3508, -5.3722, -5.3779, -5.3852, -5.4017, -5.4067, -5.4232, -5.4353, -5.4647, -5.4938, -3.9232, -4.0105, -4.084, -4.249, -4.2554, -4.5737, -4.7329, -4.753, -4.825, -4.8623, -4.9373, -4.9753, -5.062, -5.0983, -5.1729, -5.1947, -5.2071, -5.2096, -5.2408, -5.2578, -5.2641, -5.3218, -5.296, -5.3677, -5.4477, -5.4643, -5.5006, -5.5632, -5.5684, -5.584, -2.9062, -3.7983, -3.8811, -4.0238, -4.3106, -4.4452, -4.6268, -4.6494, -4.7405, -4.7867, -4.8581, -4.4638, -4.93, -4.9813, -4.9908, -5.0663, -5.0809, -5.12, -5.1757, -5.18, -5.2009, -5.2118, -5.2407, -5.25, -5.2582, -5.2658, -5.3047, -5.3063, -5.3666, -5.3771, -3.8238, -3.8857, -4.0757, -4.0911, -4.3201, -4.3897, -4.3946, -4.4503, -4.7237, -4.7673, -4.7776, -4.8166, -4.8557, -4.89, -4.9147, -4.9218, -4.9061, -4.9731, -5.055, -5.0541, -5.0254, -5.1857, -5.1747, -5.2705, -5.3381, -5.3615, -5.3705, -5.3788, -5.4373, -5.4386, -5.41], \"loglift\": [30.0, 29.0, 28.0, 27.0, 26.0, 25.0, 24.0, 23.0, 22.0, 21.0, 20.0, 19.0, 18.0, 17.0, 16.0, 15.0, 14.0, 13.0, 12.0, 11.0, 10.0, 9.0, 8.0, 7.0, 6.0, 5.0, 4.0, 3.0, 2.0, 1.0, 1.7915, 1.7914, 1.791, 1.7908, 1.7898, 1.7893, 1.7891, 1.7889, 1.7888, 1.7885, 1.7881, 1.788, 1.7879, 1.7877, 1.7877, 1.7876, 1.7875, 1.7875, 1.7873, 1.7872, 1.7861, 1.786, 1.786, 1.7856, 1.7855, 1.7855, 1.7852, 1.785, 1.7847, 1.7846, 1.8222, 1.8222, 1.8219, 1.8212, 1.821, 1.8201, 1.8194, 1.8194, 1.8194, 1.8193, 1.8192, 1.8192, 1.8192, 1.8184, 1.8183, 1.8183, 1.8178, 1.8176, 1.8174, 1.8174, 1.8174, 1.8168, 1.8164, 1.8163, 1.8161, 1.8159, 1.8159, 1.8159, 1.8157, 1.8157, 1.8371, 1.8362, 1.8359, 1.8356, 1.835, 1.835, 1.8349, 1.8347, 1.8346, 1.8341, 1.8336, 1.8335, 1.8334, 1.8322, 1.832, 1.8317, 1.8317, 1.8316, 1.8315, 1.8313, 1.8308, 1.8293, 1.8292, 1.8285, 1.8283, 1.8282, 1.828, 1.8276, 1.8274, 1.8273, 1.809, 1.8251, 1.705, 1.4725, 1.5345, 1.5975, 1.5629, 1.3025, 1.8598, 1.8581, 1.8577, 1.8574, 1.8572, 1.8567, 1.8567, 1.8557, 1.8557, 1.8554, 1.8553, 1.8551, 1.8548, 1.8548, 1.8547, 1.8547, 1.8546, 1.8546, 1.8544, 1.8538, 1.853, 1.8528, 1.8528, 1.8527, 1.8526, 1.8526, 1.8524, 1.8523, 1.8521, 1.8518, 2.0148, 2.0147, 2.0145, 2.014, 2.014, 2.0128, 2.0121, 2.012, 2.0116, 2.0114, 2.011, 2.0108, 2.0101, 2.0099, 2.0094, 2.0092, 2.0091, 2.0091, 2.0088, 2.0087, 2.0086, 2.0082, 2.0081, 2.0077, 2.007, 2.0068, 2.0064, 2.0058, 2.0057, 2.0055, 2.1866, 2.1852, 2.185, 2.1846, 2.1837, 2.1831, 2.1822, 2.1821, 2.1816, 2.1813, 2.1809, 2.1804, 2.1804, 2.18, 2.1799, 2.1793, 2.1792, 2.1789, 2.1784, 2.1783, 2.1781, 2.178, 2.1777, 2.1777, 2.1775, 2.1775, 2.1771, 2.1771, 2.1765, 2.1763, 2.1858, 2.1857, 2.1851, 2.1851, 2.1843, 2.184, 2.184, 2.1838, 2.1824, 2.1821, 2.1821, 2.1818, 2.1816, 2.1813, 2.1812, 2.1811, 2.1811, 2.1806, 2.1801, 2.18, 2.1799, 2.179, 2.1783, 2.1782, 2.1775, 2.1772, 2.1771, 2.177, 2.1764, 2.1763, 1.8523]}, \"token.table\": {\"Topic\": [3, 4, 3, 1, 2, 3, 4, 5, 6, 7, 4, 1, 2, 3, 4, 5, 6, 7, 1, 2, 3, 4, 5, 6, 7, 1, 2, 3, 4, 5, 6, 7, 1, 2, 3, 4, 5, 6, 7, 1, 2, 3, 4, 5, 6, 7, 1, 2, 3, 4, 5, 6, 7, 2, 2, 3, 7, 3, 2, 4, 4, 7, 7, 7, 3, 7, 2, 2, 7, 4, 2, 1, 1, 3, 6, 6, 6, 1, 7, 3, 3, 5, 3, 5, 6, 2, 3, 5, 5, 7, 3, 5, 1, 5, 5, 6, 3, 1, 3, 3, 5, 3, 5, 1, 6, 3, 1, 5, 5, 1, 4, 5, 7, 7, 6, 4, 2, 5, 5, 7, 1, 4, 1, 1, 3, 6, 1, 2, 5, 3, 6, 5, 3, 5, 6, 4, 4, 5, 3, 6, 5, 1, 7, 4, 6, 3, 1, 1, 6, 4, 2, 2, 7, 3, 5, 4, 7, 6, 3, 7, 6, 1, 4, 4, 7, 4, 1, 6, 4, 6, 2, 1, 1, 5, 5, 7, 2, 6, 4, 3, 3, 4, 1, 5, 4, 1, 4, 6, 6, 4, 6, 3, 6, 5, 5, 2, 1, 6, 4, 2, 6, 5, 7, 2, 3, 2, 1, 4, 2, 2, 5, 1, 2, 3, 4, 5, 7, 6, 2, 7, 7, 7, 3, 7, 6, 4, 4, 3, 4, 2, 7, 7, 5, 1, 2, 6, 2, 1, 1, 2, 6, 7, 3, 3, 6, 2, 6, 7, 2, 2, 5, 1, 2, 4, 1, 7, 4, 1, 7, 1, 7, 2, 5, 2, 4, 7], \"Freq\": [0.9983430475626048, 0.9980304679846321, 0.9938231061857864, 0.0629838671053997, 0.05248655592116642, 0.7383108866244076, 0.03849014100885537, 0.03499103728077761, 0.03149193355269985, 0.03849014100885537, 0.9941966972158616, 0.07843091201550059, 0.09313670801840696, 0.5833299081152857, 0.08823477601743818, 0.019607728003875148, 0.05392125201065666, 0.07843091201550059, 0.0684612912990484, 0.053939199205310866, 0.6929112513297626, 0.056013783790130514, 0.053939199205310866, 0.01659667667855719, 0.053939199205310866, 0.09229013572106357, 0.02768704071631907, 0.11997717643738263, 0.018458027144212713, 0.009229013572106357, 0.018458027144212713, 0.7106340450521894, 0.024813990618986176, 0.03032821075653866, 0.8753824468364568, 0.037220985928479264, 0.020678325515821813, 0.004135665103164363, 0.006892775171940604, 0.008272005802895457, 0.004136002901447729, 0.9719606818402163, 0.004136002901447729, 0.004136002901447729, 0.004136002901447729, 0.004136002901447729, 0.0471864122818978, 0.04044549624162669, 0.7886871767117204, 0.04044549624162669, 0.04044549624162669, 0.026963664161084457, 0.020222748120813344, 0.9940944448077692, 0.9958925575518239, 0.9905014986771677, 0.996684239831323, 0.9859046795239322, 0.9916943378016881, 0.9989997059603125, 0.9899720792429841, 0.991156164029382, 0.9855471196103068, 0.9953530411940913, 0.9966488291487225, 0.9847777870179881, 0.9991758356333497, 0.992197011969214, 0.9934902071194783, 0.99403867394247, 0.9968446784870755, 0.9969287478270106, 0.994405142146212, 0.9863133625380462, 0.993827580359405, 0.9955438668412071, 0.9900489842281931, 0.992528479336237, 0.991723458347974, 0.9877975806539394, 0.9968309869858605, 0.988189027577784, 0.9955761279101243, 0.9910304720365344, 0.9948302379856196, 0.9944571282686099, 0.9881080206593597, 0.9919273783138305, 0.99584582706371, 0.9896432888452159, 0.9954006080538157, 0.9983685926490494, 0.9965282026485252, 0.9958008004122123, 0.9948853856556821, 0.9885002392597699, 0.9976755668554668, 0.9953550302822758, 0.9936507863759552, 0.9976096626730773, 0.9874280193310123, 0.992471843371407, 0.9844132561509863, 0.998439588141806, 0.9893109542327433, 0.9929897722347297, 0.9906811273333276, 0.991153405669563, 0.9934273630050152, 0.999057483007252, 0.9904531374774664, 0.9907182004672409, 0.9923703341211428, 0.9923834992914847, 0.9972900949643245, 0.9938558571229291, 0.9877581540599437, 0.9921308390717193, 0.9966920630346909, 0.9967990753457892, 0.99660626053949, 0.9964369709210551, 0.9947257954488457, 0.9953573541073945, 0.9947631246301528, 0.9957981715160465, 0.9926054789479088, 0.9906248274434365, 0.9902066188138325, 0.9936406307423971, 0.9898682399435884, 0.9932443918244711, 0.9929245785356233, 0.9893465584493064, 0.9994211702523929, 0.9956532695483437, 0.9924967540110169, 0.9968176694573143, 0.9925814807466967, 0.9912990268222265, 0.9856440028404233, 0.9962272507856684, 0.99835134271817, 0.9967672355918838, 0.9936743320047544, 0.9950432716568003, 0.9960563535092571, 0.9918823477398604, 0.9854504053369337, 0.9957823704615739, 0.9964344575213724, 0.9957174050364664, 0.9947851926278506, 0.9981879473047948, 0.9916863565269054, 0.9962732354488527, 0.9984981740722251, 0.9971426621957585, 0.9853295688350122, 0.9946054005292566, 0.9878433430584771, 0.9929675057120729, 0.9985594877908451, 0.9922862612688752, 0.9835340624483474, 0.9932004613642055, 0.9928821401791654, 0.9969766486411722, 0.993082193914869, 0.9924962789004166, 0.994442069268752, 0.9954094943554287, 0.9942380263013662, 0.9963265457206083, 0.9949380325691848, 0.9921572421771976, 0.9988316725650543, 0.9908652253675589, 0.9906900347131893, 0.999383048346079, 0.9975947043865092, 0.9954433429103535, 0.9970710591956881, 0.9832217135061496, 0.9936341196588652, 0.9987712858094622, 0.9887370473509207, 0.9909537057293768, 0.9988690155943455, 0.9982305258739754, 0.9975994387998612, 0.9950139621273009, 0.9955457721065721, 0.9954882001121463, 0.9954412664263725, 0.9934508443968728, 0.9974896074099047, 0.9916836641523789, 0.9935760181546297, 0.9912203589398035, 0.9967461674732527, 0.9895619081413823, 0.9901886996228624, 0.9934986631643216, 0.9969814301552457, 0.9946795577263788, 0.994742666901926, 0.9942895200811471, 0.9959832664974422, 0.9970254382046364, 0.9923625351468867, 0.03265676680952465, 0.12409571387619367, 0.757636989980972, 0.026125413447619723, 0.013062706723809861, 0.03918812017142958, 0.9954187838996974, 0.9937959351861794, 0.9867998846185358, 0.9967394006173279, 0.9914820000310967, 0.9983407443870528, 0.9966055707332024, 0.9927391118347904, 0.9930548235365488, 0.9914038051816925, 0.9969973116940518, 0.9964245427525813, 0.9966270255738466, 0.9959112813629623, 0.9947622076122252, 0.9941362366955446, 0.9892149836932334, 0.9967998983419758, 0.9955995839198037, 0.9975948362197196, 0.9989649585800529, 0.9965868642432703, 0.9952745389361507, 0.9944937262556129, 0.9914897934075477, 0.9948970933609399, 0.9986151546933537, 0.9964718280020834, 0.9918847452311952, 0.9879092372381684, 0.9902436932647345, 0.9986318116947556, 0.9966492122884013, 0.9885047412540773, 0.9949852981863276, 0.994783152833252, 0.9940619374115154, 0.9888130949002448, 0.9955362712728798, 0.9937315260261719, 0.9985514245899094, 0.9943787924677775, 0.9975849076395529, 0.9879790357912223, 0.9925116733914263, 0.9971600033239262, 0.997944558701051, 0.9930423556718824, 0.993786685369394], \"Term\": [\"#\", \"#covid\", \"#earthday\", \"#economiccrisislk\", \"#economiccrisislk\", \"#economiccrisislk\", \"#economiccrisislk\", \"#economiccrisislk\", \"#economiccrisislk\", \"#economiccrisislk\", \"#fuelpricehike\", \"#gohomegota\", \"#gohomegota\", \"#gohomegota\", \"#gohomegota\", \"#gohomegota\", \"#gohomegota\", \"#gohomegota\", \"#lka\", \"#lka\", \"#lka\", \"#lka\", \"#lka\", \"#lka\", \"#lka\", \"#nifty\", \"#nifty\", \"#nifty\", \"#nifty\", \"#nifty\", \"#nifty\", \"#nifty\", \"#srilanka\", \"#srilanka\", \"#srilanka\", \"#srilanka\", \"#srilanka\", \"#srilanka\", \"#srilanka\", \"#srilankacrisis\", \"#srilankacrisis\", \"#srilankacrisis\", \"#srilankacrisis\", \"#srilankacrisis\", \"#srilankacrisis\", \"#srilankacrisis\", \"#srilankaprotests\", \"#srilankaprotests\", \"#srilankaprotests\", \"#srilankaprotests\", \"#srilankaprotests\", \"#srilankaprotests\", \"#srilankaprotests\", \"#ukraine\", \"abhishekaitc\", \"across\", \"aitcofficial\", \"already\", \"always\", \"amp\", \"ani\", \"another\", \"anyone\", \"april\", \"army\", \"auto\", \"back\", \"bank\", \"bear\", \"believe\", \"best\", \"better\", \"big\", \"billion\", \"bjp\", \"boris\", \"british\", \"business\", \"buy\", \"c\", \"cartoon\", \"catch\", \"central\", \"change\", \"chart\", \"check\", \"china\", \"coal\", \"come\", \"congress\", \"continue\", \"country\", \"court\", \"covid\", \"crisis\", \"daily\", \"day\", \"delhi\", \"delivery\", \"don\", \"dr\", \"earth\", \"energy\", \"even\", \"every\", \"everyone\", \"face\", \"facebook\", \"first\", \"follow\", \"food\", \"former\", \"free\", \"fuel\", \"full\", \"gas\", \"give\", \"global\", \"go\", \"going\", \"good\", \"government\", \"govt\", \"great\", \"gujarat\", \"h\", \"happy\", \"hate\", \"help\", \"high\", \"home\", \"hospital\", \"hour\", \"important\", \"india\", \"indian\", \"ji\", \"johnson\", \"join\", \"justice\", \"killed\", \"know\", \"lanka\", \"last\", \"leader\", \"let\", \"life\", \"live\", \"ll\", \"long\", \"lost\", \"love\", \"made\", \"make\", \"making\", \"mamataofficial\", \"man\", \"many\", \"marvin\", \"may\", \"million\", \"min\", \"minister\", \"modi\", \"money\", \"mr\", \"much\", \"must\", \"narendramodi\", \"nation\", \"national\", \"need\", \"never\", \"new\", \"news\", \"next\", \"now\", \"official\", \"old\", \"one\", \"online\", \"p\", \"part\", \"past\", \"peace\", \"people\", \"per\", \"person\", \"please\", \"pm\", \"police\", \"political\", \"poor\", \"power\", \"president\", \"price\", \"profile\", \"protest\", \"public\", \"re\", \"read\", \"really\", \"report\", \"right\", \"russia\", \"russian\", \"said\", \"say\", \"sec\", \"see\", \"several\", \"sl\", \"sl\", \"sl\", \"sl\", \"sl\", \"sl\", \"social\", \"south\", \"speech\", \"sri\", \"st\", \"state\", \"still\", \"stop\", \"story\", \"supply\", \"support\", \"take\", \"tamil\", \"target\", \"th\", \"thank\", \"thanks\", \"think\", \"three\", \"time\", \"today\", \"tomorrow\", \"top\", \"towards\", \"trading\", \"twitter\", \"two\", \"uk\", \"ukraine\", \"understand\", \"upside\", \"us\", \"ve\", \"visit\", \"want\", \"war\", \"watch\", \"way\", \"week\", \"well\", \"will\", \"won\", \"wordle\", \"work\", \"working\", \"world\", \"year\", \"youth\", \"zoo\"]}, \"R\": 30, \"lambda.step\": 0.01, \"plot.opts\": {\"xlab\": \"PC1\", \"ylab\": \"PC2\"}, \"topic.order\": [1, 7, 3, 4, 5, 6, 2]};\n",
       "\n",
       "function LDAvis_load_lib(url, callback){\n",
       "  var s = document.createElement('script');\n",
       "  s.src = url;\n",
       "  s.async = true;\n",
       "  s.onreadystatechange = s.onload = callback;\n",
       "  s.onerror = function(){console.warn(\"failed to load library \" + url);};\n",
       "  document.getElementsByTagName(\"head\")[0].appendChild(s);\n",
       "}\n",
       "\n",
       "if(typeof(LDAvis) !== \"undefined\"){\n",
       "   // already loaded: just create the visualization\n",
       "   !function(LDAvis){\n",
       "       new LDAvis(\"#\" + \"ldavis_el599625208499184326509671208\", ldavis_el599625208499184326509671208_data);\n",
       "   }(LDAvis);\n",
       "}else if(typeof define === \"function\" && define.amd){\n",
       "   // require.js is available: use it to load d3/LDAvis\n",
       "   require.config({paths: {d3: \"https://d3js.org/d3.v5\"}});\n",
       "   require([\"d3\"], function(d3){\n",
       "      window.d3 = d3;\n",
       "      LDAvis_load_lib(\"https://cdn.jsdelivr.net/gh/bmabey/pyLDAvis@3.3.1/pyLDAvis/js/ldavis.v3.0.0.js\", function(){\n",
       "        new LDAvis(\"#\" + \"ldavis_el599625208499184326509671208\", ldavis_el599625208499184326509671208_data);\n",
       "      });\n",
       "    });\n",
       "}else{\n",
       "    // require.js not available: dynamically load d3 & LDAvis\n",
       "    LDAvis_load_lib(\"https://d3js.org/d3.v5.js\", function(){\n",
       "         LDAvis_load_lib(\"https://cdn.jsdelivr.net/gh/bmabey/pyLDAvis@3.3.1/pyLDAvis/js/ldavis.v3.0.0.js\", function(){\n",
       "                 new LDAvis(\"#\" + \"ldavis_el599625208499184326509671208\", ldavis_el599625208499184326509671208_data);\n",
       "            })\n",
       "         });\n",
       "}\n",
       "</script>"
      ],
      "text/plain": [
       "<IPython.core.display.HTML object>"
      ]
     },
     "execution_count": 53,
     "metadata": {},
     "output_type": "execute_result"
    }
   ],
   "source": [
    "vis_data = gensimvis.prepare(lda_model, corpus, id2word)\n",
    "pyLDAvis.display(vis_data)"
   ]
  },
  {
   "cell_type": "markdown",
   "id": "6dbdb164",
   "metadata": {},
   "source": [
    "- From the above output, the bubbles on the left-side represents a topic and larger the bubble, the more prevalent is that topic. The topic model will be good if the topic model has big, non-overlapping bubbles scattered throughout the chart"
   ]
  },
  {
   "cell_type": "markdown",
   "id": "ebc91bbd",
   "metadata": {},
   "source": [
    "## 4. Analysis of Sentiments from the clean_text"
   ]
  },
  {
   "cell_type": "markdown",
   "id": "2cc4f53a",
   "metadata": {},
   "source": [
    "- **𝐩𝐨𝐥𝐚𝐫𝐢𝐭𝐲 based analysys**"
   ]
  },
  {
   "cell_type": "code",
   "execution_count": 54,
   "id": "843d647c",
   "metadata": {},
   "outputs": [
    {
     "data": {
      "text/html": [
       "<div>\n",
       "<style scoped>\n",
       "    .dataframe tbody tr th:only-of-type {\n",
       "        vertical-align: middle;\n",
       "    }\n",
       "\n",
       "    .dataframe tbody tr th {\n",
       "        vertical-align: top;\n",
       "    }\n",
       "\n",
       "    .dataframe thead th {\n",
       "        text-align: right;\n",
       "    }\n",
       "</style>\n",
       "<table border=\"1\" class=\"dataframe\">\n",
       "  <thead>\n",
       "    <tr style=\"text-align: right;\">\n",
       "      <th></th>\n",
       "      <th>clean_text</th>\n",
       "      <th>polarity</th>\n",
       "    </tr>\n",
       "  </thead>\n",
       "  <tbody>\n",
       "    <tr>\n",
       "      <th>0</th>\n",
       "      <td>rt  northstarcharts  the    year yield is tell...</td>\n",
       "      <td>0.16</td>\n",
       "    </tr>\n",
       "    <tr>\n",
       "      <th>1</th>\n",
       "      <td>rt  michaelaarouet  german   y mortgage rate w...</td>\n",
       "      <td>0.15</td>\n",
       "    </tr>\n",
       "    <tr>\n",
       "      <th>2</th>\n",
       "      <td>rt  goldseek  when</td>\n",
       "      <td>0.00</td>\n",
       "    </tr>\n",
       "    <tr>\n",
       "      <th>3</th>\n",
       "      <td>rt  charliebilello  the    year mortgage rate ...</td>\n",
       "      <td>0.00</td>\n",
       "    </tr>\n",
       "    <tr>\n",
       "      <th>4</th>\n",
       "      <td>rt  biancoresearch  rates rise until something...</td>\n",
       "      <td>-0.40</td>\n",
       "    </tr>\n",
       "  </tbody>\n",
       "</table>\n",
       "</div>"
      ],
      "text/plain": [
       "                                          clean_text  polarity\n",
       "0  rt  northstarcharts  the    year yield is tell...      0.16\n",
       "1  rt  michaelaarouet  german   y mortgage rate w...      0.15\n",
       "2                               rt  goldseek  when        0.00\n",
       "3  rt  charliebilello  the    year mortgage rate ...      0.00\n",
       "4  rt  biancoresearch  rates rise until something...     -0.40"
      ]
     },
     "execution_count": 54,
     "metadata": {},
     "output_type": "execute_result"
    }
   ],
   "source": [
    "df = pd.DataFrame(columns=['clean_text', 'polarity'])\n",
    "df['clean_text'] = tweets['original_text']\n",
    "df['polarity'] = tweets['polarity']\n",
    "\n",
    "def clean_tweet(tweet):\n",
    "    clean_tweet = re.sub(\"[^a-zA-Z]\",  \" \",  tweet)\n",
    "    return clean_tweet\n",
    "\n",
    "df['clean_text'] = df['clean_text'].apply(clean_tweet)\n",
    "df[:5]"
   ]
  },
  {
   "cell_type": "markdown",
   "id": "89a8f44a",
   "metadata": {},
   "source": [
    "- **duplication check**"
   ]
  },
  {
   "cell_type": "code",
   "execution_count": 55,
   "id": "90d9b5ad",
   "metadata": {},
   "outputs": [
    {
     "name": "stdout",
     "output_type": "stream",
     "text": [
      "duplicate count: 0\n"
     ]
    }
   ],
   "source": [
    "print(\"duplicate count: {}\".format(df.isnull().sum().sum()))"
   ]
  },
  {
   "cell_type": "markdown",
   "id": "111fab5d",
   "metadata": {},
   "source": [
    "  **get text catagories as:**\n",
    "- Positive\n",
    "- Negative \n",
    "- Neutral"
   ]
  },
  {
   "cell_type": "code",
   "execution_count": 56,
   "id": "988e1baf",
   "metadata": {},
   "outputs": [],
   "source": [
    "def text_category(p):\n",
    "  if p > 0:\n",
    "    return \"positive\"\n",
    "  elif p < 0:\n",
    "    return \"negative\"\n",
    "  else:\n",
    "    return \"neutral\""
   ]
  },
  {
   "cell_type": "markdown",
   "id": "4db8675f",
   "metadata": {},
   "source": [
    "- **use the above function to test clean_texts with their polarity**"
   ]
  },
  {
   "cell_type": "code",
   "execution_count": 57,
   "id": "7ac7ff58",
   "metadata": {},
   "outputs": [
    {
     "data": {
      "text/html": [
       "<div>\n",
       "<style scoped>\n",
       "    .dataframe tbody tr th:only-of-type {\n",
       "        vertical-align: middle;\n",
       "    }\n",
       "\n",
       "    .dataframe tbody tr th {\n",
       "        vertical-align: top;\n",
       "    }\n",
       "\n",
       "    .dataframe thead th {\n",
       "        text-align: right;\n",
       "    }\n",
       "</style>\n",
       "<table border=\"1\" class=\"dataframe\">\n",
       "  <thead>\n",
       "    <tr style=\"text-align: right;\">\n",
       "      <th></th>\n",
       "      <th>clean_text</th>\n",
       "      <th>polarity</th>\n",
       "    </tr>\n",
       "  </thead>\n",
       "  <tbody>\n",
       "    <tr>\n",
       "      <th>0</th>\n",
       "      <td>rt  northstarcharts  the    year yield is tell...</td>\n",
       "      <td>positive</td>\n",
       "    </tr>\n",
       "    <tr>\n",
       "      <th>1</th>\n",
       "      <td>rt  michaelaarouet  german   y mortgage rate w...</td>\n",
       "      <td>positive</td>\n",
       "    </tr>\n",
       "    <tr>\n",
       "      <th>2</th>\n",
       "      <td>rt  goldseek  when</td>\n",
       "      <td>neutral</td>\n",
       "    </tr>\n",
       "    <tr>\n",
       "      <th>3</th>\n",
       "      <td>rt  charliebilello  the    year mortgage rate ...</td>\n",
       "      <td>neutral</td>\n",
       "    </tr>\n",
       "    <tr>\n",
       "      <th>4</th>\n",
       "      <td>rt  biancoresearch  rates rise until something...</td>\n",
       "      <td>negative</td>\n",
       "    </tr>\n",
       "    <tr>\n",
       "      <th>5</th>\n",
       "      <td>rt  lanceroberts  buying opportunities like th...</td>\n",
       "      <td>negative</td>\n",
       "    </tr>\n",
       "    <tr>\n",
       "      <th>6</th>\n",
       "      <td>rt  macroalf  welcome to september        bond...</td>\n",
       "      <td>positive</td>\n",
       "    </tr>\n",
       "    <tr>\n",
       "      <th>7</th>\n",
       "      <td>rt  botbenfranklin  the horse thinks one thing...</td>\n",
       "      <td>neutral</td>\n",
       "    </tr>\n",
       "    <tr>\n",
       "      <th>8</th>\n",
       "      <td>rt  galactic trader  global growth optimism at...</td>\n",
       "      <td>positive</td>\n",
       "    </tr>\n",
       "    <tr>\n",
       "      <th>9</th>\n",
       "      <td>rt  andreassteno  this is the most important c...</td>\n",
       "      <td>positive</td>\n",
       "    </tr>\n",
       "  </tbody>\n",
       "</table>\n",
       "</div>"
      ],
      "text/plain": [
       "                                          clean_text  polarity\n",
       "0  rt  northstarcharts  the    year yield is tell...  positive\n",
       "1  rt  michaelaarouet  german   y mortgage rate w...  positive\n",
       "2                               rt  goldseek  when     neutral\n",
       "3  rt  charliebilello  the    year mortgage rate ...   neutral\n",
       "4  rt  biancoresearch  rates rise until something...  negative\n",
       "5  rt  lanceroberts  buying opportunities like th...  negative\n",
       "6  rt  macroalf  welcome to september        bond...  positive\n",
       "7  rt  botbenfranklin  the horse thinks one thing...   neutral\n",
       "8  rt  galactic trader  global growth optimism at...  positive\n",
       "9  rt  andreassteno  this is the most important c...  positive"
      ]
     },
     "execution_count": 57,
     "metadata": {},
     "output_type": "execute_result"
    }
   ],
   "source": [
    "df[\"polarity\"] = df[\"polarity\"].apply(text_category)\n",
    "df[:10]\n"
   ]
  },
  {
   "cell_type": "markdown",
   "id": "f84bc871",
   "metadata": {},
   "source": [
    "- **use piechart and barchart to visualize better**"
   ]
  },
  {
   "cell_type": "code",
   "execution_count": 58,
   "id": "522a3bf6",
   "metadata": {},
   "outputs": [
    {
     "data": {
      "text/plain": [
       "polarity\n",
       "negative    2691\n",
       "neutral     7466\n",
       "positive    6315\n",
       "dtype: int64"
      ]
     },
     "execution_count": 58,
     "metadata": {},
     "output_type": "execute_result"
    }
   ],
   "source": [
    "category = df.groupby(['polarity']).size()\n",
    "category"
   ]
  },
  {
   "cell_type": "code",
   "execution_count": null,
   "id": "203b5a7e",
   "metadata": {},
   "outputs": [],
   "source": []
  },
  {
   "cell_type": "markdown",
   "id": "4fadc00d",
   "metadata": {},
   "source": [
    "**classification model to the clean tweet.**\n",
    "- Here i assumed that 𝐩𝐨𝐥𝐚𝐫𝐢𝐭𝐲 =0 as 𝐬𝐜𝐨𝐫𝐞 = Neutral "
   ]
  },
  {
   "cell_type": "code",
   "execution_count": 59,
   "id": "9311c479",
   "metadata": {},
   "outputs": [
    {
     "data": {
      "text/html": [
       "<div>\n",
       "<style scoped>\n",
       "    .dataframe tbody tr th:only-of-type {\n",
       "        vertical-align: middle;\n",
       "    }\n",
       "\n",
       "    .dataframe tbody tr th {\n",
       "        vertical-align: top;\n",
       "    }\n",
       "\n",
       "    .dataframe thead th {\n",
       "        text-align: right;\n",
       "    }\n",
       "</style>\n",
       "<table border=\"1\" class=\"dataframe\">\n",
       "  <thead>\n",
       "    <tr style=\"text-align: right;\">\n",
       "      <th></th>\n",
       "      <th>clean_text</th>\n",
       "      <th>polarity</th>\n",
       "    </tr>\n",
       "  </thead>\n",
       "  <tbody>\n",
       "    <tr>\n",
       "      <th>0</th>\n",
       "      <td>rt  northstarcharts  the    year yield is tell...</td>\n",
       "      <td>positive</td>\n",
       "    </tr>\n",
       "    <tr>\n",
       "      <th>1</th>\n",
       "      <td>rt  michaelaarouet  german   y mortgage rate w...</td>\n",
       "      <td>positive</td>\n",
       "    </tr>\n",
       "    <tr>\n",
       "      <th>4</th>\n",
       "      <td>rt  biancoresearch  rates rise until something...</td>\n",
       "      <td>negative</td>\n",
       "    </tr>\n",
       "    <tr>\n",
       "      <th>5</th>\n",
       "      <td>rt  lanceroberts  buying opportunities like th...</td>\n",
       "      <td>negative</td>\n",
       "    </tr>\n",
       "    <tr>\n",
       "      <th>6</th>\n",
       "      <td>rt  macroalf  welcome to september        bond...</td>\n",
       "      <td>positive</td>\n",
       "    </tr>\n",
       "    <tr>\n",
       "      <th>...</th>\n",
       "      <td>...</td>\n",
       "      <td>...</td>\n",
       "    </tr>\n",
       "    <tr>\n",
       "      <th>16465</th>\n",
       "      <td>rt  ozamizcps  pssg gedson casta eros  mobile ...</td>\n",
       "      <td>positive</td>\n",
       "    </tr>\n",
       "    <tr>\n",
       "      <th>16466</th>\n",
       "      <td>rt  salt project os  free yourself from writin...</td>\n",
       "      <td>positive</td>\n",
       "    </tr>\n",
       "    <tr>\n",
       "      <th>16467</th>\n",
       "      <td>rt  charanjitchanni  best wishes  amp  heartfe...</td>\n",
       "      <td>positive</td>\n",
       "    </tr>\n",
       "    <tr>\n",
       "      <th>16468</th>\n",
       "      <td>rt  pbhushan   thank you  bajpayeemanoj for th...</td>\n",
       "      <td>positive</td>\n",
       "    </tr>\n",
       "    <tr>\n",
       "      <th>16470</th>\n",
       "      <td>rt  tejjinc     peace yatra by late sunil dutt...</td>\n",
       "      <td>negative</td>\n",
       "    </tr>\n",
       "  </tbody>\n",
       "</table>\n",
       "<p>9006 rows × 2 columns</p>\n",
       "</div>"
      ],
      "text/plain": [
       "                                              clean_text  polarity\n",
       "0      rt  northstarcharts  the    year yield is tell...  positive\n",
       "1      rt  michaelaarouet  german   y mortgage rate w...  positive\n",
       "4      rt  biancoresearch  rates rise until something...  negative\n",
       "5      rt  lanceroberts  buying opportunities like th...  negative\n",
       "6      rt  macroalf  welcome to september        bond...  positive\n",
       "...                                                  ...       ...\n",
       "16465  rt  ozamizcps  pssg gedson casta eros  mobile ...  positive\n",
       "16466  rt  salt project os  free yourself from writin...  positive\n",
       "16467  rt  charanjitchanni  best wishes  amp  heartfe...  positive\n",
       "16468  rt  pbhushan   thank you  bajpayeemanoj for th...  positive\n",
       "16470  rt  tejjinc     peace yatra by late sunil dutt...  negative\n",
       "\n",
       "[9006 rows x 2 columns]"
      ]
     },
     "execution_count": 59,
     "metadata": {},
     "output_type": "execute_result"
    }
   ],
   "source": [
    "df = df[df['polarity'] != 'neutral']\n",
    "df\n"
   ]
  },
  {
   "cell_type": "markdown",
   "id": "a40d45e7",
   "metadata": {},
   "source": [
    "- **Create a column  scoremap  Used for mapping {'positive':1, 'negative':0} to the  score  column**"
   ]
  },
  {
   "cell_type": "code",
   "execution_count": 60,
   "id": "784a390b",
   "metadata": {},
   "outputs": [
    {
     "data": {
      "text/html": [
       "<div>\n",
       "<style scoped>\n",
       "    .dataframe tbody tr th:only-of-type {\n",
       "        vertical-align: middle;\n",
       "    }\n",
       "\n",
       "    .dataframe tbody tr th {\n",
       "        vertical-align: top;\n",
       "    }\n",
       "\n",
       "    .dataframe thead th {\n",
       "        text-align: right;\n",
       "    }\n",
       "</style>\n",
       "<table border=\"1\" class=\"dataframe\">\n",
       "  <thead>\n",
       "    <tr style=\"text-align: right;\">\n",
       "      <th></th>\n",
       "      <th>clean_text</th>\n",
       "      <th>polarity</th>\n",
       "      <th>scoremap</th>\n",
       "    </tr>\n",
       "  </thead>\n",
       "  <tbody>\n",
       "    <tr>\n",
       "      <th>0</th>\n",
       "      <td>rt  northstarcharts  the    year yield is tell...</td>\n",
       "      <td>positive</td>\n",
       "      <td>1</td>\n",
       "    </tr>\n",
       "    <tr>\n",
       "      <th>1</th>\n",
       "      <td>rt  michaelaarouet  german   y mortgage rate w...</td>\n",
       "      <td>positive</td>\n",
       "      <td>1</td>\n",
       "    </tr>\n",
       "    <tr>\n",
       "      <th>4</th>\n",
       "      <td>rt  biancoresearch  rates rise until something...</td>\n",
       "      <td>negative</td>\n",
       "      <td>0</td>\n",
       "    </tr>\n",
       "    <tr>\n",
       "      <th>5</th>\n",
       "      <td>rt  lanceroberts  buying opportunities like th...</td>\n",
       "      <td>negative</td>\n",
       "      <td>0</td>\n",
       "    </tr>\n",
       "    <tr>\n",
       "      <th>6</th>\n",
       "      <td>rt  macroalf  welcome to september        bond...</td>\n",
       "      <td>positive</td>\n",
       "      <td>1</td>\n",
       "    </tr>\n",
       "    <tr>\n",
       "      <th>...</th>\n",
       "      <td>...</td>\n",
       "      <td>...</td>\n",
       "      <td>...</td>\n",
       "    </tr>\n",
       "    <tr>\n",
       "      <th>16465</th>\n",
       "      <td>rt  ozamizcps  pssg gedson casta eros  mobile ...</td>\n",
       "      <td>positive</td>\n",
       "      <td>1</td>\n",
       "    </tr>\n",
       "    <tr>\n",
       "      <th>16466</th>\n",
       "      <td>rt  salt project os  free yourself from writin...</td>\n",
       "      <td>positive</td>\n",
       "      <td>1</td>\n",
       "    </tr>\n",
       "    <tr>\n",
       "      <th>16467</th>\n",
       "      <td>rt  charanjitchanni  best wishes  amp  heartfe...</td>\n",
       "      <td>positive</td>\n",
       "      <td>1</td>\n",
       "    </tr>\n",
       "    <tr>\n",
       "      <th>16468</th>\n",
       "      <td>rt  pbhushan   thank you  bajpayeemanoj for th...</td>\n",
       "      <td>positive</td>\n",
       "      <td>1</td>\n",
       "    </tr>\n",
       "    <tr>\n",
       "      <th>16470</th>\n",
       "      <td>rt  tejjinc     peace yatra by late sunil dutt...</td>\n",
       "      <td>negative</td>\n",
       "      <td>0</td>\n",
       "    </tr>\n",
       "  </tbody>\n",
       "</table>\n",
       "<p>9006 rows × 3 columns</p>\n",
       "</div>"
      ],
      "text/plain": [
       "                                              clean_text  polarity  scoremap\n",
       "0      rt  northstarcharts  the    year yield is tell...  positive         1\n",
       "1      rt  michaelaarouet  german   y mortgage rate w...  positive         1\n",
       "4      rt  biancoresearch  rates rise until something...  negative         0\n",
       "5      rt  lanceroberts  buying opportunities like th...  negative         0\n",
       "6      rt  macroalf  welcome to september        bond...  positive         1\n",
       "...                                                  ...       ...       ...\n",
       "16465  rt  ozamizcps  pssg gedson casta eros  mobile ...  positive         1\n",
       "16466  rt  salt project os  free yourself from writin...  positive         1\n",
       "16467  rt  charanjitchanni  best wishes  amp  heartfe...  positive         1\n",
       "16468  rt  pbhushan   thank you  bajpayeemanoj for th...  positive         1\n",
       "16470  rt  tejjinc     peace yatra by late sunil dutt...  negative         0\n",
       "\n",
       "[9006 rows x 3 columns]"
      ]
     },
     "execution_count": 60,
     "metadata": {},
     "output_type": "execute_result"
    }
   ],
   "source": [
    "df['scoremap'] = df[\"polarity\"].map( lambda score: 1 if score == \"positive\" else 0)\n",
    "df"
   ]
  },
  {
   "cell_type": "markdown",
   "id": "e1897e3e",
   "metadata": {},
   "source": [
    "- **Create feature and target variables (X,y) from  clean_text  and  scoremap  columns respectively.**"
   ]
  },
  {
   "cell_type": "code",
   "execution_count": 61,
   "id": "6056625a",
   "metadata": {},
   "outputs": [],
   "source": [
    "(X, y) = df['clean_text'], df['scoremap']"
   ]
  },
  {
   "cell_type": "markdown",
   "id": "3c90a47e",
   "metadata": {},
   "source": [
    "- **split the data to train and test using split funcion from sklearn**"
   ]
  },
  {
   "cell_type": "code",
   "execution_count": 62,
   "id": "8a6bd53e",
   "metadata": {},
   "outputs": [],
   "source": [
    "from sklearn.model_selection import train_test_split"
   ]
  },
  {
   "cell_type": "code",
   "execution_count": 63,
   "id": "c1e69fe8",
   "metadata": {},
   "outputs": [],
   "source": [
    "X_train, X_test, y_train, y_test = train_test_split(X, y, test_size=0.2)"
   ]
  },
  {
   "cell_type": "markdown",
   "id": "2a1da198",
   "metadata": {},
   "source": [
    "**The name Stochastic Gradient Descent - Classifier (SGD-Classifier):**\n",
    "- SGD Classifier is a linear classifier (SVM, logistic regression, a.o.) optimized by the SGD.\n",
    "- While SGD is a optimization method, Logistic Regression or linear Support Vector Machine is a machine learning algorithm/model. \n",
    "- **Here** - I used it to vectorize my train text data"
   ]
  },
  {
   "cell_type": "code",
   "execution_count": 64,
   "id": "ccf93ab3",
   "metadata": {},
   "outputs": [],
   "source": [
    "from sklearn.feature_extraction.text import CountVectorizer, TfidfTransformer\n",
    "from joblib import dump, load # used for saving and loading sklearn objects\n",
    "from scipy.sparse import save_npz, load_npz # used for saving and loading sparse matrices\n",
    "from sklearn.decomposition import NMF, LatentDirichletAllocation\n",
    "from sklearn.linear_model import SGDClassifier\n",
    "from sklearn.model_selection import train_test_split"
   ]
  },
  {
   "cell_type": "code",
   "execution_count": 65,
   "id": "cf31ee90",
   "metadata": {},
   "outputs": [],
   "source": [
    "trigram_vectorizer = CountVectorizer(ngram_range=(1, 3))\n",
    "trigram_vectorizer.fit_transform(X.values)\n",
    "X_trigram = trigram_vectorizer.transform(X)\n",
    "\n",
    "\n",
    "def train_and_show_scores(X, y, title: str) -> None:\n",
    "    X_train, X_valid, y_train, y_valid = train_test_split(\n",
    "        X, y, train_size=0.75, stratify=y\n",
    "    )\n",
    "\n",
    "    clf = SGDClassifier()\n",
    "    clf.fit(X_train, y_train)\n",
    "    train_score = clf.score(X_train, y_train)\n",
    "    valid_score = clf.score(X_valid, y_valid)\n",
    "    print(f'{title}\\nTrain score: {round(train_score, 2)} ; Validation score: {round(valid_score, 2)}\\n')"
   ]
  },
  {
   "cell_type": "code",
   "execution_count": 66,
   "id": "ec018f5a",
   "metadata": {},
   "outputs": [
    {
     "name": "stdout",
     "output_type": "stream",
     "text": [
      "sentiment\n",
      "Train score: 1.0 ; Validation score: 0.85\n",
      "\n"
     ]
    }
   ],
   "source": [
    "train_and_show_scores(X_trigram, df['scoremap'], title=\"sentiment\")"
   ]
  },
  {
   "cell_type": "code",
   "execution_count": null,
   "id": "4a72827d",
   "metadata": {},
   "outputs": [],
   "source": []
  },
  {
   "cell_type": "code",
   "execution_count": null,
   "id": "7458d9ad",
   "metadata": {},
   "outputs": [],
   "source": []
  }
 ],
 "metadata": {
  "kernelspec": {
   "display_name": "Python 3 (ipykernel)",
   "language": "python",
   "name": "python3"
  },
  "language_info": {
   "codemirror_mode": {
    "name": "ipython",
    "version": 3
   },
   "file_extension": ".py",
   "mimetype": "text/x-python",
   "name": "python",
   "nbconvert_exporter": "python",
   "pygments_lexer": "ipython3",
   "version": "3.8.8"
  }
 },
 "nbformat": 4,
 "nbformat_minor": 5
}

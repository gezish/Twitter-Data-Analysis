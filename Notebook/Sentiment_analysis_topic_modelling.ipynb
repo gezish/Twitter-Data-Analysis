{
 "cells": [
  {
   "cell_type": "markdown",
   "id": "b01aee30",
   "metadata": {},
   "source": [
    "# Topic modelling and sentiment analysis\n",
    "## Objective:\n",
    "- write a code using scikit-learn, Gensim, or other packages and APIs to model the topics discussed in the tweets data and their sentiments. \n",
    "- word clouds, k-mean clustering, and the like model can for topic modelling."
   ]
  },
  {
   "cell_type": "code",
   "execution_count": 1,
   "id": "b460d153",
   "metadata": {},
   "outputs": [],
   "source": [
    "import re\n",
    "import warnings\n",
    "import gensim\n",
    "import string\n",
    "import pandas as pd\n",
    "import numpy as np\n",
    "import matplotlib.pyplot as plt\n",
    "import seaborn as sns\n",
    "import matplotlib.pyplot as plt\n",
    "from pprint import pprint\n",
    "from gensim import corpora\n",
    "from wordcloud import WordCloud, STOPWORDS\n",
    "from gensim.models import CoherenceModel\n",
    "from nltk.stem import WordNetLemmatizer\n",
    "\n",
    "warnings.filterwarnings('ignore')"
   ]
  },
  {
   "cell_type": "code",
   "execution_count": null,
   "id": "0a594ede",
   "metadata": {},
   "outputs": [],
   "source": []
  },
  {
   "cell_type": "code",
   "execution_count": 2,
   "id": "a8d98dbb",
   "metadata": {
    "collapsed": true
   },
   "outputs": [
    {
     "data": {
      "text/html": [
       "<div>\n",
       "<style scoped>\n",
       "    .dataframe tbody tr th:only-of-type {\n",
       "        vertical-align: middle;\n",
       "    }\n",
       "\n",
       "    .dataframe tbody tr th {\n",
       "        vertical-align: top;\n",
       "    }\n",
       "\n",
       "    .dataframe thead th {\n",
       "        text-align: right;\n",
       "    }\n",
       "</style>\n",
       "<table border=\"1\" class=\"dataframe\">\n",
       "  <thead>\n",
       "    <tr style=\"text-align: right;\">\n",
       "      <th></th>\n",
       "      <th>created_at</th>\n",
       "      <th>original_text</th>\n",
       "      <th>polarity</th>\n",
       "      <th>subjectivity</th>\n",
       "      <th>lang</th>\n",
       "      <th>favorite_count</th>\n",
       "      <th>retweet_count</th>\n",
       "      <th>original_author</th>\n",
       "      <th>followers_count</th>\n",
       "      <th>friends_count</th>\n",
       "      <th>possibly_sensitive</th>\n",
       "      <th>hashtags</th>\n",
       "      <th>place</th>\n",
       "      <th>hashtags_in_tweets</th>\n",
       "      <th>screen_name</th>\n",
       "      <th>device</th>\n",
       "    </tr>\n",
       "  </thead>\n",
       "  <tbody>\n",
       "    <tr>\n",
       "      <th>0</th>\n",
       "      <td>Fri Apr 22 22:17:05 +0000 2022</td>\n",
       "      <td>rt  northstarcharts  the    year yield is tell...</td>\n",
       "      <td>0.16</td>\n",
       "      <td>0.540000</td>\n",
       "      <td>en</td>\n",
       "      <td>188</td>\n",
       "      <td>43</td>\n",
       "      <td>davideiacovozzi</td>\n",
       "      <td>18</td>\n",
       "      <td>55</td>\n",
       "      <td>False</td>\n",
       "      <td>#gold, #gold, #gold</td>\n",
       "      <td></td>\n",
       "      <td>#gold, #silver, #crypto</td>\n",
       "      <td>@northstarcharts</td>\n",
       "      <td>twitter for android</td>\n",
       "    </tr>\n",
       "    <tr>\n",
       "      <th>1</th>\n",
       "      <td>Fri Apr 22 13:44:53 +0000 2022</td>\n",
       "      <td>rt  michaelaarouet  german   y mortgage rate w...</td>\n",
       "      <td>0.15</td>\n",
       "      <td>0.175000</td>\n",
       "      <td>en</td>\n",
       "      <td>179</td>\n",
       "      <td>32</td>\n",
       "      <td>davideiacovozzi</td>\n",
       "      <td>18</td>\n",
       "      <td>55</td>\n",
       "      <td>False</td>\n",
       "      <td></td>\n",
       "      <td></td>\n",
       "      <td></td>\n",
       "      <td>@michaelaarouet</td>\n",
       "      <td>twitter for android</td>\n",
       "    </tr>\n",
       "    <tr>\n",
       "      <th>2</th>\n",
       "      <td>Fri Apr 22 06:10:34 +0000 2022</td>\n",
       "      <td>rt  goldseek  when</td>\n",
       "      <td>0.00</td>\n",
       "      <td>0.000000</td>\n",
       "      <td>en</td>\n",
       "      <td>193</td>\n",
       "      <td>26</td>\n",
       "      <td>davideiacovozzi</td>\n",
       "      <td>18</td>\n",
       "      <td>55</td>\n",
       "      <td>False</td>\n",
       "      <td></td>\n",
       "      <td></td>\n",
       "      <td></td>\n",
       "      <td>@goldseek</td>\n",
       "      <td>twitter for android</td>\n",
       "    </tr>\n",
       "    <tr>\n",
       "      <th>3</th>\n",
       "      <td>Thu Apr 21 17:22:09 +0000 2022</td>\n",
       "      <td>rt  charliebilello  the    year mortgage rate ...</td>\n",
       "      <td>0.00</td>\n",
       "      <td>0.183333</td>\n",
       "      <td>en</td>\n",
       "      <td>620</td>\n",
       "      <td>213</td>\n",
       "      <td>davideiacovozzi</td>\n",
       "      <td>18</td>\n",
       "      <td>55</td>\n",
       "      <td>False</td>\n",
       "      <td></td>\n",
       "      <td></td>\n",
       "      <td></td>\n",
       "      <td>@charliebilello</td>\n",
       "      <td>twitter for android</td>\n",
       "    </tr>\n",
       "    <tr>\n",
       "      <th>4</th>\n",
       "      <td>Thu Apr 21 10:32:26 +0000 2022</td>\n",
       "      <td>rt  biancoresearch  rates rise until something...</td>\n",
       "      <td>-0.40</td>\n",
       "      <td>0.400000</td>\n",
       "      <td>en</td>\n",
       "      <td>1787</td>\n",
       "      <td>417</td>\n",
       "      <td>davideiacovozzi</td>\n",
       "      <td>18</td>\n",
       "      <td>55</td>\n",
       "      <td>False</td>\n",
       "      <td></td>\n",
       "      <td></td>\n",
       "      <td></td>\n",
       "      <td>@biancoresearch</td>\n",
       "      <td>twitter for android</td>\n",
       "    </tr>\n",
       "  </tbody>\n",
       "</table>\n",
       "</div>"
      ],
      "text/plain": [
       "                       created_at  \\\n",
       "0  Fri Apr 22 22:17:05 +0000 2022   \n",
       "1  Fri Apr 22 13:44:53 +0000 2022   \n",
       "2  Fri Apr 22 06:10:34 +0000 2022   \n",
       "3  Thu Apr 21 17:22:09 +0000 2022   \n",
       "4  Thu Apr 21 10:32:26 +0000 2022   \n",
       "\n",
       "                                       original_text  polarity  subjectivity  \\\n",
       "0  rt  northstarcharts  the    year yield is tell...      0.16      0.540000   \n",
       "1  rt  michaelaarouet  german   y mortgage rate w...      0.15      0.175000   \n",
       "2                               rt  goldseek  when        0.00      0.000000   \n",
       "3  rt  charliebilello  the    year mortgage rate ...      0.00      0.183333   \n",
       "4  rt  biancoresearch  rates rise until something...     -0.40      0.400000   \n",
       "\n",
       "  lang  favorite_count  retweet_count  original_author  followers_count  \\\n",
       "0   en             188             43  davideiacovozzi               18   \n",
       "1   en             179             32  davideiacovozzi               18   \n",
       "2   en             193             26  davideiacovozzi               18   \n",
       "3   en             620            213  davideiacovozzi               18   \n",
       "4   en            1787            417  davideiacovozzi               18   \n",
       "\n",
       "   friends_count  possibly_sensitive             hashtags place  \\\n",
       "0             55               False  #gold, #gold, #gold         \n",
       "1             55               False                              \n",
       "2             55               False                              \n",
       "3             55               False                              \n",
       "4             55               False                              \n",
       "\n",
       "        hashtags_in_tweets       screen_name               device  \n",
       "0  #gold, #silver, #crypto  @northstarcharts  twitter for android  \n",
       "1                            @michaelaarouet  twitter for android  \n",
       "2                                  @goldseek  twitter for android  \n",
       "3                            @charliebilello  twitter for android  \n",
       "4                            @biancoresearch  twitter for android  "
      ]
     },
     "execution_count": 2,
     "metadata": {},
     "output_type": "execute_result"
    }
   ],
   "source": [
    "tweets = pd.read_csv(\"./my_clean_data.csv\")\n",
    "tweets[:5]"
   ]
  },
  {
   "cell_type": "code",
   "execution_count": 3,
   "id": "b4c6c467",
   "metadata": {
    "collapsed": true
   },
   "outputs": [
    {
     "name": "stdout",
     "output_type": "stream",
     "text": [
      "<class 'pandas.core.frame.DataFrame'>\n",
      "RangeIndex: 16472 entries, 0 to 16471\n",
      "Data columns (total 16 columns):\n",
      " #   Column              Non-Null Count  Dtype  \n",
      "---  ------              --------------  -----  \n",
      " 0   created_at          16472 non-null  object \n",
      " 1   original_text       16472 non-null  object \n",
      " 2   polarity            16472 non-null  float64\n",
      " 3   subjectivity        16472 non-null  float64\n",
      " 4   lang                16472 non-null  object \n",
      " 5   favorite_count      16472 non-null  int64  \n",
      " 6   retweet_count       16472 non-null  int64  \n",
      " 7   original_author     16472 non-null  object \n",
      " 8   followers_count     16472 non-null  int64  \n",
      " 9   friends_count       16472 non-null  int64  \n",
      " 10  possibly_sensitive  16472 non-null  bool   \n",
      " 11  hashtags            16472 non-null  object \n",
      " 12  place               16472 non-null  object \n",
      " 13  hashtags_in_tweets  16472 non-null  object \n",
      " 14  screen_name         16472 non-null  object \n",
      " 15  device              16472 non-null  object \n",
      "dtypes: bool(1), float64(2), int64(4), object(9)\n",
      "memory usage: 1.9+ MB\n"
     ]
    }
   ],
   "source": [
    "tweets.info()"
   ]
  },
  {
   "cell_type": "markdown",
   "id": "d2fbf328",
   "metadata": {},
   "source": [
    "## 1. Feature Extraction"
   ]
  },
  {
   "cell_type": "markdown",
   "id": "0c195d1f",
   "metadata": {},
   "source": [
    "- **I have created a dataset containg only the columns important for topic modeling**"
   ]
  },
  {
   "cell_type": "code",
   "execution_count": 4,
   "id": "9037cefa",
   "metadata": {},
   "outputs": [
    {
     "data": {
      "text/html": [
       "<div>\n",
       "<style scoped>\n",
       "    .dataframe tbody tr th:only-of-type {\n",
       "        vertical-align: middle;\n",
       "    }\n",
       "\n",
       "    .dataframe tbody tr th {\n",
       "        vertical-align: top;\n",
       "    }\n",
       "\n",
       "    .dataframe thead th {\n",
       "        text-align: right;\n",
       "    }\n",
       "</style>\n",
       "<table border=\"1\" class=\"dataframe\">\n",
       "  <thead>\n",
       "    <tr style=\"text-align: right;\">\n",
       "      <th></th>\n",
       "      <th>clean_text</th>\n",
       "    </tr>\n",
       "  </thead>\n",
       "  <tbody>\n",
       "    <tr>\n",
       "      <th>0</th>\n",
       "      <td>rt  northstarcharts  the    year yield is tell...</td>\n",
       "    </tr>\n",
       "    <tr>\n",
       "      <th>1</th>\n",
       "      <td>rt  michaelaarouet  german   y mortgage rate w...</td>\n",
       "    </tr>\n",
       "    <tr>\n",
       "      <th>2</th>\n",
       "      <td>rt  goldseek  when</td>\n",
       "    </tr>\n",
       "    <tr>\n",
       "      <th>3</th>\n",
       "      <td>rt  charliebilello  the    year mortgage rate ...</td>\n",
       "    </tr>\n",
       "    <tr>\n",
       "      <th>4</th>\n",
       "      <td>rt  biancoresearch  rates rise until something...</td>\n",
       "    </tr>\n",
       "  </tbody>\n",
       "</table>\n",
       "</div>"
      ],
      "text/plain": [
       "                                          clean_text\n",
       "0  rt  northstarcharts  the    year yield is tell...\n",
       "1  rt  michaelaarouet  german   y mortgage rate w...\n",
       "2                               rt  goldseek  when  \n",
       "3  rt  charliebilello  the    year mortgage rate ...\n",
       "4  rt  biancoresearch  rates rise until something..."
      ]
     },
     "execution_count": 4,
     "metadata": {},
     "output_type": "execute_result"
    }
   ],
   "source": [
    "df = pd.DataFrame(columns=['clean_text'])\n",
    "df['clean_text'] = tweets['original_text'].astype(str)\n",
    "df[:5]"
   ]
  },
  {
   "cell_type": "markdown",
   "id": "760c9655",
   "metadata": {},
   "source": [
    "## 2. Data Pre-processing"
   ]
  },
  {
   "cell_type": "markdown",
   "id": "e261412d",
   "metadata": {},
   "source": [
    "- **Get stop words from my data frame**"
   ]
  },
  {
   "cell_type": "code",
   "execution_count": 5,
   "id": "951185bc",
   "metadata": {},
   "outputs": [
    {
     "name": "stdout",
     "output_type": "stream",
     "text": [
      "FREQ X: \n",
      " the    10229\n",
      "rt      8286\n",
      "to      6412\n",
      "of      4737\n",
      "a       4593\n",
      "in      4204\n",
      "and     3902\n",
      "is      3876\n",
      "s       3080\n",
      "for     2773\n",
      "dtype: int64\n"
     ]
    }
   ],
   "source": [
    "freqX = pd.Series(\n",
    "    ' '.join(df['clean_text']).split()).value_counts()[:10]\n",
    "\n",
    "print('FREQ X: \\n', freqX)"
   ]
  },
  {
   "cell_type": "code",
   "execution_count": 7,
   "id": "ae0ddcb4",
   "metadata": {},
   "outputs": [
    {
     "ename": "SyntaxError",
     "evalue": "invalid syntax (542772593.py, line 1)",
     "output_type": "error",
     "traceback": [
      "\u001b[1;36m  Input \u001b[1;32mIn [7]\u001b[1;36m\u001b[0m\n\u001b[1;33m    - **Remove stopwords\u001b[0m\n\u001b[1;37m      ^\u001b[0m\n\u001b[1;31mSyntaxError\u001b[0m\u001b[1;31m:\u001b[0m invalid syntax\n"
     ]
    }
   ],
   "source": [
    "- **Remove stopwords"
   ]
  },
  {
   "cell_type": "code",
   "execution_count": 6,
   "id": "a49c14ec",
   "metadata": {},
   "outputs": [],
   "source": [
    "custom_stopwords = ['t', 'rt', 'ti', 'vk', 'to', 'co',\n",
    "                    'dqlw', 'z', 'nd', 'm', 's', 'kur', 'u', 'o', 'd']\n",
    "STOP_WORDS = STOPWORDS.union(custom_stopwords)"
   ]
  },
  {
   "cell_type": "markdown",
   "id": "3c84df85",
   "metadata": {},
   "source": [
    "- **Tokeniziation**"
   ]
  },
  {
   "cell_type": "code",
   "execution_count": 9,
   "id": "e3a58b5a",
   "metadata": {},
   "outputs": [
    {
     "data": {
      "text/plain": [
       "0        rt  northstarcharts  the    year yield is tell...\n",
       "1        rt  michaelaarouet  german   y mortgage rate w...\n",
       "2                                     rt  goldseek  when  \n",
       "3        rt  charliebilello  the    year mortgage rate ...\n",
       "4        rt  biancoresearch  rates rise until something...\n",
       "                               ...                        \n",
       "16467    rt  charanjitchanni  best wishes  amp  heartfe...\n",
       "16468    rt  pbhushan   thank you  bajpayeemanoj for th...\n",
       "16469                        rt  s shreyatweets  agree    \n",
       "16470    rt  tejjinc     peace yatra by late sunil dutt...\n",
       "16471    rt  parthtiwari    gujarat congress mla arrest...\n",
       "Name: clean_text, Length: 16472, dtype: object"
      ]
     },
     "execution_count": 9,
     "metadata": {},
     "output_type": "execute_result"
    }
   ],
   "source": [
    "df['clean_text']"
   ]
  },
  {
   "cell_type": "code",
   "execution_count": 10,
   "id": "fb0f3ec0",
   "metadata": {},
   "outputs": [
    {
     "data": {
      "text/plain": [
       "0        [northstarcharts, year, yield, telling, us, hi...\n",
       "1        [michaelaarouet, german, y, mortgage, rate, we...\n",
       "2                                               [goldseek]\n",
       "3        [charliebilello, year, mortgage, rate, us, ris...\n",
       "4        [biancoresearch, rates, rise, something, break...\n",
       "                               ...                        \n",
       "16467    [charanjitchanni, best, wishes, amp, heartfelt...\n",
       "16468    [pbhushan, thank, bajpayeemanoj, beautiful, me...\n",
       "16469                                [shreyatweets, agree]\n",
       "16470    [tejjinc, peace, yatra, late, sunil, dutt, mum...\n",
       "16471    [parthtiwari, gujarat, congress, mla, arrested...\n",
       "Name: clean_text, Length: 16472, dtype: object"
      ]
     },
     "execution_count": 10,
     "metadata": {},
     "output_type": "execute_result"
    }
   ],
   "source": [
    "df['clean_text'] = df['clean_text'].apply(\n",
    "    lambda x: [item for item in x.split() if item not in STOP_WORDS])\n",
    "\n",
    "df['clean_text']"
   ]
  },
  {
   "cell_type": "code",
   "execution_count": 11,
   "id": "d6cf6b1d",
   "metadata": {},
   "outputs": [
    {
     "name": "stdout",
     "output_type": "stream",
     "text": [
      "[['northstarcharts', 'year', 'yield', 'telling', 'us', 'high', 'risk', 'something', 'breaking', 'system', '#gold', '#silver', '#crypto', '#'], ['michaelaarouet', 'german', 'y', 'mortgage', 'rate', 'went', 'hear', 'sound', 'german', 'real', 'estate', 'bubble', 'bursting'], ['goldseek'], ['charliebilello', 'year', 'mortgage', 'rate', 'us', 'rises', 'highest', 'level', 'last', 'year', 'hit', 'time', 'low'], ['biancoresearch', 'rates', 'rise', 'something', 'breaks', 'anything', 'broken', 'yet']]\n"
     ]
    }
   ],
   "source": [
    "sentence_list = [sent for sent in df['clean_text']]\n",
    "print(sentence_list[:5])"
   ]
  },
  {
   "cell_type": "code",
   "execution_count": 12,
   "id": "82200c92",
   "metadata": {},
   "outputs": [
    {
     "name": "stdout",
     "output_type": "stream",
     "text": [
      "[['northstarcharts', 'year', 'yield', 'telling', 'us', 'high', 'risk', 'something', 'breaking', 'system', '#gold', '#silver', '#crypto', '#'], ['michaelaarouet', 'german', 'y', 'mortgage', 'rate', 'went', 'hear', 'sound', 'german', 'real', 'estate', 'bubble', 'bursting'], ['goldseek'], ['charliebilello', 'year', 'mortgage', 'rate', 'us', 'rises', 'highest', 'level', 'last', 'year', 'hit', 'time', 'low'], ['biancoresearch', 'rates', 'rise', 'something', 'breaks', 'anything', 'broken', 'yet']]\n"
     ]
    }
   ],
   "source": [
    "word_list = [sent for sent in sentence_list]\n",
    "print(word_list[:5])"
   ]
  },
  {
   "cell_type": "markdown",
   "id": "25516aad",
   "metadata": {},
   "source": [
    "- **Lemmatization**"
   ]
  },
  {
   "cell_type": "code",
   "execution_count": 13,
   "id": "171163c9",
   "metadata": {},
   "outputs": [
    {
     "name": "stdout",
     "output_type": "stream",
     "text": [
      "[['northstarcharts', 'year', 'yield', 'telling', 'u', 'high', 'risk', 'something', 'breaking', 'system', '#gold', '#silver', '#crypto', '#'], ['michaelaarouet', 'german', 'y', 'mortgage', 'rate', 'went', 'hear', 'sound', 'german', 'real', 'estate', 'bubble', 'bursting'], ['goldseek'], ['charliebilello', 'year', 'mortgage', 'rate', 'u', 'rise', 'highest', 'level', 'last', 'year', 'hit', 'time', 'low'], ['biancoresearch', 'rate', 'rise', 'something', 'break', 'anything', 'broken', 'yet']]\n"
     ]
    }
   ],
   "source": [
    "lemmatizer = WordNetLemmatizer()\n",
    "word_list_lematized = []\n",
    "\n",
    "for w in word_list:\n",
    "    word_list_lematized.append([lemmatizer.lemmatize(x) for x in w])\n",
    "print(word_list_lematized[:5])"
   ]
  },
  {
   "cell_type": "markdown",
   "id": "b25430dc",
   "metadata": {},
   "source": [
    "- **Modeling**"
   ]
  },
  {
   "cell_type": "code",
   "execution_count": 14,
   "id": "a8e010bf",
   "metadata": {},
   "outputs": [],
   "source": [
    "id2word = corpora.Dictionary(word_list_lematized) #dictionery with ID and WORD\n",
    "corpus = [id2word.doc2bow(tweet) for tweet in word_list]"
   ]
  },
  {
   "cell_type": "code",
   "execution_count": 15,
   "id": "d534a358",
   "metadata": {},
   "outputs": [
    {
     "name": "stdout",
     "output_type": "stream",
     "text": [
      "(16472,)\n",
      "(29723,)\n",
      "(16472,)\n"
     ]
    }
   ],
   "source": [
    "print(np.array(word_list).shape)\n",
    "print(np.array(id2word).shape)\n",
    "print(np.array(corpus).shape)"
   ]
  },
  {
   "cell_type": "markdown",
   "id": "928d2844",
   "metadata": {},
   "source": [
    "- **Build my Latent Dirichlet Allocation (LDA)Model**"
   ]
  },
  {
   "cell_type": "code",
   "execution_count": 17,
   "id": "4deccbab",
   "metadata": {},
   "outputs": [],
   "source": [
    "lda_model = gensim.models.ldamodel.LdaModel(corpus,\n",
    "                                            id2word=id2word,\n",
    "                                            num_topics=7,\n",
    "                                            random_state=100,\n",
    "                                            update_every=1,\n",
    "                                            chunksize=100,\n",
    "                                            passes=10,\n",
    "                                            alpha='auto',\n",
    "                                            per_word_topics=True)"
   ]
  },
  {
   "cell_type": "markdown",
   "id": "5e623918",
   "metadata": {},
   "source": [
    "- **see my pretty-print**"
   ]
  },
  {
   "cell_type": "code",
   "execution_count": 18,
   "id": "adcf3a22",
   "metadata": {},
   "outputs": [
    {
     "name": "stdout",
     "output_type": "stream",
     "text": [
      "[(0,\n",
      "  '0.039*\"amp\" + 0.035*\"follow\" + 0.018*\"go\" + 0.016*\"#\" + 0.015*\"man\" + '\n",
      "  '0.015*\"world\" + 0.013*\"power\" + 0.012*\"need\" + 0.010*\"#srilanka\" + '\n",
      "  '0.009*\"#covid\"'),\n",
      " (1,\n",
      "  '0.031*\"one\" + 0.017*\"day\" + 0.016*\"read\" + 0.013*\"cartoon\" + 0.013*\"full\" + '\n",
      "  '0.012*\"time\" + 0.012*\"country\" + 0.012*\"#srilanka\" + 0.011*\"minister\" + '\n",
      "  '0.010*\"two\"'),\n",
      " (2,\n",
      "  '0.021*\"make\" + 0.018*\"state\" + 0.017*\"president\" + 0.016*\"may\" + '\n",
      "  '0.014*\"think\" + 0.012*\"thank\" + 0.010*\"delivery\" + 0.010*\"happy\" + '\n",
      "  '0.009*\"way\" + 0.007*\"daily\"'),\n",
      " (3,\n",
      "  '0.019*\"us\" + 0.017*\"sri\" + 0.013*\"lanka\" + 0.011*\"don\" + 0.011*\"government\" '\n",
      "  '+ 0.008*\"#ukraine\" + 0.008*\"best\" + 0.008*\"tamil\" + 0.008*\"h\" + '\n",
      "  '0.007*\"life\"'),\n",
      " (4,\n",
      "  '0.028*\"will\" + 0.018*\"people\" + 0.016*\"back\" + 0.016*\"now\" + 0.016*\"today\" '\n",
      "  '+ 0.012*\"please\" + 0.011*\"online\" + 0.010*\"know\" + 0.009*\"profile\" + '\n",
      "  '0.008*\"even\"'),\n",
      " (5,\n",
      "  '0.043*\"india\" + 0.016*\"new\" + 0.014*\"sec\" + 0.012*\"aitcofficial\" + '\n",
      "  '0.010*\"last\" + 0.009*\"year\" + 0.009*\"never\" + 0.009*\"bjp\" + 0.008*\"big\" + '\n",
      "  '0.008*\"part\"'),\n",
      " (6,\n",
      "  '0.030*\"pm\" + 0.023*\"police\" + 0.022*\"good\" + 0.016*\"p\" + 0.014*\"public\" + '\n",
      "  '0.013*\"made\" + 0.012*\"better\" + 0.012*\"trading\" + 0.011*\"across\" + '\n",
      "  '0.010*\"work\"')]\n"
     ]
    }
   ],
   "source": [
    "pprint(lda_model.show_topics(formatted=True))"
   ]
  },
  {
   "cell_type": "markdown",
   "id": "144189f4",
   "metadata": {},
   "source": [
    "- **Check the model using Perplexity**\n",
    "- Perplexity is a metric used to judge how good a language model is. for more use the follwing link \n",
    "- https://towardsdatascience.com/perplexity-in-language-models-87a196019a94"
   ]
  },
  {
   "cell_type": "code",
   "execution_count": 20,
   "id": "5e473689",
   "metadata": {},
   "outputs": [
    {
     "name": "stdout",
     "output_type": "stream",
     "text": [
      "\n",
      "Perplexity:  -10.968949746402618\n"
     ]
    }
   ],
   "source": [
    "print('\\nPerplexity: ', lda_model.log_perplexity(corpus))"
   ]
  },
  {
   "cell_type": "markdown",
   "id": "577de5cb",
   "metadata": {},
   "source": [
    "- **Ceck the Coherence Score**"
   ]
  },
  {
   "cell_type": "code",
   "execution_count": 22,
   "id": "f6b6af0c",
   "metadata": {},
   "outputs": [
    {
     "name": "stdout",
     "output_type": "stream",
     "text": [
      "\n",
      " Ldamodel Coherence Score/Accuracy on Tweets:  0.4959697369726013\n"
     ]
    }
   ],
   "source": [
    "doc_lda = lda_model[corpus]\n",
    "coherence_model_lda = CoherenceModel(\n",
    "    model=lda_model, texts=word_list, dictionary=id2word, coherence='c_v')\n",
    "coherence_lda = coherence_model_lda.get_coherence()\n",
    "print('\\n Ldamodel Coherence Score/Accuracy on Tweets: ', coherence_lda)"
   ]
  },
  {
   "cell_type": "markdown",
   "id": "f99d3c3a",
   "metadata": {},
   "source": [
    "## 3. Data Visualization"
   ]
  },
  {
   "cell_type": "code",
   "execution_count": 23,
   "id": "02354638",
   "metadata": {},
   "outputs": [],
   "source": [
    "import pyLDAvis.gensim_models as gensimvis\n",
    "import pyLDAvis"
   ]
  },
  {
   "cell_type": "code",
   "execution_count": 24,
   "id": "e99dc0dc",
   "metadata": {},
   "outputs": [
    {
     "data": {
      "text/html": [
       "\n",
       "<link rel=\"stylesheet\" type=\"text/css\" href=\"https://cdn.jsdelivr.net/gh/bmabey/pyLDAvis@3.3.1/pyLDAvis/js/ldavis.v1.0.0.css\">\n",
       "\n",
       "\n",
       "<div id=\"ldavis_el1177620019927639841977875157\"></div>\n",
       "<script type=\"text/javascript\">\n",
       "\n",
       "var ldavis_el1177620019927639841977875157_data = {\"mdsDat\": {\"x\": [0.31499484442466535, -0.11761009759062294, -0.04083348168376384, -0.027049892244994454, -0.05034822767703152, -0.04302385613192554, -0.03612928909632676], \"y\": [0.05270246031626216, 0.25759553929869683, -0.09096810812429271, -0.05534737784305904, -0.18462013983564682, 0.009649050759033512, 0.010988575429005469], \"topics\": [1, 2, 3, 4, 5, 6, 7], \"cluster\": [1, 1, 1, 1, 1, 1, 1], \"Freq\": [22.51901320147717, 16.53491383473842, 16.224089264929884, 15.948457929080337, 15.679149639367743, 7.3199331825522425, 5.774442947854211]}, \"tinfo\": {\"Term\": [\"india\", \"amp\", \"follow\", \"will\", \"one\", \"people\", \"us\", \"back\", \"now\", \"today\", \"go\", \"day\", \"pm\", \"sri\", \"read\", \"new\", \"#\", \"man\", \"world\", \"sec\", \"make\", \"please\", \"cartoon\", \"police\", \"full\", \"lanka\", \"power\", \"aitcofficial\", \"good\", \"online\", \"will\", \"people\", \"back\", \"now\", \"today\", \"please\", \"online\", \"know\", \"profile\", \"even\", \"th\", \"going\", \"let\", \"first\", \"want\", \"wordle\", \"govt\", \"twitter\", \"delhi\", \"right\", \"next\", \"say\", \"re\", \"food\", \"another\", \"johnson\", \"free\", \"always\", \"much\", \"face\", \"india\", \"new\", \"sec\", \"aitcofficial\", \"last\", \"year\", \"never\", \"bjp\", \"big\", \"part\", \"price\", \"said\", \"mamataofficial\", \"narendramodi\", \"april\", \"week\", \"fuel\", \"#fuelpricehike\", \"indian\", \"person\", \"great\", \"support\", \"stop\", \"leader\", \"working\", \"towards\", \"business\", \"hospital\", \"court\", \"thanks\", \"zoo\", \"amp\", \"follow\", \"go\", \"#\", \"man\", \"world\", \"power\", \"need\", \"#covid\", \"take\", \"covid\", \"ve\", \"national\", \"high\", \"min\", \"protest\", \"change\", \"well\", \"join\", \"catch\", \"really\", \"making\", \"set\", \"ji\", \"old\", \"dr\", \"peace\", \"ll\", \"isn\", \"petrol\", \"#srilanka\", \"etprime\", \"us\", \"sri\", \"lanka\", \"don\", \"government\", \"#ukraine\", \"best\", \"tamil\", \"h\", \"life\", \"mr\", \"love\", \"russian\", \"watch\", \"live\", \"see\", \"hate\", \"russia\", \"bear\", \"war\", \"long\", \"top\", \"per\", \"three\", \"supply\", \"ukraine\", \"official\", \"taken\", \"among\", \"believe\", \"understand\", \"upside\", \"one\", \"day\", \"read\", \"full\", \"time\", \"country\", \"minister\", \"two\", \"army\", \"cartoon\", \"still\", \"tomorrow\", \"many\", \"crisis\", \"news\", \"must\", \"uk\", \"story\", \"chart\", \"#earthday\", \"everyone\", \"coal\", \"st\", \"ani\", \"every\", \"come\", \"political\", \"boris\", \"visit\", \"bank\", \"#srilankacrisis\", \"#srilanka\", \"#lka\", \"#economiccrisislk\", \"make\", \"state\", \"president\", \"may\", \"think\", \"thank\", \"delivery\", \"happy\", \"way\", \"daily\", \"open\", \"easter\", \"congress\", \"yet\", \"report\", \"past\", \"continue\", \"actor\", \"truth\", \"word\", \"welcome\", \"use\", \"control\", \"within\", \"stand\", \"air\", \"health\", \"issue\", \"continues\", \"share\", \"pm\", \"police\", \"good\", \"p\", \"public\", \"made\", \"better\", \"trading\", \"across\", \"work\", \"lost\", \"b\", \"place\", \"sure\", \"parliament\", \"auto\", \"seems\", \"index\", \"total\", \"channel\", \"yes\", \"including\", \"lead\", \"trust\", \"left\", \"appeal\", \"number\", \"put\", \"others\", \"strong\", \"account\"], \"Freq\": [1088.0, 980.0, 867.0, 979.0, 756.0, 634.0, 469.0, 563.0, 556.0, 552.0, 443.0, 422.0, 266.0, 415.0, 399.0, 411.0, 392.0, 381.0, 377.0, 353.0, 240.0, 422.0, 326.0, 207.0, 319.0, 318.0, 320.0, 319.0, 196.0, 375.0, 978.3297763172898, 633.1919170174821, 562.8943024826821, 555.994861145469, 551.6771282636506, 422.08697186611664, 374.7880028262645, 356.6665262719994, 326.1571851420747, 281.93665374201555, 256.9333488666987, 238.50084945574878, 201.80987436298645, 200.93238320363432, 200.1233997097192, 198.51259459230596, 194.7966208587844, 192.581869143965, 191.45124961435346, 165.34103067643883, 164.28961300790962, 150.1588213886369, 147.322817923458, 146.5311233791695, 145.31985989239615, 142.2527807846446, 141.76834992523825, 139.0787921270933, 136.97683176967857, 135.12065157384876, 1087.5690160726838, 410.37908643619284, 353.01358014817004, 318.9065056069978, 255.4665969401927, 236.9758857630189, 234.4211769625128, 233.38647266511788, 206.15014970521426, 200.37765902097124, 192.44786079808375, 184.12011402700307, 176.20647264842452, 168.60693793155517, 166.8023564335793, 158.06082550327798, 152.01189573396954, 151.07596472188615, 148.81851568210135, 143.73333334755253, 141.17359189230214, 136.88246253715303, 136.53234205532365, 135.2524177888182, 135.07151586119093, 123.60043004498985, 122.720131878259, 119.90359415823339, 119.08952953514614, 116.82584619019352, 123.25027387057364, 979.8534183189439, 867.0491993500948, 442.41453816656906, 392.11198339357327, 380.99611648507545, 376.708207597839, 319.3875273262247, 291.1908386144932, 220.9502803265909, 219.29781950677184, 196.86774649761554, 194.39688844022012, 187.976687313778, 186.1649831201942, 178.06780602952236, 171.6171944501327, 160.48057138603386, 149.3256320068967, 131.8772231240424, 126.78171533664855, 122.22158328154902, 116.46736523771862, 112.85389132097647, 111.1494583950068, 110.35097679379452, 109.257706417983, 107.9963205209057, 107.12738706420843, 107.12631306740569, 104.59343169465126, 261.2281022471732, 116.17568171474474, 468.6433538537705, 414.692521725735, 317.4006695523139, 277.44238935245386, 273.73849474871406, 201.40764049248995, 200.84958446833647, 195.89806800677306, 192.3341521688697, 179.53100663048306, 165.23982644985958, 160.0877058888056, 159.2574383296132, 147.57393930910862, 146.38154927617188, 139.90891416008222, 136.79309562078348, 134.33202609472966, 131.3376647826495, 125.21650282937644, 114.37742072191541, 111.14904998263935, 111.04562084536411, 110.80666545587312, 108.68493943568484, 107.5192759600225, 105.49191339216023, 104.97902513504498, 104.31269729127632, 104.26720820882218, 104.62712737685733, 107.33356712517003, 755.2639480335203, 421.6498402615706, 399.0172507537075, 318.43134650008506, 293.5366713457788, 287.59970624250684, 266.4753769041781, 250.8325900756307, 230.75421643210237, 325.2642874141437, 208.5625637218014, 190.67971326678932, 174.23759029094705, 162.693132969369, 156.7409149096365, 148.4996928942043, 138.266730347465, 133.57791286627597, 205.11331971557243, 131.90365269573536, 128.42446686521183, 128.30411291586188, 122.50081425352526, 116.57342737513129, 112.27310901278497, 111.03858977191831, 107.56552994387854, 106.40197305222553, 104.89135499223242, 104.08658103057813, 202.29425295932367, 284.96394572632533, 171.25886388985384, 121.86606788567045, 239.4267427248486, 208.54146800262237, 195.40904544063957, 183.3781176540482, 157.9265474390788, 130.78817311585792, 114.86065726162786, 110.5094547875706, 105.65807850056139, 82.63715792747283, 82.60116862980318, 81.73112090658469, 80.75271553358459, 72.50149091870257, 72.46035051125378, 72.27193471357539, 72.01958827121469, 64.877664101144, 60.38384751717878, 60.361531308452555, 59.43692817102914, 58.86203166437905, 57.66510968348806, 57.00959146171587, 56.34224359519525, 56.26951708821112, 55.599799079154074, 53.214492897486615, 52.87043247293338, 51.58756385668847, 265.9998129703127, 206.17965553996663, 195.89536059524605, 138.53191213224832, 123.81882333664598, 112.88411382651458, 109.63917918920998, 107.31683272484015, 100.18253200079175, 92.47971061119358, 84.04553639290236, 81.69295857310945, 77.42178658854573, 77.21409767538216, 68.18646067683464, 63.02235433787031, 56.894970482422806, 55.802881465001434, 54.58955540526423, 53.83276186886701, 53.20486708718258, 51.346054222827824, 49.2844469665696, 48.59952145583937, 44.04964014054106, 44.02455675781853, 43.936480304786855, 43.78497866751476, 42.50951545544767, 42.06202824007305, 42.27455350531364], \"Total\": [1088.0, 980.0, 867.0, 979.0, 756.0, 634.0, 469.0, 563.0, 556.0, 552.0, 443.0, 422.0, 266.0, 415.0, 399.0, 411.0, 392.0, 381.0, 377.0, 353.0, 240.0, 422.0, 326.0, 207.0, 319.0, 318.0, 320.0, 319.0, 196.0, 375.0, 979.185308696714, 634.047787996422, 563.7523917541673, 556.8508428964647, 552.5327648276742, 422.94463603569494, 375.6536510144231, 357.5226555160205, 327.1323679064611, 282.79309016736363, 257.78889513459393, 239.3566885808133, 202.66535323177217, 201.78776304544533, 200.97979781080008, 199.37796352351802, 195.65451811148816, 193.43924024943806, 192.30742444814695, 166.19640617712025, 165.14450313168746, 151.01471435448727, 148.1775721529357, 147.38793024373788, 146.1755985717337, 143.1090393761804, 142.62523671804416, 139.93379420685636, 137.83184882900224, 135.9779853975156, 1088.4293966157907, 411.2388851738457, 353.9635876956786, 319.76543848969015, 256.3267705938596, 237.83601148078998, 235.28258085908493, 234.24560885209758, 207.01043654005272, 201.23976977476212, 193.30801968174632, 184.98154722679797, 177.06565302467976, 169.46592827091115, 167.66329267398453, 158.9204738360353, 152.8716812913547, 151.93870682945908, 149.67939136558365, 144.59392939275082, 142.03328286213528, 137.74382421535725, 137.39302369531134, 136.1134223230618, 135.93355315198957, 124.4614192212268, 123.5796224065159, 120.76985964528704, 119.95102985164631, 117.68656124119627, 124.18211759567035, 980.7164168283733, 867.9206517957892, 443.2783147551157, 392.9745468410658, 381.8617545475726, 377.5711570103482, 320.25154696610514, 292.0542076652738, 221.81341429923256, 220.15987488013647, 197.7298699417347, 195.25976153382865, 188.83998071038127, 187.02680356667574, 178.95484321949903, 172.48055528017403, 161.34346227270936, 150.18755654849497, 132.73966459523345, 127.64984636941165, 123.08396350565823, 117.32951315518464, 113.71636842226808, 112.01437179614895, 111.21311520557853, 110.12062259485592, 108.86032464236449, 107.99034484679198, 107.99148277849554, 105.45687632908975, 690.3574384351251, 481.95575236447206, 469.5026764371717, 415.5526404909411, 318.2629350344673, 278.3006033509452, 274.5980107975518, 202.26789194005667, 201.70829598501493, 196.76974323065727, 193.19335918019868, 180.39005588516736, 166.09819497172901, 160.94696235357685, 160.1156595780729, 148.43261578969356, 147.2393500282389, 140.7666917992645, 137.65247859250456, 135.19016527183783, 132.21994839198075, 126.07470844049222, 115.23509056139746, 112.00741609539033, 111.90533618431641, 111.66668315887435, 109.54399670715013, 108.3764211911677, 106.35051832404163, 105.83948502398148, 105.17116822771233, 105.12737484822448, 105.49167446173826, 108.27549823280712, 756.14167314441, 422.5261633743015, 399.8951530653869, 319.31275832537506, 294.4128901497701, 288.4773505391941, 267.3523741104218, 251.7095258319146, 231.63752329465473, 326.5239825270888, 209.43956627731234, 191.5613871822149, 175.11453831462538, 163.57160317659574, 157.61749350260314, 149.376940036964, 139.14283230497153, 134.45541280850514, 206.47694488336256, 132.7825932611037, 129.30198719077117, 129.20747047235625, 123.3804854554223, 117.45351073948065, 113.14944755962692, 111.91483545212381, 108.44298882969491, 107.2792645636116, 105.76877776504995, 104.96365509165037, 216.60825966883115, 690.3574384351251, 467.9946617369289, 273.41627087893534, 240.31314949587923, 209.427456528372, 196.29643554483215, 184.263282375402, 158.81303570903435, 131.67477678547712, 115.75545357307126, 111.39464519487636, 106.54391054011879, 83.52435026853858, 83.48923287976848, 82.6183318472565, 81.63903655875546, 73.38705217290688, 73.34661466401069, 73.15897829855969, 72.90593792789032, 65.80674588503274, 61.27180033855863, 61.25103572590986, 60.322109779639966, 59.74829008383733, 58.552425355201606, 57.898176512905266, 57.229639937821155, 57.16360752885897, 56.48516283244697, 54.10063698989792, 53.75765305622279, 52.472907260981316, 266.8963232541563, 207.07659721725727, 196.79057971671253, 139.42823044476353, 124.71716316854128, 113.78031097062775, 110.53661282815034, 108.23520641369797, 101.08278937692117, 93.37486134064837, 84.94258834632768, 82.58816056926622, 78.31852892663947, 78.11139737424332, 69.08571383532775, 63.92208643049694, 57.792560124457836, 56.70760740031377, 55.48597211243039, 54.73277582481718, 54.10156180519563, 52.2436958036471, 50.181237791932716, 49.497291555073254, 44.944217752651596, 44.922791236991245, 44.83359763174611, 44.67986193765626, 43.40714461101638, 42.957204026780936, 43.17732370196621], \"Category\": [\"Default\", \"Default\", \"Default\", \"Default\", \"Default\", \"Default\", \"Default\", \"Default\", \"Default\", \"Default\", \"Default\", \"Default\", \"Default\", \"Default\", \"Default\", \"Default\", \"Default\", \"Default\", \"Default\", \"Default\", \"Default\", \"Default\", \"Default\", \"Default\", \"Default\", \"Default\", \"Default\", \"Default\", \"Default\", \"Default\", \"Topic1\", \"Topic1\", \"Topic1\", \"Topic1\", \"Topic1\", \"Topic1\", \"Topic1\", \"Topic1\", \"Topic1\", \"Topic1\", \"Topic1\", \"Topic1\", \"Topic1\", \"Topic1\", \"Topic1\", \"Topic1\", \"Topic1\", \"Topic1\", \"Topic1\", \"Topic1\", \"Topic1\", \"Topic1\", \"Topic1\", \"Topic1\", \"Topic1\", \"Topic1\", \"Topic1\", \"Topic1\", \"Topic1\", \"Topic1\", \"Topic2\", \"Topic2\", \"Topic2\", \"Topic2\", \"Topic2\", \"Topic2\", \"Topic2\", \"Topic2\", \"Topic2\", \"Topic2\", \"Topic2\", \"Topic2\", \"Topic2\", \"Topic2\", \"Topic2\", \"Topic2\", \"Topic2\", \"Topic2\", \"Topic2\", \"Topic2\", \"Topic2\", \"Topic2\", \"Topic2\", \"Topic2\", \"Topic2\", \"Topic2\", \"Topic2\", \"Topic2\", \"Topic2\", \"Topic2\", \"Topic2\", \"Topic3\", \"Topic3\", \"Topic3\", \"Topic3\", \"Topic3\", \"Topic3\", \"Topic3\", \"Topic3\", \"Topic3\", \"Topic3\", \"Topic3\", \"Topic3\", \"Topic3\", \"Topic3\", \"Topic3\", \"Topic3\", \"Topic3\", \"Topic3\", \"Topic3\", \"Topic3\", \"Topic3\", \"Topic3\", \"Topic3\", \"Topic3\", \"Topic3\", \"Topic3\", \"Topic3\", \"Topic3\", \"Topic3\", \"Topic3\", \"Topic3\", \"Topic3\", \"Topic4\", \"Topic4\", \"Topic4\", \"Topic4\", \"Topic4\", \"Topic4\", \"Topic4\", \"Topic4\", \"Topic4\", \"Topic4\", \"Topic4\", \"Topic4\", \"Topic4\", \"Topic4\", \"Topic4\", \"Topic4\", \"Topic4\", \"Topic4\", \"Topic4\", \"Topic4\", \"Topic4\", \"Topic4\", \"Topic4\", \"Topic4\", \"Topic4\", \"Topic4\", \"Topic4\", \"Topic4\", \"Topic4\", \"Topic4\", \"Topic4\", \"Topic4\", \"Topic5\", \"Topic5\", \"Topic5\", \"Topic5\", \"Topic5\", \"Topic5\", \"Topic5\", \"Topic5\", \"Topic5\", \"Topic5\", \"Topic5\", \"Topic5\", \"Topic5\", \"Topic5\", \"Topic5\", \"Topic5\", \"Topic5\", \"Topic5\", \"Topic5\", \"Topic5\", \"Topic5\", \"Topic5\", \"Topic5\", \"Topic5\", \"Topic5\", \"Topic5\", \"Topic5\", \"Topic5\", \"Topic5\", \"Topic5\", \"Topic5\", \"Topic5\", \"Topic5\", \"Topic5\", \"Topic6\", \"Topic6\", \"Topic6\", \"Topic6\", \"Topic6\", \"Topic6\", \"Topic6\", \"Topic6\", \"Topic6\", \"Topic6\", \"Topic6\", \"Topic6\", \"Topic6\", \"Topic6\", \"Topic6\", \"Topic6\", \"Topic6\", \"Topic6\", \"Topic6\", \"Topic6\", \"Topic6\", \"Topic6\", \"Topic6\", \"Topic6\", \"Topic6\", \"Topic6\", \"Topic6\", \"Topic6\", \"Topic6\", \"Topic6\", \"Topic7\", \"Topic7\", \"Topic7\", \"Topic7\", \"Topic7\", \"Topic7\", \"Topic7\", \"Topic7\", \"Topic7\", \"Topic7\", \"Topic7\", \"Topic7\", \"Topic7\", \"Topic7\", \"Topic7\", \"Topic7\", \"Topic7\", \"Topic7\", \"Topic7\", \"Topic7\", \"Topic7\", \"Topic7\", \"Topic7\", \"Topic7\", \"Topic7\", \"Topic7\", \"Topic7\", \"Topic7\", \"Topic7\", \"Topic7\", \"Topic7\"], \"logprob\": [30.0, 29.0, 28.0, 27.0, 26.0, 25.0, 24.0, 23.0, 22.0, 21.0, 20.0, 19.0, 18.0, 17.0, 16.0, 15.0, 14.0, 13.0, 12.0, 11.0, 10.0, 9.0, 8.0, 7.0, 6.0, 5.0, 4.0, 3.0, 2.0, 1.0, -3.5714, -4.0065, -4.1242, -4.1365, -4.1443, -4.4121, -4.5309, -4.5805, -4.6699, -4.8156, -4.9085, -4.9829, -5.1499, -5.1543, -5.1583, -5.1664, -5.1853, -5.1967, -5.2026, -5.3493, -5.3556, -5.4456, -5.4646, -5.47, -5.4783, -5.4997, -5.5031, -5.5222, -5.5375, -5.5511, -3.1567, -4.1313, -4.2819, -4.3835, -4.6053, -4.6804, -4.6913, -4.6957, -4.8198, -4.8482, -4.8886, -4.9328, -4.9767, -5.0208, -5.0316, -5.0854, -5.1244, -5.1306, -5.1457, -5.1804, -5.1984, -5.2293, -5.2318, -5.2412, -5.2426, -5.3313, -5.3385, -5.3617, -5.3685, -5.3877, -5.3342, -3.242, -3.3643, -4.0372, -4.1579, -4.1866, -4.1979, -4.363, -4.4554, -4.7315, -4.739, -4.8469, -4.8595, -4.8931, -4.9028, -4.9472, -4.9841, -5.0512, -5.1233, -5.2475, -5.2869, -5.3236, -5.3718, -5.4033, -5.4185, -5.4257, -5.4357, -5.4473, -5.4554, -5.4554, -5.4793, -4.564, -5.3743, -3.9624, -4.0847, -4.3521, -4.4867, -4.5001, -4.8069, -4.8097, -4.8347, -4.853, -4.9219, -5.0049, -5.0365, -5.0417, -5.1179, -5.1261, -5.1713, -5.1938, -5.212, -5.2345, -5.2822, -5.3728, -5.4014, -5.4023, -5.4045, -5.4238, -5.4346, -5.4536, -5.4585, -5.4649, -5.4653, -5.4619, -5.4363, -3.4682, -4.0511, -4.1062, -4.3318, -4.4132, -4.4337, -4.51, -4.5705, -4.6539, -4.3106, -4.755, -4.8446, -4.9348, -5.0034, -5.0406, -5.0947, -5.1661, -5.2006, -4.7717, -5.2132, -5.2399, -5.2408, -5.2871, -5.3367, -5.3743, -5.3854, -5.4171, -5.428, -5.4423, -5.45, -4.7855, -4.4429, -4.9521, -5.2923, -3.8553, -3.9934, -4.0584, -4.122, -4.2714, -4.4599, -4.5898, -4.6284, -4.6733, -4.9191, -4.9195, -4.9301, -4.9421, -5.0499, -5.0505, -5.0531, -5.0566, -5.161, -5.2328, -5.2332, -5.2486, -5.2583, -5.2789, -5.2903, -5.3021, -5.3034, -5.3153, -5.3592, -5.3657, -5.3902, -3.5129, -3.7676, -3.8188, -4.1652, -4.2775, -4.37, -4.3992, -4.4206, -4.4894, -4.5694, -4.665, -4.6934, -4.7471, -4.7498, -4.8741, -4.9529, -5.0551, -5.0745, -5.0965, -5.1105, -5.1222, -5.1578, -5.1987, -5.2127, -5.311, -5.3116, -5.3136, -5.3171, -5.3466, -5.3572, -5.3522], \"loglift\": [30.0, 29.0, 28.0, 27.0, 26.0, 25.0, 24.0, 23.0, 22.0, 21.0, 20.0, 19.0, 18.0, 17.0, 16.0, 15.0, 14.0, 13.0, 12.0, 11.0, 10.0, 9.0, 8.0, 7.0, 6.0, 5.0, 4.0, 3.0, 2.0, 1.0, 1.4899, 1.4895, 1.4893, 1.4893, 1.4893, 1.4888, 1.4885, 1.4884, 1.4878, 1.4878, 1.4875, 1.4872, 1.4866, 1.4866, 1.4865, 1.4865, 1.4864, 1.4864, 1.4863, 1.4857, 1.4856, 1.4851, 1.485, 1.485, 1.4849, 1.4848, 1.4848, 1.4847, 1.4846, 1.4845, 1.7989, 1.7976, 1.797, 1.797, 1.7963, 1.7961, 1.796, 1.796, 1.7955, 1.7954, 1.7952, 1.795, 1.7948, 1.7946, 1.7945, 1.7943, 1.7941, 1.794, 1.7939, 1.7937, 1.7936, 1.7934, 1.7934, 1.7934, 1.7933, 1.7928, 1.7927, 1.7925, 1.7925, 1.7924, 1.7922, 1.8178, 1.8177, 1.8167, 1.8165, 1.8164, 1.8164, 1.816, 1.8157, 1.8148, 1.8147, 1.8143, 1.8142, 1.8141, 1.8141, 1.8137, 1.8137, 1.8133, 1.8129, 1.8122, 1.8118, 1.8116, 1.8113, 1.8111, 1.8109, 1.8109, 1.8108, 1.8107, 1.8106, 1.8106, 1.8105, 0.8469, 0.3959, 1.834, 1.8337, 1.8331, 1.8327, 1.8327, 1.8315, 1.8315, 1.8314, 1.8314, 1.831, 1.8306, 1.8305, 1.8304, 1.83, 1.83, 1.8297, 1.8295, 1.8294, 1.8291, 1.829, 1.8283, 1.8281, 1.8281, 1.8281, 1.8279, 1.8279, 1.8277, 1.8276, 1.8276, 1.8276, 1.8276, 1.8271, 1.8517, 1.8508, 1.8506, 1.8501, 1.8499, 1.8498, 1.8496, 1.8493, 1.849, 1.849, 1.8486, 1.8482, 1.8478, 1.8475, 1.8473, 1.8469, 1.8465, 1.8463, 1.8462, 1.8462, 1.846, 1.8458, 1.8457, 1.8453, 1.8451, 1.845, 1.8447, 1.8446, 1.8445, 1.8444, 1.7845, 0.968, 0.8476, 1.0448, 2.6109, 2.6103, 2.61, 2.6098, 2.609, 2.6078, 2.6068, 2.6066, 2.6062, 2.6039, 2.6039, 2.6038, 2.6037, 2.6024, 2.6024, 2.6024, 2.6023, 2.6004, 2.6, 2.5999, 2.5998, 2.5996, 2.5993, 2.5991, 2.5989, 2.5988, 2.5988, 2.5981, 2.5979, 2.5976, 2.8484, 2.8474, 2.8472, 2.8453, 2.8445, 2.8438, 2.8436, 2.8432, 2.8428, 2.8421, 2.8411, 2.8408, 2.8402, 2.8402, 2.8386, 2.8376, 2.8361, 2.8356, 2.8354, 2.8351, 2.835, 2.8344, 2.8337, 2.8334, 2.8316, 2.8315, 2.8315, 2.8315, 2.8308, 2.8307, 2.8306]}, \"token.table\": {\"Topic\": [3, 3, 5, 1, 2, 3, 4, 5, 6, 7, 2, 1, 2, 3, 4, 5, 6, 7, 1, 2, 3, 4, 5, 6, 7, 1, 2, 3, 4, 5, 6, 4, 7, 7, 6, 6, 2, 1, 4, 3, 5, 1, 7, 2, 5, 7, 7, 1, 5, 4, 4, 4, 7, 2, 2, 5, 2, 5, 3, 3, 7, 5, 5, 5, 6, 6, 6, 6, 5, 2, 3, 5, 6, 5, 1, 6, 4, 3, 6, 1, 2, 3, 4, 5, 6, 7, 1, 5, 5, 1, 1, 3, 1, 1, 2, 5, 3, 1, 7, 4, 1, 2, 4, 6, 4, 6, 3, 2, 7, 7, 2, 2, 3, 6, 3, 1, 3, 1, 4, 2, 7, 2, 7, 1, 4, 4, 3, 4, 7, 4, 7, 6, 3, 2, 3, 5, 6, 3, 5, 4, 1, 5, 2, 3, 3, 2, 2, 5, 1, 1, 7, 4, 3, 5, 1, 6, 7, 7, 7, 2, 6, 3, 1, 4, 2, 3, 7, 1, 7, 7, 5, 3, 6, 2, 1, 3, 7, 7, 1, 5, 3, 6, 1, 4, 4, 2, 1, 2, 4, 7, 3, 6, 4, 5, 6, 6, 5, 2, 5, 7, 4, 2, 7, 3, 4, 4, 1, 6, 2, 6, 4, 5, 1, 5, 4, 7, 2, 7, 7, 6, 1, 5, 5, 4, 4, 4, 4, 6, 3, 5, 1, 4, 4, 6, 2, 6, 3, 1, 6, 6, 1, 7, 2, 3, 2, 7, 6, 2], \"Freq\": [0.9975200764301411, 0.996332889506244, 0.9941062059274229, 0.15361192611173083, 0.05851882899494508, 0.21944560873104407, 0.09875052392896982, 0.44620607108645627, 0.018287134060920338, 0.007314853624368135, 0.9938218058515351, 0.19444666240905392, 0.061966518789698506, 0.20940409797898116, 0.15171113220926186, 0.3653887832082222, 0.008547106039958414, 0.006410329529968811, 0.0782203493344043, 0.06952919940835939, 0.37806502178295415, 0.056492474519292, 0.4128296214871338, 0.0028970499753483074, 0.0014485249876741537, 0.018466516494410393, 0.009233258247205197, 0.02308314561801299, 0.013849887370807794, 0.9325590829677248, 0.004616629123602598, 0.9937316203382768, 0.972732823597573, 0.9892880936151888, 0.9877406810778615, 0.9796442600605373, 0.9976062500897362, 0.9933268856736923, 0.9888641702146299, 0.9992694964455778, 0.9961388064381782, 0.9919576277899981, 0.9794582836110286, 0.9960439004661904, 0.9972477546574189, 0.9855748383385525, 0.9928783912220331, 0.998665386142618, 0.9908191545844232, 0.9907733408852644, 0.9892761057730958, 0.996488513367504, 0.9951453838287536, 0.9951189101528356, 0.99468246658624, 0.9880753790696145, 0.9953097250563752, 0.9953327087483923, 0.9949091488325726, 0.9916732772819851, 0.9866117547708054, 0.9928469259161264, 0.990654793659051, 0.9918256105329738, 0.9921724142555804, 0.9875738800756344, 0.9859061359053306, 0.9905652865470495, 0.998345275501519, 0.9920715157441955, 0.9963087522287363, 0.9965054864934066, 0.9937221868011814, 0.9987547200152067, 0.9932013834000493, 0.9934737107431886, 0.9953266240342817, 0.989823680901453, 0.9925158032916997, 0.21993720269955205, 0.18466425509679368, 0.24068599540705696, 0.12449275624502945, 0.1659903416600393, 0.033198068332007856, 0.031123189061257363, 0.9971955107994532, 0.9898413329943905, 0.9899306482517533, 0.992807766678874, 0.9960960811817517, 0.9989392442801259, 0.9973679646420412, 0.9956162266059534, 0.9942979544413241, 0.9958888008977161, 0.9971162253767775, 0.9985098031605961, 0.9959826343423014, 0.9978222318660833, 0.9966547252892203, 0.9927250652712277, 0.9938229803277783, 0.9964572337010817, 0.9952599575454351, 0.9914107916465406, 0.9945098587630533, 0.9936253991886039, 0.9761943372398191, 0.9875218258580619, 0.9996054896926473, 0.9954610226605994, 0.9908188798506526, 0.9796557480440861, 0.9909442709905567, 0.9922503890668629, 0.9944277048048228, 0.9985381191710323, 0.9960317872568776, 0.994823909376357, 0.9764605688518386, 0.9918198932621125, 0.9789913408250188, 0.9967169858036303, 0.9978377084964392, 0.9915827526540887, 0.9908293204527033, 0.9892819925303968, 0.988903230232583, 0.9941163080077491, 0.993141950800001, 0.9945356735632906, 0.9886685530397951, 0.9939815937959959, 0.9977432813385734, 0.9936353753072009, 0.993144144839294, 0.9946643342961785, 0.994941604259466, 0.9933882787111808, 0.9939647560700267, 0.9907821111034725, 0.9972506079796388, 0.9955518915686106, 0.9963903698779029, 0.9945487640674382, 0.9969874318346088, 0.996082328878089, 0.9930696867895457, 0.9984720452391901, 0.9814068538823695, 0.9873012530138621, 0.9890919771167629, 0.9984901332845969, 0.9982599636323035, 0.9941401679846189, 0.9906203318678316, 0.9969286675775952, 0.9842845390884192, 0.9938393401257131, 0.9841580852341878, 0.9920969862510434, 0.9983474621057618, 0.9919098032749283, 0.9958924320319315, 0.9956676478102384, 0.9831645340545846, 0.9977665255562782, 0.9966416800230599, 0.9948009710815957, 0.9959150071897169, 0.9960919877578683, 0.9933955217208411, 0.9932334949998465, 0.9965385023997843, 0.9972138582265495, 0.9942496834411466, 0.9847837054956682, 0.9920529663441893, 0.9977615305948944, 0.9911933002904282, 0.9816403978536798, 0.9928012512145106, 0.9911963620323663, 0.9930321644927622, 0.9946938100501747, 0.9932806921575512, 0.9972777208470747, 0.9945534572883349, 0.9862861219030437, 0.9937003930726318, 0.9909875917751375, 0.9986701071366357, 0.9969161617899471, 0.9785139319562881, 0.9979589279483319, 0.9979012261860286, 0.9971394202941269, 0.9966129083315244, 0.9777172642292039, 0.9950339888674646, 0.9945999450821525, 0.9857716362579144, 0.9947316699704342, 0.9920683190796774, 0.9960881016663473, 0.9969397629243026, 0.9948754286739634, 0.9941661882720052, 0.9948805480267757, 0.994029703936618, 0.9985975812758741, 0.9990357769500957, 0.9970694136721776, 0.9910058089856089, 0.9912415319777462, 0.9962926726682536, 0.9885877575825306, 0.9899531562344186, 0.9792433006451374, 0.9977293115457253, 0.997181172108725, 0.9917866246788287, 0.9965267242908519, 0.9953392107552849, 0.988219881195424, 0.9989293427654422, 0.9874759581774248, 0.9935482788469431, 0.9927315245453845, 0.9951248940367506, 0.9914756222418751, 0.9970854398314551, 0.9948949636130168, 0.9942079594037392, 0.9780825010187856, 0.9920928432701979, 0.9987894950157171, 0.9844869637180186, 0.9795752723022011, 0.9981042863672673, 0.9852758941656403, 0.9931322831608341, 0.9984872864366264, 0.9964849247362294, 0.9796390017507804, 0.9947258792737043, 0.9904807743775215], \"Term\": [\"#\", \"#covid\", \"#earthday\", \"#economiccrisislk\", \"#economiccrisislk\", \"#economiccrisislk\", \"#economiccrisislk\", \"#economiccrisislk\", \"#economiccrisislk\", \"#economiccrisislk\", \"#fuelpricehike\", \"#lka\", \"#lka\", \"#lka\", \"#lka\", \"#lka\", \"#lka\", \"#lka\", \"#srilanka\", \"#srilanka\", \"#srilanka\", \"#srilanka\", \"#srilanka\", \"#srilanka\", \"#srilanka\", \"#srilankacrisis\", \"#srilankacrisis\", \"#srilankacrisis\", \"#srilankacrisis\", \"#srilankacrisis\", \"#srilankacrisis\", \"#ukraine\", \"account\", \"across\", \"actor\", \"air\", \"aitcofficial\", \"always\", \"among\", \"amp\", \"ani\", \"another\", \"appeal\", \"april\", \"army\", \"auto\", \"b\", \"back\", \"bank\", \"bear\", \"believe\", \"best\", \"better\", \"big\", \"bjp\", \"boris\", \"business\", \"cartoon\", \"catch\", \"change\", \"channel\", \"chart\", \"coal\", \"come\", \"congress\", \"continue\", \"continues\", \"control\", \"country\", \"court\", \"covid\", \"crisis\", \"daily\", \"day\", \"delhi\", \"delivery\", \"don\", \"dr\", \"easter\", \"etprime\", \"etprime\", \"etprime\", \"etprime\", \"etprime\", \"etprime\", \"etprime\", \"even\", \"every\", \"everyone\", \"face\", \"first\", \"follow\", \"food\", \"free\", \"fuel\", \"full\", \"go\", \"going\", \"good\", \"government\", \"govt\", \"great\", \"h\", \"happy\", \"hate\", \"health\", \"high\", \"hospital\", \"including\", \"index\", \"india\", \"indian\", \"isn\", \"issue\", \"ji\", \"johnson\", \"join\", \"know\", \"lanka\", \"last\", \"lead\", \"leader\", \"left\", \"let\", \"life\", \"live\", \"ll\", \"long\", \"lost\", \"love\", \"made\", \"make\", \"making\", \"mamataofficial\", \"man\", \"many\", \"may\", \"min\", \"minister\", \"mr\", \"much\", \"must\", \"narendramodi\", \"national\", \"need\", \"never\", \"new\", \"news\", \"next\", \"now\", \"number\", \"official\", \"old\", \"one\", \"online\", \"open\", \"others\", \"p\", \"parliament\", \"part\", \"past\", \"peace\", \"people\", \"per\", \"person\", \"petrol\", \"place\", \"please\", \"pm\", \"police\", \"political\", \"power\", \"president\", \"price\", \"profile\", \"protest\", \"public\", \"put\", \"re\", \"read\", \"really\", \"report\", \"right\", \"russia\", \"russian\", \"said\", \"say\", \"sec\", \"see\", \"seems\", \"set\", \"share\", \"sri\", \"st\", \"stand\", \"state\", \"still\", \"stop\", \"story\", \"strong\", \"supply\", \"support\", \"sure\", \"take\", \"taken\", \"tamil\", \"th\", \"thank\", \"thanks\", \"think\", \"three\", \"time\", \"today\", \"tomorrow\", \"top\", \"total\", \"towards\", \"trading\", \"trust\", \"truth\", \"twitter\", \"two\", \"uk\", \"ukraine\", \"understand\", \"upside\", \"us\", \"use\", \"ve\", \"visit\", \"want\", \"war\", \"watch\", \"way\", \"week\", \"welcome\", \"well\", \"will\", \"within\", \"word\", \"wordle\", \"work\", \"working\", \"world\", \"year\", \"yes\", \"yet\", \"zoo\"]}, \"R\": 30, \"lambda.step\": 0.01, \"plot.opts\": {\"xlab\": \"PC1\", \"ylab\": \"PC2\"}, \"topic.order\": [5, 6, 1, 4, 2, 3, 7]};\n",
       "\n",
       "function LDAvis_load_lib(url, callback){\n",
       "  var s = document.createElement('script');\n",
       "  s.src = url;\n",
       "  s.async = true;\n",
       "  s.onreadystatechange = s.onload = callback;\n",
       "  s.onerror = function(){console.warn(\"failed to load library \" + url);};\n",
       "  document.getElementsByTagName(\"head\")[0].appendChild(s);\n",
       "}\n",
       "\n",
       "if(typeof(LDAvis) !== \"undefined\"){\n",
       "   // already loaded: just create the visualization\n",
       "   !function(LDAvis){\n",
       "       new LDAvis(\"#\" + \"ldavis_el1177620019927639841977875157\", ldavis_el1177620019927639841977875157_data);\n",
       "   }(LDAvis);\n",
       "}else if(typeof define === \"function\" && define.amd){\n",
       "   // require.js is available: use it to load d3/LDAvis\n",
       "   require.config({paths: {d3: \"https://d3js.org/d3.v5\"}});\n",
       "   require([\"d3\"], function(d3){\n",
       "      window.d3 = d3;\n",
       "      LDAvis_load_lib(\"https://cdn.jsdelivr.net/gh/bmabey/pyLDAvis@3.3.1/pyLDAvis/js/ldavis.v3.0.0.js\", function(){\n",
       "        new LDAvis(\"#\" + \"ldavis_el1177620019927639841977875157\", ldavis_el1177620019927639841977875157_data);\n",
       "      });\n",
       "    });\n",
       "}else{\n",
       "    // require.js not available: dynamically load d3 & LDAvis\n",
       "    LDAvis_load_lib(\"https://d3js.org/d3.v5.js\", function(){\n",
       "         LDAvis_load_lib(\"https://cdn.jsdelivr.net/gh/bmabey/pyLDAvis@3.3.1/pyLDAvis/js/ldavis.v3.0.0.js\", function(){\n",
       "                 new LDAvis(\"#\" + \"ldavis_el1177620019927639841977875157\", ldavis_el1177620019927639841977875157_data);\n",
       "            })\n",
       "         });\n",
       "}\n",
       "</script>"
      ],
      "text/plain": [
       "<IPython.core.display.HTML object>"
      ]
     },
     "execution_count": 24,
     "metadata": {},
     "output_type": "execute_result"
    }
   ],
   "source": [
    "vis_data = gensimvis.prepare(lda_model, corpus, id2word)\n",
    "pyLDAvis.display(vis_data)"
   ]
  },
  {
   "cell_type": "markdown",
   "id": "6672917d",
   "metadata": {},
   "source": [
    "## 4. Analysis of Sentiments from the clean_text"
   ]
  },
  {
   "cell_type": "markdown",
   "id": "845a3852",
   "metadata": {},
   "source": [
    "- **𝐩𝐨𝐥𝐚𝐫𝐢𝐭𝐲 based analysys**"
   ]
  },
  {
   "cell_type": "code",
   "execution_count": 27,
   "id": "30ea1d59",
   "metadata": {},
   "outputs": [
    {
     "data": {
      "text/html": [
       "<div>\n",
       "<style scoped>\n",
       "    .dataframe tbody tr th:only-of-type {\n",
       "        vertical-align: middle;\n",
       "    }\n",
       "\n",
       "    .dataframe tbody tr th {\n",
       "        vertical-align: top;\n",
       "    }\n",
       "\n",
       "    .dataframe thead th {\n",
       "        text-align: right;\n",
       "    }\n",
       "</style>\n",
       "<table border=\"1\" class=\"dataframe\">\n",
       "  <thead>\n",
       "    <tr style=\"text-align: right;\">\n",
       "      <th></th>\n",
       "      <th>clean_text</th>\n",
       "      <th>polarity</th>\n",
       "    </tr>\n",
       "  </thead>\n",
       "  <tbody>\n",
       "    <tr>\n",
       "      <th>0</th>\n",
       "      <td>rt  northstarcharts  the    year yield is tell...</td>\n",
       "      <td>0.16</td>\n",
       "    </tr>\n",
       "    <tr>\n",
       "      <th>1</th>\n",
       "      <td>rt  michaelaarouet  german   y mortgage rate w...</td>\n",
       "      <td>0.15</td>\n",
       "    </tr>\n",
       "    <tr>\n",
       "      <th>2</th>\n",
       "      <td>rt  goldseek  when</td>\n",
       "      <td>0.00</td>\n",
       "    </tr>\n",
       "    <tr>\n",
       "      <th>3</th>\n",
       "      <td>rt  charliebilello  the    year mortgage rate ...</td>\n",
       "      <td>0.00</td>\n",
       "    </tr>\n",
       "    <tr>\n",
       "      <th>4</th>\n",
       "      <td>rt  biancoresearch  rates rise until something...</td>\n",
       "      <td>-0.40</td>\n",
       "    </tr>\n",
       "  </tbody>\n",
       "</table>\n",
       "</div>"
      ],
      "text/plain": [
       "                                          clean_text  polarity\n",
       "0  rt  northstarcharts  the    year yield is tell...      0.16\n",
       "1  rt  michaelaarouet  german   y mortgage rate w...      0.15\n",
       "2                               rt  goldseek  when        0.00\n",
       "3  rt  charliebilello  the    year mortgage rate ...      0.00\n",
       "4  rt  biancoresearch  rates rise until something...     -0.40"
      ]
     },
     "execution_count": 27,
     "metadata": {},
     "output_type": "execute_result"
    }
   ],
   "source": [
    "df = pd.DataFrame(columns=['clean_text', 'polarity'])\n",
    "df['clean_text'] = tweets['original_text']\n",
    "df['polarity'] = tweets['polarity']\n",
    "\n",
    "def clean_tweet(tweet):\n",
    "    clean_tweet = re.sub(\"[^a-zA-Z]\",  \" \",  tweet)\n",
    "    return clean_tweet\n",
    "\n",
    "df['clean_text'] = df['clean_text'].apply(clean_tweet)\n",
    "df[:5]"
   ]
  },
  {
   "cell_type": "markdown",
   "id": "7de68e13",
   "metadata": {},
   "source": [
    "- **duplication check**"
   ]
  },
  {
   "cell_type": "code",
   "execution_count": 30,
   "id": "aafccb2d",
   "metadata": {},
   "outputs": [
    {
     "name": "stdout",
     "output_type": "stream",
     "text": [
      "duplicate count: 0\n"
     ]
    }
   ],
   "source": [
    "print(\"duplicate count: {}\".format(df.isnull().sum().sum()))"
   ]
  },
  {
   "cell_type": "markdown",
   "id": "42ece927",
   "metadata": {},
   "source": [
    "  **get text catagories as:**\n",
    "- Positive\n",
    "- Negative \n",
    "- Neutral"
   ]
  },
  {
   "cell_type": "code",
   "execution_count": 36,
   "id": "e90375b0",
   "metadata": {},
   "outputs": [],
   "source": [
    "def text_category(p):\n",
    "  if p > 0:\n",
    "    return \"positive\"\n",
    "  elif p < 0:\n",
    "    return \"negative\"\n",
    "  else:\n",
    "    return \"neutral\""
   ]
  },
  {
   "cell_type": "markdown",
   "id": "de3dc583",
   "metadata": {},
   "source": [
    "- **use the above function to test clean_texts with their polarity**"
   ]
  },
  {
   "cell_type": "code",
   "execution_count": 37,
   "id": "103487d6",
   "metadata": {},
   "outputs": [
    {
     "ename": "TypeError",
     "evalue": "'>=' not supported between instances of 'str' and 'int'",
     "output_type": "error",
     "traceback": [
      "\u001b[1;31m---------------------------------------------------------------------------\u001b[0m",
      "\u001b[1;31mTypeError\u001b[0m                                 Traceback (most recent call last)",
      "Input \u001b[1;32mIn [37]\u001b[0m, in \u001b[0;36m<cell line: 1>\u001b[1;34m()\u001b[0m\n\u001b[1;32m----> 1\u001b[0m df[\u001b[38;5;124m\"\u001b[39m\u001b[38;5;124mpolarity\u001b[39m\u001b[38;5;124m\"\u001b[39m] \u001b[38;5;241m=\u001b[39m \u001b[43mdf\u001b[49m\u001b[43m[\u001b[49m\u001b[38;5;124;43m\"\u001b[39;49m\u001b[38;5;124;43mpolarity\u001b[39;49m\u001b[38;5;124;43m\"\u001b[39;49m\u001b[43m]\u001b[49m\u001b[38;5;241;43m.\u001b[39;49m\u001b[43mapply\u001b[49m\u001b[43m(\u001b[49m\u001b[43mtext_category\u001b[49m\u001b[43m)\u001b[49m\n\u001b[0;32m      2\u001b[0m df[:\u001b[38;5;241m5\u001b[39m]\n",
      "File \u001b[1;32m~\\anaconda3\\lib\\site-packages\\pandas\\core\\series.py:4138\u001b[0m, in \u001b[0;36mSeries.apply\u001b[1;34m(self, func, convert_dtype, args, **kwds)\u001b[0m\n\u001b[0;32m   4136\u001b[0m     \u001b[38;5;28;01melse\u001b[39;00m:\n\u001b[0;32m   4137\u001b[0m         values \u001b[38;5;241m=\u001b[39m \u001b[38;5;28mself\u001b[39m\u001b[38;5;241m.\u001b[39mastype(\u001b[38;5;28mobject\u001b[39m)\u001b[38;5;241m.\u001b[39m_values\n\u001b[1;32m-> 4138\u001b[0m         mapped \u001b[38;5;241m=\u001b[39m \u001b[43mlib\u001b[49m\u001b[38;5;241;43m.\u001b[39;49m\u001b[43mmap_infer\u001b[49m\u001b[43m(\u001b[49m\u001b[43mvalues\u001b[49m\u001b[43m,\u001b[49m\u001b[43m \u001b[49m\u001b[43mf\u001b[49m\u001b[43m,\u001b[49m\u001b[43m \u001b[49m\u001b[43mconvert\u001b[49m\u001b[38;5;241;43m=\u001b[39;49m\u001b[43mconvert_dtype\u001b[49m\u001b[43m)\u001b[49m\n\u001b[0;32m   4140\u001b[0m \u001b[38;5;28;01mif\u001b[39;00m \u001b[38;5;28mlen\u001b[39m(mapped) \u001b[38;5;129;01mand\u001b[39;00m \u001b[38;5;28misinstance\u001b[39m(mapped[\u001b[38;5;241m0\u001b[39m], Series):\n\u001b[0;32m   4141\u001b[0m     \u001b[38;5;66;03m# GH 25959 use pd.array instead of tolist\u001b[39;00m\n\u001b[0;32m   4142\u001b[0m     \u001b[38;5;66;03m# so extension arrays can be used\u001b[39;00m\n\u001b[0;32m   4143\u001b[0m     \u001b[38;5;28;01mreturn\u001b[39;00m \u001b[38;5;28mself\u001b[39m\u001b[38;5;241m.\u001b[39m_constructor_expanddim(pd_array(mapped), index\u001b[38;5;241m=\u001b[39m\u001b[38;5;28mself\u001b[39m\u001b[38;5;241m.\u001b[39mindex)\n",
      "File \u001b[1;32mpandas\\_libs\\lib.pyx:2467\u001b[0m, in \u001b[0;36mpandas._libs.lib.map_infer\u001b[1;34m()\u001b[0m\n",
      "Input \u001b[1;32mIn [36]\u001b[0m, in \u001b[0;36mtext_category\u001b[1;34m(p)\u001b[0m\n\u001b[0;32m      1\u001b[0m \u001b[38;5;28;01mdef\u001b[39;00m \u001b[38;5;21mtext_category\u001b[39m(p):\n\u001b[1;32m----> 2\u001b[0m   \u001b[38;5;28;01mif\u001b[39;00m \u001b[43mp\u001b[49m\u001b[43m \u001b[49m\u001b[38;5;241;43m>\u001b[39;49m\u001b[38;5;241;43m=\u001b[39;49m\u001b[43m \u001b[49m\u001b[38;5;241;43m0\u001b[39;49m:\n\u001b[0;32m      3\u001b[0m     \u001b[38;5;28;01mreturn\u001b[39;00m \u001b[38;5;124m\"\u001b[39m\u001b[38;5;124mpositive\u001b[39m\u001b[38;5;124m\"\u001b[39m\n\u001b[0;32m      4\u001b[0m   \u001b[38;5;28;01melif\u001b[39;00m p \u001b[38;5;241m<\u001b[39m \u001b[38;5;241m0\u001b[39m:\n",
      "\u001b[1;31mTypeError\u001b[0m: '>=' not supported between instances of 'str' and 'int'"
     ]
    }
   ],
   "source": [
    "df[\"polarity\"] = df[\"polarity\"].apply(text_category)\n",
    "df[:5]\n"
   ]
  },
  {
   "cell_type": "markdown",
   "id": "5c938d15",
   "metadata": {},
   "source": [
    "- **use piechart and barchart to visualize better**"
   ]
  },
  {
   "cell_type": "code",
   "execution_count": null,
   "id": "16bec9ce",
   "metadata": {},
   "outputs": [],
   "source": [
    "category = df.groupby(['polarity']).size()\n",
    "category"
   ]
  },
  {
   "cell_type": "code",
   "execution_count": null,
   "id": "1dfd44b9",
   "metadata": {},
   "outputs": [],
   "source": []
  },
  {
   "cell_type": "markdown",
   "id": "2625adbf",
   "metadata": {},
   "source": [
    "build a classification model on the clean tweet.\n",
    "Remove rows from cleanTweet where 𝐩𝐨𝐥𝐚𝐫𝐢𝐭𝐲 =0 (i.e where 𝐬𝐜𝐨𝐫𝐞 = Neutral) and reset the frame index.¶"
   ]
  },
  {
   "cell_type": "code",
   "execution_count": null,
   "id": "c8e320a9",
   "metadata": {},
   "outputs": [],
   "source": [
    "df = df[df['polarity'] != 'neutral']\n",
    "df\n"
   ]
  },
  {
   "cell_type": "markdown",
   "id": "01a60f91",
   "metadata": {},
   "source": [
    "Construct a column  𝐬𝐜𝐨𝐫𝐞𝐦𝐚𝐩  Use the mapping {'positive':1, 'negative':0} on the  𝐬𝐜𝐨𝐫𝐞  column¶"
   ]
  },
  {
   "cell_type": "code",
   "execution_count": null,
   "id": "324e8042",
   "metadata": {},
   "outputs": [],
   "source": [
    "df['scoremap'] = df[\"polarity\"].map( lambda score: 1 if score == \"positive\" else 0)\n",
    "df"
   ]
  },
  {
   "cell_type": "markdown",
   "id": "c9f88d1a",
   "metadata": {},
   "source": [
    "Create feature and target variables (X,y) from  𝐜𝐥𝐞𝐚𝐧-𝐭𝐞𝐱𝐭  and  𝐬𝐜𝐨𝐫𝐞𝐦𝐚𝐩  columns respectively."
   ]
  },
  {
   "cell_type": "code",
   "execution_count": null,
   "id": "c9d54383",
   "metadata": {},
   "outputs": [],
   "source": [
    "(X, y) = df['clean_text'], df['scoremap']"
   ]
  },
  {
   "cell_type": "markdown",
   "id": "fe1f5a80",
   "metadata": {},
   "source": [
    "Use train_test_split function to construct (X_train, y_train) and (X_test, y_test) from (X,y)¶"
   ]
  },
  {
   "cell_type": "code",
   "execution_count": null,
   "id": "cead6958",
   "metadata": {},
   "outputs": [],
   "source": [
    "from sklearn.model_selection import train_test_split"
   ]
  },
  {
   "cell_type": "code",
   "execution_count": null,
   "id": "a18c75a5",
   "metadata": {},
   "outputs": [],
   "source": []
  },
  {
   "cell_type": "code",
   "execution_count": null,
   "id": "c98f6fb3",
   "metadata": {},
   "outputs": [],
   "source": []
  },
  {
   "cell_type": "code",
   "execution_count": null,
   "id": "91bdde9b",
   "metadata": {},
   "outputs": [],
   "source": []
  }
 ],
 "metadata": {
  "kernelspec": {
   "display_name": "Python 3 (ipykernel)",
   "language": "python",
   "name": "python3"
  },
  "language_info": {
   "codemirror_mode": {
    "name": "ipython",
    "version": 3
   },
   "file_extension": ".py",
   "mimetype": "text/x-python",
   "name": "python",
   "nbconvert_exporter": "python",
   "pygments_lexer": "ipython3",
   "version": "3.8.8"
  }
 },
 "nbformat": 4,
 "nbformat_minor": 5
}

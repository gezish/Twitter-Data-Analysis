{
 "cells": [
  {
   "cell_type": "markdown",
   "id": "1ff6069a",
   "metadata": {},
   "source": [
    "## Objective\n",
    " - To write code base necessary to do data analysis and produce a machine learning model to perform topic modelling and sentiment analysis\n",
    "###  Required modules at the minimum:\n",
    "1. Data exploration \n",
    "2. Pre-processing \n",
    "3. Visualisations.\n"
   ]
  },
  {
   "cell_type": "markdown",
   "id": "d0f303d2",
   "metadata": {},
   "source": [
    "### Import liberaries"
   ]
  },
  {
   "cell_type": "code",
   "execution_count": 2,
   "id": "e2a71e06",
   "metadata": {},
   "outputs": [],
   "source": [
    "import warnings\n",
    "warnings.filterwarnings('ignore')\n",
    "import matplotlib.pyplot as plt\n",
    "import seaborn as sns\n",
    "from wordcloud import STOPWORDS,WordCloud\n",
    "from gensim import corpora\n",
    "import pandas as pd\n",
    "import statistics\n",
    "import string\n",
    "import nltk\n",
    "import warnings\n",
    "import numpy as np\n",
    "import sklearn as sk\n",
    "import matplotlib.pyplot as plt\n",
    "import plotly.express as px\n",
    "import plotly.graph_objects as go\n",
    "from plotly.subplots import make_subplots\n",
    "\n",
    "import sys, os\n"
   ]
  },
  {
   "cell_type": "markdown",
   "id": "afab7cf8",
   "metadata": {},
   "source": [
    "### Load Data"
   ]
  },
  {
   "cell_type": "code",
   "execution_count": 3,
   "id": "3b19636e",
   "metadata": {},
   "outputs": [],
   "source": [
    "sys.path.append(os.path.abspath(os.path.join('../..')))"
   ]
  },
  {
   "cell_type": "code",
   "execution_count": 4,
   "id": "72cbc2b6",
   "metadata": {},
   "outputs": [],
   "source": [
    "raw_data = pd.read_csv('../data/processed_tweet_data.csv')"
   ]
  },
  {
   "cell_type": "markdown",
   "id": "246008c0",
   "metadata": {},
   "source": [
    "### 1. Explore The Data"
   ]
  },
  {
   "cell_type": "markdown",
   "id": "0538b03d",
   "metadata": {},
   "source": [
    "#### 1.1 Check The size of The Data"
   ]
  },
  {
   "cell_type": "code",
   "execution_count": 13,
   "id": "521162a6",
   "metadata": {},
   "outputs": [
    {
     "data": {
      "text/plain": [
       "(24625, 15)"
      ]
     },
     "execution_count": 13,
     "metadata": {},
     "output_type": "execute_result"
    }
   ],
   "source": [
    "raw_data.shape"
   ]
  },
  {
   "cell_type": "markdown",
   "id": "87d875b9",
   "metadata": {},
   "source": [
    "#### 1.2 Explore the first and the last values of the data"
   ]
  },
  {
   "cell_type": "code",
   "execution_count": 8,
   "id": "3349daf0",
   "metadata": {},
   "outputs": [
    {
     "data": {
      "text/html": [
       "<div>\n",
       "<style scoped>\n",
       "    .dataframe tbody tr th:only-of-type {\n",
       "        vertical-align: middle;\n",
       "    }\n",
       "\n",
       "    .dataframe tbody tr th {\n",
       "        vertical-align: top;\n",
       "    }\n",
       "\n",
       "    .dataframe thead th {\n",
       "        text-align: right;\n",
       "    }\n",
       "</style>\n",
       "<table border=\"1\" class=\"dataframe\">\n",
       "  <thead>\n",
       "    <tr style=\"text-align: right;\">\n",
       "      <th></th>\n",
       "      <th>created_at</th>\n",
       "      <th>source</th>\n",
       "      <th>original_text</th>\n",
       "      <th>polarity</th>\n",
       "      <th>subjectivity</th>\n",
       "      <th>lang</th>\n",
       "      <th>favorite_count</th>\n",
       "      <th>retweet_count</th>\n",
       "      <th>original_author</th>\n",
       "      <th>followers_count</th>\n",
       "      <th>friends_count</th>\n",
       "      <th>possibly_sensitive</th>\n",
       "      <th>hashtags</th>\n",
       "      <th>user_mentions</th>\n",
       "      <th>place</th>\n",
       "    </tr>\n",
       "  </thead>\n",
       "  <tbody>\n",
       "    <tr>\n",
       "      <th>0</th>\n",
       "      <td>Fri Apr 22 22:20:18 +0000 2022</td>\n",
       "      <td>&lt;a href=\"http://twitter.com/download/android\" ...</td>\n",
       "      <td>RT @nikitheblogger: Irre: Annalena Baerbock sa...</td>\n",
       "      <td>0.0</td>\n",
       "      <td>0.0</td>\n",
       "      <td>de</td>\n",
       "      <td>2356</td>\n",
       "      <td>355</td>\n",
       "      <td>McMc74078966</td>\n",
       "      <td>3</td>\n",
       "      <td>12</td>\n",
       "      <td>NaN</td>\n",
       "      <td>[]</td>\n",
       "      <td>[{'screen_name': 'nikitheblogger', 'name': 'Ne...</td>\n",
       "      <td>NaN</td>\n",
       "    </tr>\n",
       "    <tr>\n",
       "      <th>1</th>\n",
       "      <td>Fri Apr 22 22:19:16 +0000 2022</td>\n",
       "      <td>&lt;a href=\"http://twitter.com/download/android\" ...</td>\n",
       "      <td>RT @sagt_mit: Merkel schaffte es in 1 Jahr 1 M...</td>\n",
       "      <td>0.0</td>\n",
       "      <td>0.0</td>\n",
       "      <td>de</td>\n",
       "      <td>1985</td>\n",
       "      <td>505</td>\n",
       "      <td>McMc74078966</td>\n",
       "      <td>3</td>\n",
       "      <td>12</td>\n",
       "      <td>NaN</td>\n",
       "      <td>[]</td>\n",
       "      <td>[{'screen_name': 'sagt_mit', 'name': 'Sie sagt...</td>\n",
       "      <td>NaN</td>\n",
       "    </tr>\n",
       "    <tr>\n",
       "      <th>2</th>\n",
       "      <td>Fri Apr 22 22:17:28 +0000 2022</td>\n",
       "      <td>&lt;a href=\"http://twitter.com/download/android\" ...</td>\n",
       "      <td>RT @Kryptonoun: @WRi007 Pharma in Lebensmittel...</td>\n",
       "      <td>0.0</td>\n",
       "      <td>0.0</td>\n",
       "      <td>de</td>\n",
       "      <td>16</td>\n",
       "      <td>4</td>\n",
       "      <td>McMc74078966</td>\n",
       "      <td>3</td>\n",
       "      <td>12</td>\n",
       "      <td>NaN</td>\n",
       "      <td>[]</td>\n",
       "      <td>[{'screen_name': 'Kryptonoun', 'name': 'Krypto...</td>\n",
       "      <td>NaN</td>\n",
       "    </tr>\n",
       "  </tbody>\n",
       "</table>\n",
       "</div>"
      ],
      "text/plain": [
       "                       created_at  \\\n",
       "0  Fri Apr 22 22:20:18 +0000 2022   \n",
       "1  Fri Apr 22 22:19:16 +0000 2022   \n",
       "2  Fri Apr 22 22:17:28 +0000 2022   \n",
       "\n",
       "                                              source  \\\n",
       "0  <a href=\"http://twitter.com/download/android\" ...   \n",
       "1  <a href=\"http://twitter.com/download/android\" ...   \n",
       "2  <a href=\"http://twitter.com/download/android\" ...   \n",
       "\n",
       "                                       original_text  polarity  subjectivity  \\\n",
       "0  RT @nikitheblogger: Irre: Annalena Baerbock sa...       0.0           0.0   \n",
       "1  RT @sagt_mit: Merkel schaffte es in 1 Jahr 1 M...       0.0           0.0   \n",
       "2  RT @Kryptonoun: @WRi007 Pharma in Lebensmittel...       0.0           0.0   \n",
       "\n",
       "  lang  favorite_count  retweet_count original_author  followers_count  \\\n",
       "0   de            2356            355    McMc74078966                3   \n",
       "1   de            1985            505    McMc74078966                3   \n",
       "2   de              16              4    McMc74078966                3   \n",
       "\n",
       "   friends_count possibly_sensitive hashtags  \\\n",
       "0             12                NaN       []   \n",
       "1             12                NaN       []   \n",
       "2             12                NaN       []   \n",
       "\n",
       "                                       user_mentions place  \n",
       "0  [{'screen_name': 'nikitheblogger', 'name': 'Ne...   NaN  \n",
       "1  [{'screen_name': 'sagt_mit', 'name': 'Sie sagt...   NaN  \n",
       "2  [{'screen_name': 'Kryptonoun', 'name': 'Krypto...   NaN  "
      ]
     },
     "execution_count": 8,
     "metadata": {},
     "output_type": "execute_result"
    }
   ],
   "source": [
    "raw_data.head(3)"
   ]
  },
  {
   "cell_type": "code",
   "execution_count": 9,
   "id": "9d6dc056",
   "metadata": {},
   "outputs": [
    {
     "data": {
      "text/html": [
       "<div>\n",
       "<style scoped>\n",
       "    .dataframe tbody tr th:only-of-type {\n",
       "        vertical-align: middle;\n",
       "    }\n",
       "\n",
       "    .dataframe tbody tr th {\n",
       "        vertical-align: top;\n",
       "    }\n",
       "\n",
       "    .dataframe thead th {\n",
       "        text-align: right;\n",
       "    }\n",
       "</style>\n",
       "<table border=\"1\" class=\"dataframe\">\n",
       "  <thead>\n",
       "    <tr style=\"text-align: right;\">\n",
       "      <th></th>\n",
       "      <th>created_at</th>\n",
       "      <th>source</th>\n",
       "      <th>original_text</th>\n",
       "      <th>polarity</th>\n",
       "      <th>subjectivity</th>\n",
       "      <th>lang</th>\n",
       "      <th>favorite_count</th>\n",
       "      <th>retweet_count</th>\n",
       "      <th>original_author</th>\n",
       "      <th>followers_count</th>\n",
       "      <th>friends_count</th>\n",
       "      <th>possibly_sensitive</th>\n",
       "      <th>hashtags</th>\n",
       "      <th>user_mentions</th>\n",
       "      <th>place</th>\n",
       "    </tr>\n",
       "  </thead>\n",
       "  <tbody>\n",
       "    <tr>\n",
       "      <th>24622</th>\n",
       "      <td>Fri Apr 22 14:44:35 +0000 2022</td>\n",
       "      <td>&lt;a href=\"http://twitter.com/download/iphone\" r...</td>\n",
       "      <td>RT @Parthtiwari25: Gujarat Congress MLA arrest...</td>\n",
       "      <td>0.0</td>\n",
       "      <td>0.0</td>\n",
       "      <td>en</td>\n",
       "      <td>1025</td>\n",
       "      <td>203</td>\n",
       "      <td>kitukalesatya</td>\n",
       "      <td>706</td>\n",
       "      <td>643</td>\n",
       "      <td>NaN</td>\n",
       "      <td>[]</td>\n",
       "      <td>[{'screen_name': 'Parthtiwari25', 'name': 'Par...</td>\n",
       "      <td>NaN</td>\n",
       "    </tr>\n",
       "    <tr>\n",
       "      <th>24623</th>\n",
       "      <td>Fri Apr 22 14:44:08 +0000 2022</td>\n",
       "      <td>&lt;a href=\"http://twitter.com/download/iphone\" r...</td>\n",
       "      <td>RT @news24tvchannel: CM नीतीश कुमार ने तेजस्वी...</td>\n",
       "      <td>0.0</td>\n",
       "      <td>0.0</td>\n",
       "      <td>hi</td>\n",
       "      <td>3735</td>\n",
       "      <td>301</td>\n",
       "      <td>kitukalesatya</td>\n",
       "      <td>706</td>\n",
       "      <td>643</td>\n",
       "      <td>False</td>\n",
       "      <td>[]</td>\n",
       "      <td>[{'screen_name': 'news24tvchannel', 'name': 'N...</td>\n",
       "      <td>NaN</td>\n",
       "    </tr>\n",
       "    <tr>\n",
       "      <th>24624</th>\n",
       "      <td>Fri Apr 22 14:43:01 +0000 2022</td>\n",
       "      <td>&lt;a href=\"http://twitter.com/download/iphone\" r...</td>\n",
       "      <td>RT @suvegrathi: भगवान और खुदा आपस में बात कर र...</td>\n",
       "      <td>0.0</td>\n",
       "      <td>0.0</td>\n",
       "      <td>hi</td>\n",
       "      <td>10</td>\n",
       "      <td>12</td>\n",
       "      <td>kitukalesatya</td>\n",
       "      <td>706</td>\n",
       "      <td>643</td>\n",
       "      <td>False</td>\n",
       "      <td>[]</td>\n",
       "      <td>[{'screen_name': 'suvegrathi', 'name': 'Suveg ...</td>\n",
       "      <td>NaN</td>\n",
       "    </tr>\n",
       "  </tbody>\n",
       "</table>\n",
       "</div>"
      ],
      "text/plain": [
       "                           created_at  \\\n",
       "24622  Fri Apr 22 14:44:35 +0000 2022   \n",
       "24623  Fri Apr 22 14:44:08 +0000 2022   \n",
       "24624  Fri Apr 22 14:43:01 +0000 2022   \n",
       "\n",
       "                                                  source  \\\n",
       "24622  <a href=\"http://twitter.com/download/iphone\" r...   \n",
       "24623  <a href=\"http://twitter.com/download/iphone\" r...   \n",
       "24624  <a href=\"http://twitter.com/download/iphone\" r...   \n",
       "\n",
       "                                           original_text  polarity  \\\n",
       "24622  RT @Parthtiwari25: Gujarat Congress MLA arrest...       0.0   \n",
       "24623  RT @news24tvchannel: CM नीतीश कुमार ने तेजस्वी...       0.0   \n",
       "24624  RT @suvegrathi: भगवान और खुदा आपस में बात कर र...       0.0   \n",
       "\n",
       "       subjectivity lang  favorite_count  retweet_count original_author  \\\n",
       "24622           0.0   en            1025            203   kitukalesatya   \n",
       "24623           0.0   hi            3735            301   kitukalesatya   \n",
       "24624           0.0   hi              10             12   kitukalesatya   \n",
       "\n",
       "       followers_count  friends_count possibly_sensitive hashtags  \\\n",
       "24622              706            643                NaN       []   \n",
       "24623              706            643              False       []   \n",
       "24624              706            643              False       []   \n",
       "\n",
       "                                           user_mentions place  \n",
       "24622  [{'screen_name': 'Parthtiwari25', 'name': 'Par...   NaN  \n",
       "24623  [{'screen_name': 'news24tvchannel', 'name': 'N...   NaN  \n",
       "24624  [{'screen_name': 'suvegrathi', 'name': 'Suveg ...   NaN  "
      ]
     },
     "execution_count": 9,
     "metadata": {},
     "output_type": "execute_result"
    }
   ],
   "source": [
    "raw_data.tail(3)"
   ]
  },
  {
   "cell_type": "markdown",
   "id": "1a76e3a7",
   "metadata": {},
   "source": [
    "#### 1.3 Check the columns ans their data type"
   ]
  },
  {
   "cell_type": "code",
   "execution_count": 10,
   "id": "e11378c0",
   "metadata": {},
   "outputs": [
    {
     "name": "stdout",
     "output_type": "stream",
     "text": [
      "<class 'pandas.core.frame.DataFrame'>\n",
      "RangeIndex: 24625 entries, 0 to 24624\n",
      "Data columns (total 15 columns):\n",
      " #   Column              Non-Null Count  Dtype  \n",
      "---  ------              --------------  -----  \n",
      " 0   created_at          24625 non-null  object \n",
      " 1   source              24625 non-null  object \n",
      " 2   original_text       24625 non-null  object \n",
      " 3   polarity            24625 non-null  float64\n",
      " 4   subjectivity        24625 non-null  float64\n",
      " 5   lang                24625 non-null  object \n",
      " 6   favorite_count      24625 non-null  int64  \n",
      " 7   retweet_count       24625 non-null  int64  \n",
      " 8   original_author     24625 non-null  object \n",
      " 9   followers_count     24625 non-null  int64  \n",
      " 10  friends_count       24625 non-null  int64  \n",
      " 11  possibly_sensitive  9854 non-null   object \n",
      " 12  hashtags            24625 non-null  object \n",
      " 13  user_mentions       24625 non-null  object \n",
      " 14  place               15731 non-null  object \n",
      "dtypes: float64(2), int64(4), object(9)\n",
      "memory usage: 2.8+ MB\n"
     ]
    }
   ],
   "source": [
    "raw_data.info()"
   ]
  },
  {
   "cell_type": "markdown",
   "id": "1fc5109b",
   "metadata": {},
   "source": [
    "#### 1.4 Check for missed values"
   ]
  },
  {
   "cell_type": "code",
   "execution_count": 34,
   "id": "014cec59",
   "metadata": {},
   "outputs": [
    {
     "data": {
      "text/plain": [
       "created_at            0.000000\n",
       "source                0.000000\n",
       "original_text         0.000000\n",
       "polarity              0.000000\n",
       "subjectivity          0.000000\n",
       "lang                  0.000000\n",
       "favorite_count        0.000000\n",
       "retweet_count         0.000000\n",
       "original_author       0.000000\n",
       "followers_count       0.000000\n",
       "friends_count         0.000000\n",
       "possibly_sensitive    0.599838\n",
       "hashtags              0.000000\n",
       "user_mentions         0.000000\n",
       "place                 0.361178\n",
       "dtype: float64"
      ]
     },
     "execution_count": 34,
     "metadata": {},
     "output_type": "execute_result"
    }
   ],
   "source": [
    "raw_data.isna().mean()"
   ]
  },
  {
   "cell_type": "markdown",
   "id": "8cb1eb55",
   "metadata": {},
   "source": [
    "#### 1.5 Get some insights from individual attr"
   ]
  },
  {
   "cell_type": "markdown",
   "id": "1f31d2e8",
   "metadata": {},
   "source": [
    "- follower based"
   ]
  },
  {
   "cell_type": "code",
   "execution_count": 39,
   "id": "66cb2383",
   "metadata": {},
   "outputs": [
    {
     "data": {
      "text/plain": [
       "1        252\n",
       "9        200\n",
       "40       200\n",
       "24       180\n",
       "0        157\n",
       "        ... \n",
       "7895      20\n",
       "40306     20\n",
       "181       10\n",
       "15654     10\n",
       "1207      10\n",
       "Name: followers_count, Length: 458, dtype: int64"
      ]
     },
     "execution_count": 39,
     "metadata": {},
     "output_type": "execute_result"
    }
   ],
   "source": [
    "feed_count = raw_data['followers_count'].value_counts()\n",
    "feed_count"
   ]
  },
  {
   "cell_type": "markdown",
   "id": "853631a3",
   "metadata": {},
   "source": [
    "- freinds based"
   ]
  },
  {
   "cell_type": "code",
   "execution_count": 40,
   "id": "f94ea94b",
   "metadata": {},
   "outputs": [
    {
     "data": {
      "text/plain": [
       "0        402\n",
       "36       257\n",
       "4        197\n",
       "1        188\n",
       "44       176\n",
       "        ... \n",
       "7892      20\n",
       "652       20\n",
       "4729      20\n",
       "41866     20\n",
       "640       10\n",
       "Name: friends_count, Length: 419, dtype: int64"
      ]
     },
     "execution_count": 40,
     "metadata": {},
     "output_type": "execute_result"
    }
   ],
   "source": [
    "feed_count = raw_data['friends_count'].value_counts()\n",
    "feed_count"
   ]
  },
  {
   "cell_type": "markdown",
   "id": "36962fe1",
   "metadata": {},
   "source": [
    "- see the top authors"
   ]
  },
  {
   "cell_type": "code",
   "execution_count": 42,
   "id": "b0e4dec1",
   "metadata": {},
   "outputs": [
    {
     "data": {
      "image/png": "[encoded data removed]",
      "text/plain": [
       "<Figure size 2160x720 with 1 Axes>"
      ]
     },
     "metadata": {
      "needs_background": "light"
     },
     "output_type": "display_data"
    }
   ],
   "source": [
    "feed_count = feed_count[:100,]\n",
    "plt.figure(figsize=(30,10))\n",
    "sns.barplot(feed_count.index , feed_count.values, alpha = 0.8)\n",
    "plt.title(\"Top 20 autors\")\n",
    "plt.ylabel('No of tweets', fontsize = 15)\n",
    "plt.xlabel('original_author', fontsize = 15)\n",
    "plt.xticks(rotation=70)\n",
    "plt.show()"
   ]
  },
  {
   "cell_type": "code",
   "execution_count": null,
   "id": "fcbaf865",
   "metadata": {},
   "outputs": [],
   "source": []
  }
 ],
 "metadata": {
  "kernelspec": {
   "display_name": "Python 3",
   "language": "python",
   "name": "python3"
  },
  "language_info": {
   "codemirror_mode": {
    "name": "ipython",
    "version": 3
   },
   "file_extension": ".py",
   "mimetype": "text/x-python",
   "name": "python",
   "nbconvert_exporter": "python",
   "pygments_lexer": "ipython3",
   "version": "3.8.8"
  }
 },
 "nbformat": 4,
 "nbformat_minor": 5
}

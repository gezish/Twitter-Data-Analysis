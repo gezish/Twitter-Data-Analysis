{
 "cells": [
  {
   "cell_type": "markdown",
   "id": "1ff6069a",
   "metadata": {},
   "source": [
    "## Objective\n",
    " - To write code base necessary to do data analysis and produce a machine learning model to perform topic modelling and sentiment analysis\n",
    "###  Required modules at the minimum:\n",
    "1. Data exploration \n",
    "2. Pre-processing \n",
    "3. Visualisations.\n"
   ]
  },
  {
   "cell_type": "markdown",
   "id": "d0f303d2",
   "metadata": {},
   "source": [
    "### Import liberaries"
   ]
  },
  {
   "cell_type": "code",
   "execution_count": 138,
   "id": "e2a71e06",
   "metadata": {},
   "outputs": [],
   "source": [
    "import warnings\n",
    "warnings.filterwarnings('ignore')\n",
    "import matplotlib.pyplot as plt\n",
    "import seaborn as sns\n",
    "from wordcloud import STOPWORDS,WordCloud\n",
    "from gensim import corpora\n",
    "import pandas as pd\n",
    "import statistics\n",
    "import string\n",
    "import nltk\n",
    "import warnings\n",
    "import numpy as np\n",
    "import sklearn as sk\n",
    "import matplotlib.pyplot as plt\n",
    "import plotly.express as px\n",
    "import plotly.graph_objects as go\n",
    "from plotly.subplots import make_subplots\n",
    "from sklearn import datasets\n",
    "import sys, os\n"
   ]
  },
  {
   "cell_type": "markdown",
   "id": "933111cf",
   "metadata": {},
   "source": [
    "### Load Data"
   ]
  },
  {
   "cell_type": "code",
   "execution_count": 2,
   "id": "3b19636e",
   "metadata": {},
   "outputs": [],
   "source": [
    "sys.path.append(os.path.abspath(os.path.join('../..')))"
   ]
  },
  {
   "cell_type": "code",
   "execution_count": 3,
   "id": "72cbc2b6",
   "metadata": {},
   "outputs": [],
   "source": [
    "raw_data = pd.read_csv('../data/processed_tweet_data.csv')"
   ]
  },
  {
   "cell_type": "markdown",
   "id": "b98d6922",
   "metadata": {},
   "source": [
    "### 1. Pre-processing"
   ]
  },
  {
   "cell_type": "markdown",
   "id": "e22e7a73",
   "metadata": {},
   "source": [
    "#### 1.1 Check The size of The Data"
   ]
  },
  {
   "cell_type": "code",
   "execution_count": 4,
   "id": "dd229837",
   "metadata": {},
   "outputs": [
    {
     "data": {
      "text/plain": [
       "(24625, 15)"
      ]
     },
     "execution_count": 4,
     "metadata": {},
     "output_type": "execute_result"
    }
   ],
   "source": [
    "raw_data.shape"
   ]
  },
  {
   "cell_type": "markdown",
   "id": "d97ec269",
   "metadata": {},
   "source": [
    "#### 1.2 Explore the first and the last values of the data"
   ]
  },
  {
   "cell_type": "code",
   "execution_count": 5,
   "id": "3349daf0",
   "metadata": {},
   "outputs": [
    {
     "data": {
      "text/html": [
       "<div>\n",
       "<style scoped>\n",
       "    .dataframe tbody tr th:only-of-type {\n",
       "        vertical-align: middle;\n",
       "    }\n",
       "\n",
       "    .dataframe tbody tr th {\n",
       "        vertical-align: top;\n",
       "    }\n",
       "\n",
       "    .dataframe thead th {\n",
       "        text-align: right;\n",
       "    }\n",
       "</style>\n",
       "<table border=\"1\" class=\"dataframe\">\n",
       "  <thead>\n",
       "    <tr style=\"text-align: right;\">\n",
       "      <th></th>\n",
       "      <th>created_at</th>\n",
       "      <th>source</th>\n",
       "      <th>original_text</th>\n",
       "      <th>polarity</th>\n",
       "      <th>subjectivity</th>\n",
       "      <th>lang</th>\n",
       "      <th>favorite_count</th>\n",
       "      <th>retweet_count</th>\n",
       "      <th>original_author</th>\n",
       "      <th>followers_count</th>\n",
       "      <th>friends_count</th>\n",
       "      <th>possibly_sensitive</th>\n",
       "      <th>hashtags</th>\n",
       "      <th>user_mentions</th>\n",
       "      <th>place</th>\n",
       "    </tr>\n",
       "  </thead>\n",
       "  <tbody>\n",
       "    <tr>\n",
       "      <th>0</th>\n",
       "      <td>Fri Apr 22 22:20:18 +0000 2022</td>\n",
       "      <td>&lt;a href=\"http://twitter.com/download/android\" ...</td>\n",
       "      <td>RT @nikitheblogger: Irre: Annalena Baerbock sa...</td>\n",
       "      <td>0.0</td>\n",
       "      <td>0.0</td>\n",
       "      <td>de</td>\n",
       "      <td>2356</td>\n",
       "      <td>355</td>\n",
       "      <td>McMc74078966</td>\n",
       "      <td>3</td>\n",
       "      <td>12</td>\n",
       "      <td>NaN</td>\n",
       "      <td>[]</td>\n",
       "      <td>[{'screen_name': 'nikitheblogger', 'name': 'Ne...</td>\n",
       "      <td>NaN</td>\n",
       "    </tr>\n",
       "    <tr>\n",
       "      <th>1</th>\n",
       "      <td>Fri Apr 22 22:19:16 +0000 2022</td>\n",
       "      <td>&lt;a href=\"http://twitter.com/download/android\" ...</td>\n",
       "      <td>RT @sagt_mit: Merkel schaffte es in 1 Jahr 1 M...</td>\n",
       "      <td>0.0</td>\n",
       "      <td>0.0</td>\n",
       "      <td>de</td>\n",
       "      <td>1985</td>\n",
       "      <td>505</td>\n",
       "      <td>McMc74078966</td>\n",
       "      <td>3</td>\n",
       "      <td>12</td>\n",
       "      <td>NaN</td>\n",
       "      <td>[]</td>\n",
       "      <td>[{'screen_name': 'sagt_mit', 'name': 'Sie sagt...</td>\n",
       "      <td>NaN</td>\n",
       "    </tr>\n",
       "    <tr>\n",
       "      <th>2</th>\n",
       "      <td>Fri Apr 22 22:17:28 +0000 2022</td>\n",
       "      <td>&lt;a href=\"http://twitter.com/download/android\" ...</td>\n",
       "      <td>RT @Kryptonoun: @WRi007 Pharma in Lebensmittel...</td>\n",
       "      <td>0.0</td>\n",
       "      <td>0.0</td>\n",
       "      <td>de</td>\n",
       "      <td>16</td>\n",
       "      <td>4</td>\n",
       "      <td>McMc74078966</td>\n",
       "      <td>3</td>\n",
       "      <td>12</td>\n",
       "      <td>NaN</td>\n",
       "      <td>[]</td>\n",
       "      <td>[{'screen_name': 'Kryptonoun', 'name': 'Krypto...</td>\n",
       "      <td>NaN</td>\n",
       "    </tr>\n",
       "  </tbody>\n",
       "</table>\n",
       "</div>"
      ],
      "text/plain": [
       "                       created_at  \\\n",
       "0  Fri Apr 22 22:20:18 +0000 2022   \n",
       "1  Fri Apr 22 22:19:16 +0000 2022   \n",
       "2  Fri Apr 22 22:17:28 +0000 2022   \n",
       "\n",
       "                                              source  \\\n",
       "0  <a href=\"http://twitter.com/download/android\" ...   \n",
       "1  <a href=\"http://twitter.com/download/android\" ...   \n",
       "2  <a href=\"http://twitter.com/download/android\" ...   \n",
       "\n",
       "                                       original_text  polarity  subjectivity  \\\n",
       "0  RT @nikitheblogger: Irre: Annalena Baerbock sa...       0.0           0.0   \n",
       "1  RT @sagt_mit: Merkel schaffte es in 1 Jahr 1 M...       0.0           0.0   \n",
       "2  RT @Kryptonoun: @WRi007 Pharma in Lebensmittel...       0.0           0.0   \n",
       "\n",
       "  lang  favorite_count  retweet_count original_author  followers_count  \\\n",
       "0   de            2356            355    McMc74078966                3   \n",
       "1   de            1985            505    McMc74078966                3   \n",
       "2   de              16              4    McMc74078966                3   \n",
       "\n",
       "   friends_count possibly_sensitive hashtags  \\\n",
       "0             12                NaN       []   \n",
       "1             12                NaN       []   \n",
       "2             12                NaN       []   \n",
       "\n",
       "                                       user_mentions place  \n",
       "0  [{'screen_name': 'nikitheblogger', 'name': 'Ne...   NaN  \n",
       "1  [{'screen_name': 'sagt_mit', 'name': 'Sie sagt...   NaN  \n",
       "2  [{'screen_name': 'Kryptonoun', 'name': 'Krypto...   NaN  "
      ]
     },
     "execution_count": 5,
     "metadata": {},
     "output_type": "execute_result"
    }
   ],
   "source": [
    "raw_data.head(3)"
   ]
  },
  {
   "cell_type": "code",
   "execution_count": 6,
   "id": "9d6dc056",
   "metadata": {},
   "outputs": [
    {
     "data": {
      "text/html": [
       "<div>\n",
       "<style scoped>\n",
       "    .dataframe tbody tr th:only-of-type {\n",
       "        vertical-align: middle;\n",
       "    }\n",
       "\n",
       "    .dataframe tbody tr th {\n",
       "        vertical-align: top;\n",
       "    }\n",
       "\n",
       "    .dataframe thead th {\n",
       "        text-align: right;\n",
       "    }\n",
       "</style>\n",
       "<table border=\"1\" class=\"dataframe\">\n",
       "  <thead>\n",
       "    <tr style=\"text-align: right;\">\n",
       "      <th></th>\n",
       "      <th>created_at</th>\n",
       "      <th>source</th>\n",
       "      <th>original_text</th>\n",
       "      <th>polarity</th>\n",
       "      <th>subjectivity</th>\n",
       "      <th>lang</th>\n",
       "      <th>favorite_count</th>\n",
       "      <th>retweet_count</th>\n",
       "      <th>original_author</th>\n",
       "      <th>followers_count</th>\n",
       "      <th>friends_count</th>\n",
       "      <th>possibly_sensitive</th>\n",
       "      <th>hashtags</th>\n",
       "      <th>user_mentions</th>\n",
       "      <th>place</th>\n",
       "    </tr>\n",
       "  </thead>\n",
       "  <tbody>\n",
       "    <tr>\n",
       "      <th>24622</th>\n",
       "      <td>Fri Apr 22 14:44:35 +0000 2022</td>\n",
       "      <td>&lt;a href=\"http://twitter.com/download/iphone\" r...</td>\n",
       "      <td>RT @Parthtiwari25: Gujarat Congress MLA arrest...</td>\n",
       "      <td>0.0</td>\n",
       "      <td>0.0</td>\n",
       "      <td>en</td>\n",
       "      <td>1025</td>\n",
       "      <td>203</td>\n",
       "      <td>kitukalesatya</td>\n",
       "      <td>706</td>\n",
       "      <td>643</td>\n",
       "      <td>NaN</td>\n",
       "      <td>[]</td>\n",
       "      <td>[{'screen_name': 'Parthtiwari25', 'name': 'Par...</td>\n",
       "      <td>NaN</td>\n",
       "    </tr>\n",
       "    <tr>\n",
       "      <th>24623</th>\n",
       "      <td>Fri Apr 22 14:44:08 +0000 2022</td>\n",
       "      <td>&lt;a href=\"http://twitter.com/download/iphone\" r...</td>\n",
       "      <td>RT @news24tvchannel: CM नीतीश कुमार ने तेजस्वी...</td>\n",
       "      <td>0.0</td>\n",
       "      <td>0.0</td>\n",
       "      <td>hi</td>\n",
       "      <td>3735</td>\n",
       "      <td>301</td>\n",
       "      <td>kitukalesatya</td>\n",
       "      <td>706</td>\n",
       "      <td>643</td>\n",
       "      <td>False</td>\n",
       "      <td>[]</td>\n",
       "      <td>[{'screen_name': 'news24tvchannel', 'name': 'N...</td>\n",
       "      <td>NaN</td>\n",
       "    </tr>\n",
       "    <tr>\n",
       "      <th>24624</th>\n",
       "      <td>Fri Apr 22 14:43:01 +0000 2022</td>\n",
       "      <td>&lt;a href=\"http://twitter.com/download/iphone\" r...</td>\n",
       "      <td>RT @suvegrathi: भगवान और खुदा आपस में बात कर र...</td>\n",
       "      <td>0.0</td>\n",
       "      <td>0.0</td>\n",
       "      <td>hi</td>\n",
       "      <td>10</td>\n",
       "      <td>12</td>\n",
       "      <td>kitukalesatya</td>\n",
       "      <td>706</td>\n",
       "      <td>643</td>\n",
       "      <td>False</td>\n",
       "      <td>[]</td>\n",
       "      <td>[{'screen_name': 'suvegrathi', 'name': 'Suveg ...</td>\n",
       "      <td>NaN</td>\n",
       "    </tr>\n",
       "  </tbody>\n",
       "</table>\n",
       "</div>"
      ],
      "text/plain": [
       "                           created_at  \\\n",
       "24622  Fri Apr 22 14:44:35 +0000 2022   \n",
       "24623  Fri Apr 22 14:44:08 +0000 2022   \n",
       "24624  Fri Apr 22 14:43:01 +0000 2022   \n",
       "\n",
       "                                                  source  \\\n",
       "24622  <a href=\"http://twitter.com/download/iphone\" r...   \n",
       "24623  <a href=\"http://twitter.com/download/iphone\" r...   \n",
       "24624  <a href=\"http://twitter.com/download/iphone\" r...   \n",
       "\n",
       "                                           original_text  polarity  \\\n",
       "24622  RT @Parthtiwari25: Gujarat Congress MLA arrest...       0.0   \n",
       "24623  RT @news24tvchannel: CM नीतीश कुमार ने तेजस्वी...       0.0   \n",
       "24624  RT @suvegrathi: भगवान और खुदा आपस में बात कर र...       0.0   \n",
       "\n",
       "       subjectivity lang  favorite_count  retweet_count original_author  \\\n",
       "24622           0.0   en            1025            203   kitukalesatya   \n",
       "24623           0.0   hi            3735            301   kitukalesatya   \n",
       "24624           0.0   hi              10             12   kitukalesatya   \n",
       "\n",
       "       followers_count  friends_count possibly_sensitive hashtags  \\\n",
       "24622              706            643                NaN       []   \n",
       "24623              706            643              False       []   \n",
       "24624              706            643              False       []   \n",
       "\n",
       "                                           user_mentions place  \n",
       "24622  [{'screen_name': 'Parthtiwari25', 'name': 'Par...   NaN  \n",
       "24623  [{'screen_name': 'news24tvchannel', 'name': 'N...   NaN  \n",
       "24624  [{'screen_name': 'suvegrathi', 'name': 'Suveg ...   NaN  "
      ]
     },
     "execution_count": 6,
     "metadata": {},
     "output_type": "execute_result"
    }
   ],
   "source": [
    "raw_data.tail(3)"
   ]
  },
  {
   "cell_type": "markdown",
   "id": "e287779d",
   "metadata": {},
   "source": [
    "#### 1.3 Check the columns ans their data type"
   ]
  },
  {
   "cell_type": "code",
   "execution_count": 7,
   "id": "6d385f05",
   "metadata": {},
   "outputs": [
    {
     "name": "stdout",
     "output_type": "stream",
     "text": [
      "<class 'pandas.core.frame.DataFrame'>\n",
      "RangeIndex: 24625 entries, 0 to 24624\n",
      "Data columns (total 15 columns):\n",
      " #   Column              Non-Null Count  Dtype  \n",
      "---  ------              --------------  -----  \n",
      " 0   created_at          24625 non-null  object \n",
      " 1   source              24625 non-null  object \n",
      " 2   original_text       24625 non-null  object \n",
      " 3   polarity            24625 non-null  float64\n",
      " 4   subjectivity        24625 non-null  float64\n",
      " 5   lang                24625 non-null  object \n",
      " 6   favorite_count      24625 non-null  int64  \n",
      " 7   retweet_count       24625 non-null  int64  \n",
      " 8   original_author     24625 non-null  object \n",
      " 9   followers_count     24625 non-null  int64  \n",
      " 10  friends_count       24625 non-null  int64  \n",
      " 11  possibly_sensitive  9854 non-null   object \n",
      " 12  hashtags            24625 non-null  object \n",
      " 13  user_mentions       24625 non-null  object \n",
      " 14  place               15731 non-null  object \n",
      "dtypes: float64(2), int64(4), object(9)\n",
      "memory usage: 2.8+ MB\n"
     ]
    }
   ],
   "source": [
    "raw_data.info()"
   ]
  },
  {
   "cell_type": "markdown",
   "id": "af6cd2e0",
   "metadata": {},
   "source": [
    "#### 1.4 Check for missed values"
   ]
  },
  {
   "cell_type": "code",
   "execution_count": 8,
   "id": "b90660de",
   "metadata": {},
   "outputs": [
    {
     "data": {
      "text/plain": [
       "created_at            0.000000\n",
       "source                0.000000\n",
       "original_text         0.000000\n",
       "polarity              0.000000\n",
       "subjectivity          0.000000\n",
       "lang                  0.000000\n",
       "favorite_count        0.000000\n",
       "retweet_count         0.000000\n",
       "original_author       0.000000\n",
       "followers_count       0.000000\n",
       "friends_count         0.000000\n",
       "possibly_sensitive    0.599838\n",
       "hashtags              0.000000\n",
       "user_mentions         0.000000\n",
       "place                 0.361178\n",
       "dtype: float64"
      ]
     },
     "execution_count": 8,
     "metadata": {},
     "output_type": "execute_result"
    }
   ],
   "source": [
    "raw_data.isna().mean()"
   ]
  },
  {
   "cell_type": "markdown",
   "id": "e03f7960",
   "metadata": {},
   "source": [
    "- from the resul we can see that column \"possibly_sensitive\" contains approximatly 60% of missed values and the column \"place\" contains aproximatlly 40% of missed values.\n",
    "- Since those comumns has messing values more than 30%, I decide to drop them."
   ]
  },
  {
   "cell_type": "code",
   "execution_count": 9,
   "id": "f7956859",
   "metadata": {},
   "outputs": [],
   "source": [
    "sys.path.append(os.path.abspath(os.path.join('..')))\n",
    "from clean_tweets_dataframe import Clean_Tweets"
   ]
  },
  {
   "cell_type": "code",
   "execution_count": 10,
   "id": "f28c7695",
   "metadata": {},
   "outputs": [],
   "source": [
    "Clean_t = Clean_Tweets()"
   ]
  },
  {
   "cell_type": "markdown",
   "id": "c81fb8f0",
   "metadata": {},
   "source": [
    "#### 1.5 Cleaning"
   ]
  },
  {
   "cell_type": "markdown",
   "id": "a088542e",
   "metadata": {},
   "source": [
    "**Check and manage(Drop) duplications**"
   ]
  },
  {
   "cell_type": "code",
   "execution_count": 48,
   "id": "9cb38b70",
   "metadata": {},
   "outputs": [
    {
     "data": {
      "text/plain": [
       "0"
      ]
     },
     "execution_count": 48,
     "metadata": {},
     "output_type": "execute_result"
    }
   ],
   "source": [
    "raw_data.duplicated().sum()"
   ]
  },
  {
   "cell_type": "markdown",
   "id": "943ff3db",
   "metadata": {},
   "source": [
    "- ***The Result shows the data has no duplicated values***"
   ]
  },
  {
   "cell_type": "code",
   "execution_count": 139,
   "id": "c0b25e90",
   "metadata": {},
   "outputs": [],
   "source": [
    "df = raw_data.copy()"
   ]
  },
  {
   "cell_type": "markdown",
   "id": "71cd6eee",
   "metadata": {},
   "source": [
    "**Remove non english tweets**"
   ]
  },
  {
   "cell_type": "code",
   "execution_count": 140,
   "id": "8d49045b",
   "metadata": {},
   "outputs": [],
   "source": [
    "df = Clean_t.remove_non_english_tweets(tweets)"
   ]
  },
  {
   "cell_type": "markdown",
   "id": "fb25af28",
   "metadata": {},
   "source": [
    "**Remove Links**"
   ]
  },
  {
   "cell_type": "code",
   "execution_count": 141,
   "id": "b6f258b0",
   "metadata": {},
   "outputs": [],
   "source": [
    "df = Clean_t.remove_links(df)"
   ]
  },
  {
   "cell_type": "markdown",
   "id": "d14e93f1",
   "metadata": {},
   "source": [
    "**Remove special characters**"
   ]
  },
  {
   "cell_type": "code",
   "execution_count": 142,
   "id": "88493c78",
   "metadata": {},
   "outputs": [],
   "source": [
    "df = Clean_t.remove_special_characters(df)"
   ]
  },
  {
   "cell_type": "code",
   "execution_count": 130,
   "id": "332a364f",
   "metadata": {
    "collapsed": true
   },
   "outputs": [
    {
     "data": {
      "text/html": [
       "<div>\n",
       "<style scoped>\n",
       "    .dataframe tbody tr th:only-of-type {\n",
       "        vertical-align: middle;\n",
       "    }\n",
       "\n",
       "    .dataframe tbody tr th {\n",
       "        vertical-align: top;\n",
       "    }\n",
       "\n",
       "    .dataframe thead th {\n",
       "        text-align: right;\n",
       "    }\n",
       "</style>\n",
       "<table border=\"1\" class=\"dataframe\">\n",
       "  <thead>\n",
       "    <tr style=\"text-align: right;\">\n",
       "      <th></th>\n",
       "      <th>created_at</th>\n",
       "      <th>source</th>\n",
       "      <th>original_text</th>\n",
       "      <th>polarity</th>\n",
       "      <th>subjectivity</th>\n",
       "      <th>lang</th>\n",
       "      <th>favorite_count</th>\n",
       "      <th>retweet_count</th>\n",
       "      <th>original_author</th>\n",
       "      <th>followers_count</th>\n",
       "      <th>friends_count</th>\n",
       "      <th>possibly_sensitive</th>\n",
       "      <th>hashtags</th>\n",
       "      <th>user_mentions</th>\n",
       "      <th>place</th>\n",
       "    </tr>\n",
       "  </thead>\n",
       "  <tbody>\n",
       "    <tr>\n",
       "      <th>38</th>\n",
       "      <td>Fri Apr 22 22:17:05 +0000 2022</td>\n",
       "      <td>&lt;a href=\"http://twitter.com/download/android\" ...</td>\n",
       "      <td>RT  NorthstarCharts  The    year yield is tell...</td>\n",
       "      <td>0.16</td>\n",
       "      <td>0.540000</td>\n",
       "      <td>en</td>\n",
       "      <td>188</td>\n",
       "      <td>43</td>\n",
       "      <td>davideiacovozzi</td>\n",
       "      <td>18</td>\n",
       "      <td>55</td>\n",
       "      <td>False</td>\n",
       "      <td>[{'text': 'gold', 'indices': [116, 121]}, {'te...</td>\n",
       "      <td>[{'screen_name': 'NorthstarCharts', 'name': 'N...</td>\n",
       "      <td>NaN</td>\n",
       "    </tr>\n",
       "    <tr>\n",
       "      <th>39</th>\n",
       "      <td>Fri Apr 22 13:44:53 +0000 2022</td>\n",
       "      <td>&lt;a href=\"http://twitter.com/download/android\" ...</td>\n",
       "      <td>RT  MichaelAArouet  German   y mortgage rate w...</td>\n",
       "      <td>0.15</td>\n",
       "      <td>0.175000</td>\n",
       "      <td>en</td>\n",
       "      <td>179</td>\n",
       "      <td>32</td>\n",
       "      <td>davideiacovozzi</td>\n",
       "      <td>18</td>\n",
       "      <td>55</td>\n",
       "      <td>False</td>\n",
       "      <td>[]</td>\n",
       "      <td>[{'screen_name': 'MichaelAArouet', 'name': 'Mi...</td>\n",
       "      <td>NaN</td>\n",
       "    </tr>\n",
       "    <tr>\n",
       "      <th>41</th>\n",
       "      <td>Fri Apr 22 06:10:34 +0000 2022</td>\n",
       "      <td>&lt;a href=\"http://twitter.com/download/android\" ...</td>\n",
       "      <td>RT  goldseek  When</td>\n",
       "      <td>0.00</td>\n",
       "      <td>0.000000</td>\n",
       "      <td>en</td>\n",
       "      <td>193</td>\n",
       "      <td>26</td>\n",
       "      <td>davideiacovozzi</td>\n",
       "      <td>18</td>\n",
       "      <td>55</td>\n",
       "      <td>False</td>\n",
       "      <td>[]</td>\n",
       "      <td>[{'screen_name': 'goldseek', 'name': 'Peter ⚒ ...</td>\n",
       "      <td>NaN</td>\n",
       "    </tr>\n",
       "    <tr>\n",
       "      <th>42</th>\n",
       "      <td>Thu Apr 21 17:22:09 +0000 2022</td>\n",
       "      <td>&lt;a href=\"http://twitter.com/download/android\" ...</td>\n",
       "      <td>RT  charliebilello  The    year mortgage rate ...</td>\n",
       "      <td>0.00</td>\n",
       "      <td>0.183333</td>\n",
       "      <td>en</td>\n",
       "      <td>620</td>\n",
       "      <td>213</td>\n",
       "      <td>davideiacovozzi</td>\n",
       "      <td>18</td>\n",
       "      <td>55</td>\n",
       "      <td>False</td>\n",
       "      <td>[]</td>\n",
       "      <td>[{'screen_name': 'charliebilello', 'name': 'Ch...</td>\n",
       "      <td>NaN</td>\n",
       "    </tr>\n",
       "    <tr>\n",
       "      <th>43</th>\n",
       "      <td>Thu Apr 21 10:32:26 +0000 2022</td>\n",
       "      <td>&lt;a href=\"http://twitter.com/download/android\" ...</td>\n",
       "      <td>RT  biancoresearch  Rates rise until something...</td>\n",
       "      <td>-0.40</td>\n",
       "      <td>0.400000</td>\n",
       "      <td>en</td>\n",
       "      <td>1787</td>\n",
       "      <td>417</td>\n",
       "      <td>davideiacovozzi</td>\n",
       "      <td>18</td>\n",
       "      <td>55</td>\n",
       "      <td>False</td>\n",
       "      <td>[]</td>\n",
       "      <td>[{'screen_name': 'biancoresearch', 'name': 'Ji...</td>\n",
       "      <td>NaN</td>\n",
       "    </tr>\n",
       "  </tbody>\n",
       "</table>\n",
       "</div>"
      ],
      "text/plain": [
       "                        created_at  \\\n",
       "38  Fri Apr 22 22:17:05 +0000 2022   \n",
       "39  Fri Apr 22 13:44:53 +0000 2022   \n",
       "41  Fri Apr 22 06:10:34 +0000 2022   \n",
       "42  Thu Apr 21 17:22:09 +0000 2022   \n",
       "43  Thu Apr 21 10:32:26 +0000 2022   \n",
       "\n",
       "                                               source  \\\n",
       "38  <a href=\"http://twitter.com/download/android\" ...   \n",
       "39  <a href=\"http://twitter.com/download/android\" ...   \n",
       "41  <a href=\"http://twitter.com/download/android\" ...   \n",
       "42  <a href=\"http://twitter.com/download/android\" ...   \n",
       "43  <a href=\"http://twitter.com/download/android\" ...   \n",
       "\n",
       "                                        original_text  polarity  subjectivity  \\\n",
       "38  RT  NorthstarCharts  The    year yield is tell...      0.16      0.540000   \n",
       "39  RT  MichaelAArouet  German   y mortgage rate w...      0.15      0.175000   \n",
       "41                               RT  goldseek  When        0.00      0.000000   \n",
       "42  RT  charliebilello  The    year mortgage rate ...      0.00      0.183333   \n",
       "43  RT  biancoresearch  Rates rise until something...     -0.40      0.400000   \n",
       "\n",
       "   lang  favorite_count  retweet_count  original_author  followers_count  \\\n",
       "38   en             188             43  davideiacovozzi               18   \n",
       "39   en             179             32  davideiacovozzi               18   \n",
       "41   en             193             26  davideiacovozzi               18   \n",
       "42   en             620            213  davideiacovozzi               18   \n",
       "43   en            1787            417  davideiacovozzi               18   \n",
       "\n",
       "    friends_count possibly_sensitive  \\\n",
       "38             55              False   \n",
       "39             55              False   \n",
       "41             55              False   \n",
       "42             55              False   \n",
       "43             55              False   \n",
       "\n",
       "                                             hashtags  \\\n",
       "38  [{'text': 'gold', 'indices': [116, 121]}, {'te...   \n",
       "39                                                 []   \n",
       "41                                                 []   \n",
       "42                                                 []   \n",
       "43                                                 []   \n",
       "\n",
       "                                        user_mentions place  \n",
       "38  [{'screen_name': 'NorthstarCharts', 'name': 'N...   NaN  \n",
       "39  [{'screen_name': 'MichaelAArouet', 'name': 'Mi...   NaN  \n",
       "41  [{'screen_name': 'goldseek', 'name': 'Peter ⚒ ...   NaN  \n",
       "42  [{'screen_name': 'charliebilello', 'name': 'Ch...   NaN  \n",
       "43  [{'screen_name': 'biancoresearch', 'name': 'Ji...   NaN  "
      ]
     },
     "execution_count": 130,
     "metadata": {},
     "output_type": "execute_result"
    }
   ],
   "source": [
    "df.head()"
   ]
  },
  {
   "cell_type": "markdown",
   "id": "44cb5587",
   "metadata": {},
   "source": [
    "**Remove Hashtags**"
   ]
  },
  {
   "cell_type": "code",
   "execution_count": 143,
   "id": "bb48b8cd",
   "metadata": {},
   "outputs": [
    {
     "data": {
      "text/plain": [
       "38    [#gold, #gold, #gold]\n",
       "39                       []\n",
       "41                       []\n",
       "Name: hashtags, dtype: object"
      ]
     },
     "execution_count": 143,
     "metadata": {},
     "output_type": "execute_result"
    }
   ],
   "source": [
    "df[\"hashtags\"] = df[\"hashtags\"].apply((lambda x: Clean_t.get_element_from_json(x, 'text', '#')))\n",
    "df[\"hashtags\"][:3]"
   ]
  },
  {
   "cell_type": "code",
   "execution_count": null,
   "id": "fcdb2b4b",
   "metadata": {},
   "outputs": [],
   "source": []
  },
  {
   "cell_type": "code",
   "execution_count": 144,
   "id": "1fddef42",
   "metadata": {},
   "outputs": [
    {
     "data": {
      "text/plain": [
       "38    #gold, #gold, #gold\n",
       "39                       \n",
       "41                       \n",
       "42                       \n",
       "43                       \n",
       "44                 #bonds\n",
       "45                       \n",
       "46                       \n",
       "47                       \n",
       "48                       \n",
       "Name: hashtags, dtype: object"
      ]
     },
     "execution_count": 144,
     "metadata": {},
     "output_type": "execute_result"
    }
   ],
   "source": [
    "df[\"hashtags\"] = df[\"hashtags\"].apply(Clean_t.array_to_string)\n",
    "df[\"hashtags\"][:10]"
   ]
  },
  {
   "cell_type": "code",
   "execution_count": 145,
   "id": "97845b21",
   "metadata": {},
   "outputs": [
    {
     "data": {
      "text/html": [
       "<div>\n",
       "<style scoped>\n",
       "    .dataframe tbody tr th:only-of-type {\n",
       "        vertical-align: middle;\n",
       "    }\n",
       "\n",
       "    .dataframe tbody tr th {\n",
       "        vertical-align: top;\n",
       "    }\n",
       "\n",
       "    .dataframe thead th {\n",
       "        text-align: right;\n",
       "    }\n",
       "</style>\n",
       "<table border=\"1\" class=\"dataframe\">\n",
       "  <thead>\n",
       "    <tr style=\"text-align: right;\">\n",
       "      <th></th>\n",
       "      <th>hashtags</th>\n",
       "    </tr>\n",
       "  </thead>\n",
       "  <tbody>\n",
       "    <tr>\n",
       "      <th>38</th>\n",
       "      <td>[#gold, #silver, #crypto]</td>\n",
       "    </tr>\n",
       "    <tr>\n",
       "      <th>39</th>\n",
       "      <td>[]</td>\n",
       "    </tr>\n",
       "    <tr>\n",
       "      <th>41</th>\n",
       "      <td>[]</td>\n",
       "    </tr>\n",
       "    <tr>\n",
       "      <th>42</th>\n",
       "      <td>[]</td>\n",
       "    </tr>\n",
       "    <tr>\n",
       "      <th>43</th>\n",
       "      <td>[]</td>\n",
       "    </tr>\n",
       "  </tbody>\n",
       "</table>\n",
       "</div>"
      ],
      "text/plain": [
       "                     hashtags\n",
       "38  [#gold, #silver, #crypto]\n",
       "39                         []\n",
       "41                         []\n",
       "42                         []\n",
       "43                         []"
      ]
     },
     "execution_count": 145,
     "metadata": {},
     "output_type": "execute_result"
    }
   ],
   "source": [
    "new_df = pd.DataFrame(columns=['hashtags'])\n",
    "new_df['hashtags'] = df.original_text.apply(Clean_t.find_hashtags)\n",
    "new_df[:5]"
   ]
  },
  {
   "cell_type": "code",
   "execution_count": 146,
   "id": "495e7f45",
   "metadata": {},
   "outputs": [
    {
     "data": {
      "text/plain": [
       "38    #gold, #silver, #crypto\n",
       "39                           \n",
       "41                           \n",
       "42                           \n",
       "43                           \n",
       "44                     #bonds\n",
       "45                           \n",
       "46                           \n",
       "47                           \n",
       "48                           \n",
       "Name: hashtags_in_tweets, dtype: object"
      ]
     },
     "execution_count": 146,
     "metadata": {},
     "output_type": "execute_result"
    }
   ],
   "source": [
    "df[\"hashtags_in_tweets\"] = new_df[\"hashtags\"].apply(Clean_t.array_to_string)\n",
    "df[\"hashtags_in_tweets\"][:10]"
   ]
  },
  {
   "cell_type": "code",
   "execution_count": 94,
   "id": "242230f6",
   "metadata": {},
   "outputs": [
    {
     "data": {
      "text/plain": [
       "38    RT  NorthstarCharts  The    year yield is tell...\n",
       "39    RT  MichaelAArouet  German   y mortgage rate w...\n",
       "41                                 RT  goldseek  When  \n",
       "42    RT  charliebilello  The    year mortgage rate ...\n",
       "43    RT  biancoresearch  Rates rise until something...\n",
       "Name: original_text, dtype: object"
      ]
     },
     "execution_count": 94,
     "metadata": {},
     "output_type": "execute_result"
    }
   ],
   "source": [
    "df.original_text[:5]"
   ]
  },
  {
   "cell_type": "markdown",
   "id": "0db5d77f",
   "metadata": {},
   "source": [
    "- **get UserNames mentions**"
   ]
  },
  {
   "cell_type": "code",
   "execution_count": 147,
   "id": "ec5e0d87",
   "metadata": {},
   "outputs": [
    {
     "data": {
      "text/plain": [
       "38    [@NorthstarCharts]\n",
       "39     [@MichaelAArouet]\n",
       "41           [@goldseek]\n",
       "Name: screen_name, dtype: object"
      ]
     },
     "execution_count": 147,
     "metadata": {},
     "output_type": "execute_result"
    }
   ],
   "source": [
    "df[\"screen_name\"] = df[\"user_mentions\"].apply(\n",
    "    (lambda x: Clean_t.get_element_from_json(x, 'screen_name', \"@\",)))\n",
    "df[\"screen_name\"][:3]"
   ]
  },
  {
   "cell_type": "code",
   "execution_count": 148,
   "id": "f9fd2269",
   "metadata": {},
   "outputs": [
    {
     "data": {
      "text/plain": [
       "38    @NorthstarCharts\n",
       "39     @MichaelAArouet\n",
       "41           @goldseek\n",
       "42     @charliebilello\n",
       "43     @biancoresearch\n",
       "Name: screen_name, dtype: object"
      ]
     },
     "execution_count": 148,
     "metadata": {},
     "output_type": "execute_result"
    }
   ],
   "source": [
    "df[\"screen_name\"] = df[\"screen_name\"].apply(Clean_t.array_to_string)\n",
    "df[\"screen_name\"][:5]"
   ]
  },
  {
   "cell_type": "markdown",
   "id": "e04b4897",
   "metadata": {},
   "source": [
    "- **I have extracted user_name(screen_name) i drope them here.**"
   ]
  },
  {
   "cell_type": "code",
   "execution_count": 149,
   "id": "56467781",
   "metadata": {},
   "outputs": [],
   "source": [
    "df1=df.copy()"
   ]
  },
  {
   "cell_type": "code",
   "execution_count": 150,
   "id": "1fc21148",
   "metadata": {},
   "outputs": [],
   "source": [
    "df1.drop(['user_mentions'], axis=1, inplace=True)\n"
   ]
  },
  {
   "cell_type": "markdown",
   "id": "6298f7da",
   "metadata": {},
   "source": [
    "**Device based manupulation**\n",
    "- **get usernames that are mentiond in original_text**"
   ]
  },
  {
   "cell_type": "code",
   "execution_count": 151,
   "id": "cdadb73f",
   "metadata": {},
   "outputs": [
    {
     "data": {
      "text/plain": [
       "38    Twitter for Android\n",
       "39    Twitter for Android\n",
       "41    Twitter for Android\n",
       "42    Twitter for Android\n",
       "43    Twitter for Android\n",
       "44    Twitter for Android\n",
       "45    Twitter for Android\n",
       "46    Twitter for Android\n",
       "47    Twitter for Android\n",
       "48    Twitter for Android\n",
       "Name: device, dtype: object"
      ]
     },
     "execution_count": 151,
     "metadata": {},
     "output_type": "execute_result"
    }
   ],
   "source": [
    "df1[\"device\"] = df1[\"source\"].apply(Clean_t.get_device_name)\n",
    "df1[\"device\"][:10]"
   ]
  },
  {
   "cell_type": "markdown",
   "id": "ce076c4c",
   "metadata": {},
   "source": [
    "- **Hince i get divice name i dont need source column**"
   ]
  },
  {
   "cell_type": "code",
   "execution_count": 152,
   "id": "e42b5ee0",
   "metadata": {},
   "outputs": [
    {
     "data": {
      "text/html": [
       "<div>\n",
       "<style scoped>\n",
       "    .dataframe tbody tr th:only-of-type {\n",
       "        vertical-align: middle;\n",
       "    }\n",
       "\n",
       "    .dataframe tbody tr th {\n",
       "        vertical-align: top;\n",
       "    }\n",
       "\n",
       "    .dataframe thead th {\n",
       "        text-align: right;\n",
       "    }\n",
       "</style>\n",
       "<table border=\"1\" class=\"dataframe\">\n",
       "  <thead>\n",
       "    <tr style=\"text-align: right;\">\n",
       "      <th></th>\n",
       "      <th>created_at</th>\n",
       "      <th>source</th>\n",
       "      <th>original_text</th>\n",
       "      <th>polarity</th>\n",
       "      <th>subjectivity</th>\n",
       "      <th>lang</th>\n",
       "      <th>favorite_count</th>\n",
       "      <th>retweet_count</th>\n",
       "      <th>original_author</th>\n",
       "      <th>followers_count</th>\n",
       "      <th>friends_count</th>\n",
       "      <th>possibly_sensitive</th>\n",
       "      <th>hashtags</th>\n",
       "      <th>place</th>\n",
       "      <th>hashtags_in_tweets</th>\n",
       "      <th>screen_name</th>\n",
       "      <th>device</th>\n",
       "    </tr>\n",
       "  </thead>\n",
       "  <tbody>\n",
       "    <tr>\n",
       "      <th>38</th>\n",
       "      <td>Fri Apr 22 22:17:05 +0000 2022</td>\n",
       "      <td>&lt;a href=\"http://twitter.com/download/android\" ...</td>\n",
       "      <td>RT  NorthstarCharts  The    year yield is tell...</td>\n",
       "      <td>0.16</td>\n",
       "      <td>0.540000</td>\n",
       "      <td>en</td>\n",
       "      <td>188</td>\n",
       "      <td>43</td>\n",
       "      <td>davideiacovozzi</td>\n",
       "      <td>18</td>\n",
       "      <td>55</td>\n",
       "      <td>False</td>\n",
       "      <td>#gold, #gold, #gold</td>\n",
       "      <td>NaN</td>\n",
       "      <td>#gold, #silver, #crypto</td>\n",
       "      <td>@NorthstarCharts</td>\n",
       "      <td>Twitter for Android</td>\n",
       "    </tr>\n",
       "    <tr>\n",
       "      <th>39</th>\n",
       "      <td>Fri Apr 22 13:44:53 +0000 2022</td>\n",
       "      <td>&lt;a href=\"http://twitter.com/download/android\" ...</td>\n",
       "      <td>RT  MichaelAArouet  German   y mortgage rate w...</td>\n",
       "      <td>0.15</td>\n",
       "      <td>0.175000</td>\n",
       "      <td>en</td>\n",
       "      <td>179</td>\n",
       "      <td>32</td>\n",
       "      <td>davideiacovozzi</td>\n",
       "      <td>18</td>\n",
       "      <td>55</td>\n",
       "      <td>False</td>\n",
       "      <td></td>\n",
       "      <td>NaN</td>\n",
       "      <td></td>\n",
       "      <td>@MichaelAArouet</td>\n",
       "      <td>Twitter for Android</td>\n",
       "    </tr>\n",
       "    <tr>\n",
       "      <th>41</th>\n",
       "      <td>Fri Apr 22 06:10:34 +0000 2022</td>\n",
       "      <td>&lt;a href=\"http://twitter.com/download/android\" ...</td>\n",
       "      <td>RT  goldseek  When</td>\n",
       "      <td>0.00</td>\n",
       "      <td>0.000000</td>\n",
       "      <td>en</td>\n",
       "      <td>193</td>\n",
       "      <td>26</td>\n",
       "      <td>davideiacovozzi</td>\n",
       "      <td>18</td>\n",
       "      <td>55</td>\n",
       "      <td>False</td>\n",
       "      <td></td>\n",
       "      <td>NaN</td>\n",
       "      <td></td>\n",
       "      <td>@goldseek</td>\n",
       "      <td>Twitter for Android</td>\n",
       "    </tr>\n",
       "    <tr>\n",
       "      <th>42</th>\n",
       "      <td>Thu Apr 21 17:22:09 +0000 2022</td>\n",
       "      <td>&lt;a href=\"http://twitter.com/download/android\" ...</td>\n",
       "      <td>RT  charliebilello  The    year mortgage rate ...</td>\n",
       "      <td>0.00</td>\n",
       "      <td>0.183333</td>\n",
       "      <td>en</td>\n",
       "      <td>620</td>\n",
       "      <td>213</td>\n",
       "      <td>davideiacovozzi</td>\n",
       "      <td>18</td>\n",
       "      <td>55</td>\n",
       "      <td>False</td>\n",
       "      <td></td>\n",
       "      <td>NaN</td>\n",
       "      <td></td>\n",
       "      <td>@charliebilello</td>\n",
       "      <td>Twitter for Android</td>\n",
       "    </tr>\n",
       "    <tr>\n",
       "      <th>43</th>\n",
       "      <td>Thu Apr 21 10:32:26 +0000 2022</td>\n",
       "      <td>&lt;a href=\"http://twitter.com/download/android\" ...</td>\n",
       "      <td>RT  biancoresearch  Rates rise until something...</td>\n",
       "      <td>-0.40</td>\n",
       "      <td>0.400000</td>\n",
       "      <td>en</td>\n",
       "      <td>1787</td>\n",
       "      <td>417</td>\n",
       "      <td>davideiacovozzi</td>\n",
       "      <td>18</td>\n",
       "      <td>55</td>\n",
       "      <td>False</td>\n",
       "      <td></td>\n",
       "      <td>NaN</td>\n",
       "      <td></td>\n",
       "      <td>@biancoresearch</td>\n",
       "      <td>Twitter for Android</td>\n",
       "    </tr>\n",
       "  </tbody>\n",
       "</table>\n",
       "</div>"
      ],
      "text/plain": [
       "                        created_at  \\\n",
       "38  Fri Apr 22 22:17:05 +0000 2022   \n",
       "39  Fri Apr 22 13:44:53 +0000 2022   \n",
       "41  Fri Apr 22 06:10:34 +0000 2022   \n",
       "42  Thu Apr 21 17:22:09 +0000 2022   \n",
       "43  Thu Apr 21 10:32:26 +0000 2022   \n",
       "\n",
       "                                               source  \\\n",
       "38  <a href=\"http://twitter.com/download/android\" ...   \n",
       "39  <a href=\"http://twitter.com/download/android\" ...   \n",
       "41  <a href=\"http://twitter.com/download/android\" ...   \n",
       "42  <a href=\"http://twitter.com/download/android\" ...   \n",
       "43  <a href=\"http://twitter.com/download/android\" ...   \n",
       "\n",
       "                                        original_text  polarity  subjectivity  \\\n",
       "38  RT  NorthstarCharts  The    year yield is tell...      0.16      0.540000   \n",
       "39  RT  MichaelAArouet  German   y mortgage rate w...      0.15      0.175000   \n",
       "41                               RT  goldseek  When        0.00      0.000000   \n",
       "42  RT  charliebilello  The    year mortgage rate ...      0.00      0.183333   \n",
       "43  RT  biancoresearch  Rates rise until something...     -0.40      0.400000   \n",
       "\n",
       "   lang  favorite_count  retweet_count  original_author  followers_count  \\\n",
       "38   en             188             43  davideiacovozzi               18   \n",
       "39   en             179             32  davideiacovozzi               18   \n",
       "41   en             193             26  davideiacovozzi               18   \n",
       "42   en             620            213  davideiacovozzi               18   \n",
       "43   en            1787            417  davideiacovozzi               18   \n",
       "\n",
       "    friends_count possibly_sensitive             hashtags place  \\\n",
       "38             55              False  #gold, #gold, #gold   NaN   \n",
       "39             55              False                        NaN   \n",
       "41             55              False                        NaN   \n",
       "42             55              False                        NaN   \n",
       "43             55              False                        NaN   \n",
       "\n",
       "         hashtags_in_tweets       screen_name               device  \n",
       "38  #gold, #silver, #crypto  @NorthstarCharts  Twitter for Android  \n",
       "39                            @MichaelAArouet  Twitter for Android  \n",
       "41                                  @goldseek  Twitter for Android  \n",
       "42                            @charliebilello  Twitter for Android  \n",
       "43                            @biancoresearch  Twitter for Android  "
      ]
     },
     "execution_count": 152,
     "metadata": {},
     "output_type": "execute_result"
    }
   ],
   "source": [
    "df1.head()"
   ]
  },
  {
   "cell_type": "code",
   "execution_count": 153,
   "id": "a7a6016c",
   "metadata": {},
   "outputs": [],
   "source": [
    "df1.drop(['source'], axis=1, inplace=True)"
   ]
  },
  {
   "cell_type": "code",
   "execution_count": 154,
   "id": "801549fa",
   "metadata": {},
   "outputs": [],
   "source": [
    "df1 = Clean_t.to_lower(df1) #lower case all the data set"
   ]
  },
  {
   "cell_type": "code",
   "execution_count": 155,
   "id": "530775e1",
   "metadata": {},
   "outputs": [
    {
     "name": "stdout",
     "output_type": "stream",
     "text": [
      "<class 'pandas.core.frame.DataFrame'>\n",
      "Int64Index: 24625 entries, 0 to 24624\n",
      "Data columns (total 15 columns):\n",
      " #   Column              Non-Null Count  Dtype  \n",
      "---  ------              --------------  -----  \n",
      " 0   created_at          24625 non-null  object \n",
      " 1   source              24625 non-null  object \n",
      " 2   original_text       24625 non-null  object \n",
      " 3   polarity            24625 non-null  float64\n",
      " 4   subjectivity        24625 non-null  float64\n",
      " 5   lang                24625 non-null  object \n",
      " 6   favorite_count      24625 non-null  int64  \n",
      " 7   retweet_count       24625 non-null  int64  \n",
      " 8   original_author     24625 non-null  object \n",
      " 9   followers_count     24625 non-null  int64  \n",
      " 10  friends_count       24625 non-null  int64  \n",
      " 11  possibly_sensitive  9854 non-null   object \n",
      " 12  hashtags            24625 non-null  object \n",
      " 13  user_mentions       24625 non-null  object \n",
      " 14  place               15731 non-null  object \n",
      "dtypes: float64(2), int64(4), object(9)\n",
      "memory usage: 3.5+ MB\n"
     ]
    }
   ],
   "source": [
    "tweets.info()"
   ]
  },
  {
   "cell_type": "code",
   "execution_count": 156,
   "id": "e9d6447d",
   "metadata": {},
   "outputs": [
    {
     "name": "stdout",
     "output_type": "stream",
     "text": [
      "The number of missing value(s): 16087\n",
      "Columons having columns value: Index(['possibly_sensitive', 'place'], dtype='object')\n"
     ]
    }
   ],
   "source": [
    "print(\"The number of missing value(s): {}\".format(df1.isnull().sum().sum()))\n",
    "print(\"Columons having columns value: {}\".format( df1.columns[df1.isnull().any()]))"
   ]
  },
  {
   "cell_type": "markdown",
   "id": "83f9a253",
   "metadata": {},
   "source": [
    "**Fill missing values**\n",
    "1. assuming possibly_sensitive has False and True values\n",
    "2. Place True"
   ]
  },
  {
   "cell_type": "code",
   "execution_count": 157,
   "id": "b5fbce7a",
   "metadata": {},
   "outputs": [],
   "source": [
    "df1[\"possibly_sensitive\"].fillna(False, inplace=True) \n",
    "df1[\"place\"].fillna(\" \", inplace=True)"
   ]
  },
  {
   "cell_type": "code",
   "execution_count": 158,
   "id": "b79b1d99",
   "metadata": {},
   "outputs": [
    {
     "name": "stdout",
     "output_type": "stream",
     "text": [
      "<class 'pandas.core.frame.DataFrame'>\n",
      "Int64Index: 16472 entries, 38 to 24622\n",
      "Data columns (total 16 columns):\n",
      " #   Column              Non-Null Count  Dtype  \n",
      "---  ------              --------------  -----  \n",
      " 0   created_at          16472 non-null  object \n",
      " 1   original_text       16472 non-null  object \n",
      " 2   polarity            16472 non-null  float64\n",
      " 3   subjectivity        16472 non-null  float64\n",
      " 4   lang                16472 non-null  object \n",
      " 5   favorite_count      16472 non-null  int64  \n",
      " 6   retweet_count       16472 non-null  int64  \n",
      " 7   original_author     16472 non-null  object \n",
      " 8   followers_count     16472 non-null  int64  \n",
      " 9   friends_count       16472 non-null  int64  \n",
      " 10  possibly_sensitive  16472 non-null  bool   \n",
      " 11  hashtags            16472 non-null  object \n",
      " 12  place               16472 non-null  object \n",
      " 13  hashtags_in_tweets  16472 non-null  object \n",
      " 14  screen_name         16472 non-null  object \n",
      " 15  device              16472 non-null  object \n",
      "dtypes: bool(1), float64(2), int64(4), object(9)\n",
      "memory usage: 2.0+ MB\n"
     ]
    }
   ],
   "source": [
    "df1.info()"
   ]
  },
  {
   "cell_type": "markdown",
   "id": "dbc4fc95",
   "metadata": {},
   "source": [
    "#### - fix the data type"
   ]
  },
  {
   "cell_type": "code",
   "execution_count": 160,
   "id": "f532a68d",
   "metadata": {},
   "outputs": [],
   "source": [
    "df1 = Clean_t.convert_to_string(df1)"
   ]
  },
  {
   "cell_type": "markdown",
   "id": "23798f01",
   "metadata": {},
   "source": [
    "date convert"
   ]
  },
  {
   "cell_type": "code",
   "execution_count": 161,
   "id": "0bb0ad0e",
   "metadata": {},
   "outputs": [
    {
     "ename": "KeyError",
     "evalue": "0",
     "output_type": "error",
     "traceback": [
      "\u001b[1;31m---------------------------------------------------------------------------\u001b[0m",
      "\u001b[1;31mKeyError\u001b[0m                                  Traceback (most recent call last)",
      "\u001b[1;32m~\\anaconda3\\lib\\site-packages\\pandas\\core\\indexes\\base.py\u001b[0m in \u001b[0;36mget_loc\u001b[1;34m(self, key, method, tolerance)\u001b[0m\n\u001b[0;32m   3079\u001b[0m             \u001b[1;32mtry\u001b[0m\u001b[1;33m:\u001b[0m\u001b[1;33m\u001b[0m\u001b[1;33m\u001b[0m\u001b[0m\n\u001b[1;32m-> 3080\u001b[1;33m                 \u001b[1;32mreturn\u001b[0m \u001b[0mself\u001b[0m\u001b[1;33m.\u001b[0m\u001b[0m_engine\u001b[0m\u001b[1;33m.\u001b[0m\u001b[0mget_loc\u001b[0m\u001b[1;33m(\u001b[0m\u001b[0mcasted_key\u001b[0m\u001b[1;33m)\u001b[0m\u001b[1;33m\u001b[0m\u001b[1;33m\u001b[0m\u001b[0m\n\u001b[0m\u001b[0;32m   3081\u001b[0m             \u001b[1;32mexcept\u001b[0m \u001b[0mKeyError\u001b[0m \u001b[1;32mas\u001b[0m \u001b[0merr\u001b[0m\u001b[1;33m:\u001b[0m\u001b[1;33m\u001b[0m\u001b[1;33m\u001b[0m\u001b[0m\n",
      "\u001b[1;32mpandas\\_libs\\index.pyx\u001b[0m in \u001b[0;36mpandas._libs.index.IndexEngine.get_loc\u001b[1;34m()\u001b[0m\n",
      "\u001b[1;32mpandas\\_libs\\index.pyx\u001b[0m in \u001b[0;36mpandas._libs.index.IndexEngine.get_loc\u001b[1;34m()\u001b[0m\n",
      "\u001b[1;32mpandas\\_libs\\hashtable_class_helper.pxi\u001b[0m in \u001b[0;36mpandas._libs.hashtable.Int64HashTable.get_item\u001b[1;34m()\u001b[0m\n",
      "\u001b[1;32mpandas\\_libs\\hashtable_class_helper.pxi\u001b[0m in \u001b[0;36mpandas._libs.hashtable.Int64HashTable.get_item\u001b[1;34m()\u001b[0m\n",
      "\u001b[1;31mKeyError\u001b[0m: 0",
      "\nThe above exception was the direct cause of the following exception:\n",
      "\u001b[1;31mKeyError\u001b[0m                                  Traceback (most recent call last)",
      "\u001b[1;32m<ipython-input-161-414c91931dbe>\u001b[0m in \u001b[0;36m<module>\u001b[1;34m\u001b[0m\n\u001b[1;32m----> 1\u001b[1;33m \u001b[0mprint\u001b[0m\u001b[1;33m(\u001b[0m\u001b[1;34mf\"The first row created time before conversion {df1.created_at[0]}\"\u001b[0m\u001b[1;33m)\u001b[0m\u001b[1;33m\u001b[0m\u001b[1;33m\u001b[0m\u001b[0m\n\u001b[0m\u001b[0;32m      2\u001b[0m \u001b[0mdf1\u001b[0m \u001b[1;33m=\u001b[0m \u001b[0mClean_t\u001b[0m\u001b[1;33m.\u001b[0m\u001b[0mconvert_to_datetime\u001b[0m\u001b[1;33m(\u001b[0m\u001b[0mtweets\u001b[0m\u001b[1;33m)\u001b[0m\u001b[1;33m\u001b[0m\u001b[1;33m\u001b[0m\u001b[0m\n\u001b[0;32m      3\u001b[0m \u001b[0mprint\u001b[0m\u001b[1;33m(\u001b[0m\u001b[1;34mf\"The first row created time after conversion {df1.created_at[0]}\"\u001b[0m\u001b[1;33m)\u001b[0m\u001b[1;33m\u001b[0m\u001b[1;33m\u001b[0m\u001b[0m\n",
      "\u001b[1;32m~\\anaconda3\\lib\\site-packages\\pandas\\core\\series.py\u001b[0m in \u001b[0;36m__getitem__\u001b[1;34m(self, key)\u001b[0m\n\u001b[0;32m    851\u001b[0m \u001b[1;33m\u001b[0m\u001b[0m\n\u001b[0;32m    852\u001b[0m         \u001b[1;32melif\u001b[0m \u001b[0mkey_is_scalar\u001b[0m\u001b[1;33m:\u001b[0m\u001b[1;33m\u001b[0m\u001b[1;33m\u001b[0m\u001b[0m\n\u001b[1;32m--> 853\u001b[1;33m             \u001b[1;32mreturn\u001b[0m \u001b[0mself\u001b[0m\u001b[1;33m.\u001b[0m\u001b[0m_get_value\u001b[0m\u001b[1;33m(\u001b[0m\u001b[0mkey\u001b[0m\u001b[1;33m)\u001b[0m\u001b[1;33m\u001b[0m\u001b[1;33m\u001b[0m\u001b[0m\n\u001b[0m\u001b[0;32m    854\u001b[0m \u001b[1;33m\u001b[0m\u001b[0m\n\u001b[0;32m    855\u001b[0m         \u001b[1;32mif\u001b[0m \u001b[0mis_hashable\u001b[0m\u001b[1;33m(\u001b[0m\u001b[0mkey\u001b[0m\u001b[1;33m)\u001b[0m\u001b[1;33m:\u001b[0m\u001b[1;33m\u001b[0m\u001b[1;33m\u001b[0m\u001b[0m\n",
      "\u001b[1;32m~\\anaconda3\\lib\\site-packages\\pandas\\core\\series.py\u001b[0m in \u001b[0;36m_get_value\u001b[1;34m(self, label, takeable)\u001b[0m\n\u001b[0;32m    959\u001b[0m \u001b[1;33m\u001b[0m\u001b[0m\n\u001b[0;32m    960\u001b[0m         \u001b[1;31m# Similar to Index.get_value, but we do not fall back to positional\u001b[0m\u001b[1;33m\u001b[0m\u001b[1;33m\u001b[0m\u001b[1;33m\u001b[0m\u001b[0m\n\u001b[1;32m--> 961\u001b[1;33m         \u001b[0mloc\u001b[0m \u001b[1;33m=\u001b[0m \u001b[0mself\u001b[0m\u001b[1;33m.\u001b[0m\u001b[0mindex\u001b[0m\u001b[1;33m.\u001b[0m\u001b[0mget_loc\u001b[0m\u001b[1;33m(\u001b[0m\u001b[0mlabel\u001b[0m\u001b[1;33m)\u001b[0m\u001b[1;33m\u001b[0m\u001b[1;33m\u001b[0m\u001b[0m\n\u001b[0m\u001b[0;32m    962\u001b[0m         \u001b[1;32mreturn\u001b[0m \u001b[0mself\u001b[0m\u001b[1;33m.\u001b[0m\u001b[0mindex\u001b[0m\u001b[1;33m.\u001b[0m\u001b[0m_get_values_for_loc\u001b[0m\u001b[1;33m(\u001b[0m\u001b[0mself\u001b[0m\u001b[1;33m,\u001b[0m \u001b[0mloc\u001b[0m\u001b[1;33m,\u001b[0m \u001b[0mlabel\u001b[0m\u001b[1;33m)\u001b[0m\u001b[1;33m\u001b[0m\u001b[1;33m\u001b[0m\u001b[0m\n\u001b[0;32m    963\u001b[0m \u001b[1;33m\u001b[0m\u001b[0m\n",
      "\u001b[1;32m~\\anaconda3\\lib\\site-packages\\pandas\\core\\indexes\\base.py\u001b[0m in \u001b[0;36mget_loc\u001b[1;34m(self, key, method, tolerance)\u001b[0m\n\u001b[0;32m   3080\u001b[0m                 \u001b[1;32mreturn\u001b[0m \u001b[0mself\u001b[0m\u001b[1;33m.\u001b[0m\u001b[0m_engine\u001b[0m\u001b[1;33m.\u001b[0m\u001b[0mget_loc\u001b[0m\u001b[1;33m(\u001b[0m\u001b[0mcasted_key\u001b[0m\u001b[1;33m)\u001b[0m\u001b[1;33m\u001b[0m\u001b[1;33m\u001b[0m\u001b[0m\n\u001b[0;32m   3081\u001b[0m             \u001b[1;32mexcept\u001b[0m \u001b[0mKeyError\u001b[0m \u001b[1;32mas\u001b[0m \u001b[0merr\u001b[0m\u001b[1;33m:\u001b[0m\u001b[1;33m\u001b[0m\u001b[1;33m\u001b[0m\u001b[0m\n\u001b[1;32m-> 3082\u001b[1;33m                 \u001b[1;32mraise\u001b[0m \u001b[0mKeyError\u001b[0m\u001b[1;33m(\u001b[0m\u001b[0mkey\u001b[0m\u001b[1;33m)\u001b[0m \u001b[1;32mfrom\u001b[0m \u001b[0merr\u001b[0m\u001b[1;33m\u001b[0m\u001b[1;33m\u001b[0m\u001b[0m\n\u001b[0m\u001b[0;32m   3083\u001b[0m \u001b[1;33m\u001b[0m\u001b[0m\n\u001b[0;32m   3084\u001b[0m         \u001b[1;32mif\u001b[0m \u001b[0mtolerance\u001b[0m \u001b[1;32mis\u001b[0m \u001b[1;32mnot\u001b[0m \u001b[1;32mNone\u001b[0m\u001b[1;33m:\u001b[0m\u001b[1;33m\u001b[0m\u001b[1;33m\u001b[0m\u001b[0m\n",
      "\u001b[1;31mKeyError\u001b[0m: 0"
     ]
    }
   ],
   "source": [
    "print(f\"The first row created time before conversion {df1.created_at[0]}\")\n",
    "df1 = Clean_t.convert_to_datetime(tweets)\n",
    "print(f\"The first row created time after conversion {df1.created_at[0]}\")"
   ]
  },
  {
   "cell_type": "markdown",
   "id": "9ba90ac4",
   "metadata": {},
   "source": [
    "**convert to numbers**"
   ]
  },
  {
   "cell_type": "code",
   "execution_count": 162,
   "id": "bcfd5359",
   "metadata": {},
   "outputs": [],
   "source": [
    "df1 = Clean_t.convert_to_numbers(df1)"
   ]
  },
  {
   "cell_type": "markdown",
   "id": "cd9c94a0",
   "metadata": {},
   "source": [
    "**convert possible_sansitive to boolean**"
   ]
  },
  {
   "cell_type": "code",
   "execution_count": 164,
   "id": "f3f3793b",
   "metadata": {},
   "outputs": [],
   "source": [
    "df1 = Clean_t.convert_to_boolean(df1)"
   ]
  },
  {
   "cell_type": "markdown",
   "id": "9309844f",
   "metadata": {},
   "source": [
    "**Convert possible_sansitive column to boolean**"
   ]
  },
  {
   "cell_type": "code",
   "execution_count": 165,
   "id": "65c716b7",
   "metadata": {},
   "outputs": [
    {
     "name": "stdout",
     "output_type": "stream",
     "text": [
      "<class 'pandas.core.frame.DataFrame'>\n",
      "Int64Index: 16472 entries, 38 to 24622\n",
      "Data columns (total 16 columns):\n",
      " #   Column              Non-Null Count  Dtype  \n",
      "---  ------              --------------  -----  \n",
      " 0   created_at          16472 non-null  object \n",
      " 1   original_text       16472 non-null  string \n",
      " 2   polarity            16472 non-null  float64\n",
      " 3   subjectivity        16472 non-null  float64\n",
      " 4   lang                16472 non-null  object \n",
      " 5   favorite_count      16472 non-null  int64  \n",
      " 6   retweet_count       16472 non-null  int64  \n",
      " 7   original_author     16472 non-null  string \n",
      " 8   followers_count     16472 non-null  int64  \n",
      " 9   friends_count       16472 non-null  int64  \n",
      " 10  possibly_sensitive  16472 non-null  bool   \n",
      " 11  hashtags            16472 non-null  string \n",
      " 12  place               16472 non-null  string \n",
      " 13  hashtags_in_tweets  16472 non-null  string \n",
      " 14  screen_name         16472 non-null  string \n",
      " 15  device              16472 non-null  string \n",
      "dtypes: bool(1), float64(2), int64(4), object(2), string(7)\n",
      "memory usage: 2.5+ MB\n"
     ]
    }
   ],
   "source": [
    "df1 = Clean_t.convert_to_numbers(df1)\n",
    "df1.info()"
   ]
  },
  {
   "cell_type": "markdown",
   "id": "e5563098",
   "metadata": {},
   "source": [
    "**save cleaned data**"
   ]
  },
  {
   "cell_type": "code",
   "execution_count": 166,
   "id": "22edf8b5",
   "metadata": {},
   "outputs": [],
   "source": [
    "df1.to_csv(r'my_clean_data.csv', index=False, header=True)"
   ]
  },
  {
   "cell_type": "markdown",
   "id": "f3a9cfd2",
   "metadata": {},
   "source": [
    "### 2. Data exploration"
   ]
  },
  {
   "cell_type": "code",
   "execution_count": 168,
   "id": "2c5d70ce",
   "metadata": {},
   "outputs": [],
   "source": [
    "clean_tweets = pd.read_csv(\"my_clean_data.csv\")"
   ]
  },
  {
   "cell_type": "code",
   "execution_count": null,
   "id": "ee1ed824",
   "metadata": {},
   "outputs": [],
   "source": [
    "print('Count of columns in the data is:  ', len(tweets.columns))\n",
    "print('Count of rows in the data is:  ', len(tweets))"
   ]
  },
  {
   "cell_type": "code",
   "execution_count": null,
   "id": "db0d95ed",
   "metadata": {},
   "outputs": [],
   "source": []
  },
  {
   "cell_type": "code",
   "execution_count": null,
   "id": "5375d995",
   "metadata": {},
   "outputs": [],
   "source": [
    "tweets.groupby(\"original_author\").size().agg( ['count', 'min', 'max', 'mean', 'median'])"
   ]
  },
  {
   "cell_type": "code",
   "execution_count": null,
   "id": "bc1dbd6e",
   "metadata": {},
   "outputs": [],
   "source": []
  },
  {
   "cell_type": "code",
   "execution_count": null,
   "id": "0a7adb00",
   "metadata": {},
   "outputs": [],
   "source": [
    "twetter_users = tweets.groupby(\"original_author\").size()\n",
    "twetter_users.nlargest(5)"
   ]
  },
  {
   "cell_type": "code",
   "execution_count": null,
   "id": "bdc85f54",
   "metadata": {},
   "outputs": [],
   "source": []
  },
  {
   "cell_type": "code",
   "execution_count": null,
   "id": "e14c28f1",
   "metadata": {},
   "outputs": [],
   "source": []
  },
  {
   "cell_type": "code",
   "execution_count": null,
   "id": "e328448f",
   "metadata": {},
   "outputs": [],
   "source": [
    "tweets.groupby(\"device\").size().agg( ['count', 'min', 'max', 'mean', 'median'])"
   ]
  },
  {
   "cell_type": "code",
   "execution_count": null,
   "id": "53fbdeae",
   "metadata": {},
   "outputs": [],
   "source": []
  },
  {
   "cell_type": "code",
   "execution_count": null,
   "id": "3c9d3ca8",
   "metadata": {},
   "outputs": [],
   "source": [
    "tweets[\"score\"] = tweets[\"polarity\"].apply(ct.polarity_category)\n",
    "tweets.groupby(\"score\")[\"polarity\"].count()"
   ]
  },
  {
   "cell_type": "code",
   "execution_count": null,
   "id": "3dbac547",
   "metadata": {},
   "outputs": [],
   "source": []
  },
  {
   "cell_type": "code",
   "execution_count": null,
   "id": "06349587",
   "metadata": {},
   "outputs": [],
   "source": [
    "tweet_sent = tweets.groupby(['score']).sum()[[\"retweet_count\", \"favorite_count\", \"followers_count\", \"friends_count\"]]\n",
    "tweet_sent"
   ]
  },
  {
   "cell_type": "code",
   "execution_count": null,
   "id": "78c5d4f8",
   "metadata": {},
   "outputs": [],
   "source": []
  },
  {
   "cell_type": "code",
   "execution_count": null,
   "id": "7ec10f6d",
   "metadata": {},
   "outputs": [],
   "source": [
    "tweets[\"subjectivity_score\"] = tweets[\"subjectivity\"].apply(\n",
    "    ct.subjectivity_category)\n",
    "tweets.groupby(\"subjectivity_score\")[\"subjectivity\"].count()"
   ]
  },
  {
   "cell_type": "code",
   "execution_count": null,
   "id": "3d43bb70",
   "metadata": {},
   "outputs": [],
   "source": []
  },
  {
   "cell_type": "code",
   "execution_count": null,
   "id": "420c2e89",
   "metadata": {},
   "outputs": [],
   "source": [
    "tweet_sent = tweets.groupby(['subjectivity_score']).sum(\n",
    ")[[\"retweet_count\", \"favorite_count\", \"followers_count\", \"friends_count\"]]\n",
    "tweet_sent"
   ]
  },
  {
   "cell_type": "code",
   "execution_count": null,
   "id": "66c6f382",
   "metadata": {},
   "outputs": [],
   "source": []
  },
  {
   "cell_type": "code",
   "execution_count": null,
   "id": "bf1c70eb",
   "metadata": {},
   "outputs": [],
   "source": [
    "tweets_df = pd.DataFrame(columns=['hashtags', 'hashtags_in_tweets'])\n",
    "tweets_df['hashtags'] = tweets['hashtags'].apply(ct.string_to_array)\n",
    "tweets_df['hashtags_in_tweets'] = tweets['hashtags_in_tweets'].apply(\n",
    "    ct.string_to_array)\n",
    "tweets_df[:4]"
   ]
  },
  {
   "cell_type": "code",
   "execution_count": null,
   "id": "bd18ba6e",
   "metadata": {},
   "outputs": [],
   "source": []
  },
  {
   "cell_type": "code",
   "execution_count": null,
   "id": "5400a919",
   "metadata": {},
   "outputs": [],
   "source": []
  },
  {
   "cell_type": "code",
   "execution_count": null,
   "id": "3fc47e6b",
   "metadata": {},
   "outputs": [],
   "source": []
  },
  {
   "cell_type": "code",
   "execution_count": null,
   "id": "aa26fe8c",
   "metadata": {},
   "outputs": [],
   "source": []
  },
  {
   "cell_type": "markdown",
   "id": "285167fc",
   "metadata": {},
   "source": [
    "- follower based"
   ]
  },
  {
   "cell_type": "code",
   "execution_count": 39,
   "id": "6b24f224",
   "metadata": {},
   "outputs": [
    {
     "data": {
      "text/plain": [
       "1        252\n",
       "9        200\n",
       "40       200\n",
       "24       180\n",
       "0        157\n",
       "        ... \n",
       "7895      20\n",
       "40306     20\n",
       "181       10\n",
       "15654     10\n",
       "1207      10\n",
       "Name: followers_count, Length: 458, dtype: int64"
      ]
     },
     "execution_count": 39,
     "metadata": {},
     "output_type": "execute_result"
    }
   ],
   "source": [
    "feed_count = raw_data['followers_count'].value_counts()\n",
    "feed_count"
   ]
  },
  {
   "cell_type": "markdown",
   "id": "a632a350",
   "metadata": {},
   "source": [
    "- freinds based"
   ]
  },
  {
   "cell_type": "code",
   "execution_count": 40,
   "id": "410ebf9a",
   "metadata": {},
   "outputs": [
    {
     "data": {
      "text/plain": [
       "0        402\n",
       "36       257\n",
       "4        197\n",
       "1        188\n",
       "44       176\n",
       "        ... \n",
       "7892      20\n",
       "652       20\n",
       "4729      20\n",
       "41866     20\n",
       "640       10\n",
       "Name: friends_count, Length: 419, dtype: int64"
      ]
     },
     "execution_count": 40,
     "metadata": {},
     "output_type": "execute_result"
    }
   ],
   "source": [
    "feed_count = raw_data['friends_count'].value_counts()\n",
    "feed_count"
   ]
  },
  {
   "cell_type": "markdown",
   "id": "343975ca",
   "metadata": {},
   "source": [
    "- see the top authors"
   ]
  },
  {
   "cell_type": "code",
   "execution_count": 45,
   "id": "662695d8",
   "metadata": {},
   "outputs": [
    {
     "data": {
      "text/plain": [
       "SurabAliSekh3      50\n",
       "ozguryurduozler    50\n",
       "AlecH34748141      50\n",
       "ThHappyHawaiian    50\n",
       "pastexpiry         50\n",
       "                   ..\n",
       "ArchibaldBlume      7\n",
       "RulerDeadly         6\n",
       "electriccalcul1     2\n",
       "sarahtran1240       1\n",
       "indrase41218989     1\n",
       "Name: original_author, Length: 500, dtype: int64"
      ]
     },
     "execution_count": 45,
     "metadata": {},
     "output_type": "execute_result"
    }
   ],
   "source": [
    "feed_count = raw_data['original_author'].value_counts()\n",
    "feed_count"
   ]
  },
  {
   "cell_type": "code",
   "execution_count": 47,
   "id": "43e7fa34",
   "metadata": {},
   "outputs": [
    {
     "data": {
      "image/png": "[encoded data removed]",
      "text/plain": [
       "<Figure size 2160x720 with 1 Axes>"
      ]
     },
     "metadata": {
      "needs_background": "light"
     },
     "output_type": "display_data"
    }
   ],
   "source": [
    "feed_count = feed_count[:100,]\n",
    "plt.figure(figsize=(30,10))\n",
    "sns.barplot(feed_count.index , feed_count.values, alpha = 0.8)\n",
    "plt.title(\"Top 20 autors\")\n",
    "plt.ylabel('No of tweets', fontsize = 15)\n",
    "plt.xlabel('original_author', fontsize = 15)\n",
    "plt.xticks(rotation=70)\n",
    "plt.show()"
   ]
  },
  {
   "cell_type": "code",
   "execution_count": null,
   "id": "981d911b",
   "metadata": {},
   "outputs": [],
   "source": []
  },
  {
   "cell_type": "markdown",
   "id": "575e8b90",
   "metadata": {},
   "source": [
    "### 1. Explore The Data"
   ]
  }
 ],
 "metadata": {
  "kernelspec": {
   "display_name": "Python 3",
   "language": "python",
   "name": "python3"
  },
  "language_info": {
   "codemirror_mode": {
    "name": "ipython",
    "version": 3
   },
   "file_extension": ".py",
   "mimetype": "text/x-python",
   "name": "python",
   "nbconvert_exporter": "python",
   "pygments_lexer": "ipython3",
   "version": "3.8.8"
  }
 },
 "nbformat": 4,
 "nbformat_minor": 5
}
